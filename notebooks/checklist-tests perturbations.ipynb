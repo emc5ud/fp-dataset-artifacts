{
 "cells": [
  {
   "cell_type": "code",
   "execution_count": 1,
   "id": "128e32d0",
   "metadata": {},
   "outputs": [],
   "source": [
    "import checklist\n",
    "from checklist.editor import Editor\n",
    "from checklist.perturb import Perturb"
   ]
  },
  {
   "cell_type": "code",
   "execution_count": 2,
   "id": "2ab259df",
   "metadata": {},
   "outputs": [],
   "source": [
    "editor = Editor()\n"
   ]
  },
  {
   "cell_type": "code",
   "execution_count": 3,
   "id": "638448f0",
   "metadata": {},
   "outputs": [],
   "source": [
    "data = ['John is a very smart person, he lives in Ireland.',\n",
    "        'Mark Stewart was born and raised in Chicago',\n",
    "        'Luke Smith has 3 sisters.',\n",
    "        'Mary is not a nurse.',\n",
    "        'Julianne is an engineer.',\n",
    "        'My brother Andrew used to be a lawyer.']"
   ]
  },
  {
   "cell_type": "code",
   "execution_count": 4,
   "id": "1ceea9aa",
   "metadata": {},
   "outputs": [],
   "source": [
    "# simple regex substitutions can be used on words in the test set and training set. \n",
    "\n",
    "\n",
    "import re\n",
    "def change_professions(x, *args, **kwargs):\n",
    "    # Returns empty or a list of strings with profesions changed\n",
    "    professions = ['doctor', 'nurse', 'engineer', 'lawyer']\n",
    "    ret = []\n",
    "    for p in professions:\n",
    "        if re.search(r'\\b%s\\b' % p, x):\n",
    "            ret.extend([re.sub(r'\\b%s\\b' % p, p2, x) for p2 in professions if p != p2])\n",
    "    return ret"
   ]
  },
  {
   "cell_type": "code",
   "execution_count": 5,
   "id": "c891e4dc",
   "metadata": {},
   "outputs": [
    {
     "data": {
      "text/plain": [
       "['Mary is not a doctor.', 'Mary is not a engineer.', 'Mary is not a lawyer.']"
      ]
     },
     "execution_count": 5,
     "metadata": {},
     "output_type": "execute_result"
    }
   ],
   "source": [
    "change_professions(data[3])\n"
   ]
  },
  {
   "cell_type": "code",
   "execution_count": 6,
   "id": "0748facc",
   "metadata": {
    "scrolled": true
   },
   "outputs": [
    {
     "data": {
      "text/plain": [
       "[['Mary is not a nurse.',\n",
       "  'Mary is not a doctor.',\n",
       "  'Mary is not a engineer.',\n",
       "  'Mary is not a lawyer.'],\n",
       " ['Julianne is an engineer.',\n",
       "  'Julianne is an doctor.',\n",
       "  'Julianne is an nurse.',\n",
       "  'Julianne is an lawyer.'],\n",
       " ['My brother Andrew used to be a lawyer.',\n",
       "  'My brother Andrew used to be a doctor.',\n",
       "  'My brother Andrew used to be a nurse.',\n",
       "  'My brother Andrew used to be a engineer.']]"
      ]
     },
     "execution_count": 6,
     "metadata": {},
     "output_type": "execute_result"
    }
   ],
   "source": [
    "#perturb is basically a wrapper that applies your perturbations across elements. \n",
    "ret = Perturb.perturb(data, change_professions, keep_original=True)\n",
    "ret.data"
   ]
  },
  {
   "cell_type": "code",
   "execution_count": 17,
   "id": "89de1a42",
   "metadata": {},
   "outputs": [],
   "source": [
    "# can also keep metadata to keep track of what was changed!\n",
    "\n",
    "def change_professions(x, meta=False, *args, **kwargs):\n",
    "    # Returns empty or a list of strings with profesions changed\n",
    "    professions = ['doctor', 'nurse', 'engineer', 'lawyer']\n",
    "    ret = []\n",
    "    ret_meta = []\n",
    "    for p in professions:\n",
    "        if re.search(r'\\b%s\\b' % p, x):\n",
    "            ret.extend([re.sub(r'\\b%s\\b' % p, p2, x) for p2 in professions if p != p2])\n",
    "            ret_meta.extend([(p, p2) for p2 in professions if p != p2])\n",
    "    if meta:\n",
    "        return ret, ret_meta\n",
    "    else:\n",
    "        return ret"
   ]
  },
  {
   "cell_type": "code",
   "execution_count": 19,
   "id": "80133ca3",
   "metadata": {
    "scrolled": true
   },
   "outputs": [
    {
     "name": "stdout",
     "output_type": "stream",
     "text": [
      "Data\n",
      "[['My brother Andrew used to be a lawyer.', 'My brother Andrew used to be a doctor.', 'My brother Andrew used to be a nurse.', 'My brother Andrew used to be a engineer.']]\n",
      "Metadata\n",
      "[[None, ('lawyer', 'doctor'), ('lawyer', 'nurse'), ('lawyer', 'engineer')]]\n"
     ]
    }
   ],
   "source": [
    "ret = Perturb.perturb(data, change_professions, keep_original=True, nsamples=1, meta=True)\n",
    "print('Data')\n",
    "print(ret.data)\n",
    "print('Metadata')\n",
    "print(ret.meta)"
   ]
  },
  {
   "cell_type": "code",
   "execution_count": 4,
   "id": "99df5a44",
   "metadata": {},
   "outputs": [
    {
     "ename": "NameError",
     "evalue": "name 'data' is not defined",
     "output_type": "error",
     "traceback": [
      "\u001b[0;31m---------------------------------------------------------------------------\u001b[0m",
      "\u001b[0;31mNameError\u001b[0m                                 Traceback (most recent call last)",
      "\u001b[0;32m/tmp/ipykernel_609/2902717530.py\u001b[0m in \u001b[0;36m<module>\u001b[0;34m\u001b[0m\n\u001b[1;32m      2\u001b[0m \u001b[0mnlp\u001b[0m \u001b[0;34m=\u001b[0m \u001b[0mspacy\u001b[0m\u001b[0;34m.\u001b[0m\u001b[0mload\u001b[0m\u001b[0;34m(\u001b[0m\u001b[0;34m'en_core_web_sm'\u001b[0m\u001b[0;34m)\u001b[0m\u001b[0;34m\u001b[0m\u001b[0;34m\u001b[0m\u001b[0m\n\u001b[1;32m      3\u001b[0m \u001b[0;34m\u001b[0m\u001b[0m\n\u001b[0;32m----> 4\u001b[0;31m \u001b[0mpdata\u001b[0m \u001b[0;34m=\u001b[0m \u001b[0mlist\u001b[0m\u001b[0;34m(\u001b[0m\u001b[0mnlp\u001b[0m\u001b[0;34m.\u001b[0m\u001b[0mpipe\u001b[0m\u001b[0;34m(\u001b[0m\u001b[0mdata\u001b[0m\u001b[0;34m)\u001b[0m\u001b[0;34m)\u001b[0m\u001b[0;34m\u001b[0m\u001b[0;34m\u001b[0m\u001b[0m\n\u001b[0m",
      "\u001b[0;31mNameError\u001b[0m: name 'data' is not defined"
     ]
    }
   ],
   "source": [
    "import spacy\n",
    "nlp = spacy.load('en_core_web_sm')\n",
    "\n",
    "pdata = list(nlp.pipe(data))\n"
   ]
  },
  {
   "cell_type": "code",
   "execution_count": 21,
   "id": "5763aa4e",
   "metadata": {},
   "outputs": [
    {
     "data": {
      "text/plain": [
       "(John is a very smart person, he lives in Ireland.,\n",
       " 'John is a very smart person, he lives in Ireland')"
      ]
     },
     "execution_count": 21,
     "metadata": {},
     "output_type": "execute_result"
    }
   ],
   "source": [
    "pdata[0], Perturb.strip_punctuation(pdata[0])\n"
   ]
  },
  {
   "cell_type": "code",
   "execution_count": 22,
   "id": "c2a99f59",
   "metadata": {
    "scrolled": true
   },
   "outputs": [
    {
     "data": {
      "text/plain": [
       "('John is a very smart person, he lives in Ireland.',\n",
       " 'John is a very smrat person, he lives in Ireland.')"
      ]
     },
     "execution_count": 22,
     "metadata": {},
     "output_type": "execute_result"
    }
   ],
   "source": [
    "data[0], Perturb.add_typos(data[0])"
   ]
  },
  {
   "cell_type": "code",
   "execution_count": 23,
   "id": "b31f922d",
   "metadata": {},
   "outputs": [
    {
     "data": {
      "text/plain": [
       "('Mary is not a nurse.', \"Mary isn't a nurse.\")"
      ]
     },
     "execution_count": 23,
     "metadata": {},
     "output_type": "execute_result"
    }
   ],
   "source": [
    "data[3], Perturb.contract(data[3])\n"
   ]
  },
  {
   "cell_type": "code",
   "execution_count": 25,
   "id": "be8469d6",
   "metadata": {},
   "outputs": [
    {
     "data": {
      "text/plain": [
       "spacy.tokens.doc.Doc"
      ]
     },
     "execution_count": 25,
     "metadata": {},
     "output_type": "execute_result"
    }
   ],
   "source": [
    "type(pdata[0])"
   ]
  },
  {
   "cell_type": "code",
   "execution_count": 28,
   "id": "0cedeaca",
   "metadata": {
    "scrolled": true
   },
   "outputs": [
    {
     "data": {
      "text/plain": [
       "(John, Ireland)"
      ]
     },
     "execution_count": 28,
     "metadata": {},
     "output_type": "execute_result"
    }
   ],
   "source": [
    "pdata[0].ents"
   ]
  },
  {
   "cell_type": "code",
   "execution_count": 35,
   "id": "ffe1cb11",
   "metadata": {
    "scrolled": true
   },
   "outputs": [
    {
     "data": {
      "text/plain": [
       "(['Luke Smith has 3 sisters.',\n",
       "  'Luke Smith has 2 sisters.',\n",
       "  'Luke Smith has 4 sisters.',\n",
       "  'Luke Smith has 2 sisters.'],\n",
       " [None, ('3', '2'), ('3', '4'), ('3', '2')])"
      ]
     },
     "execution_count": 35,
     "metadata": {},
     "output_type": "execute_result"
    }
   ],
   "source": [
    "ret = Perturb.perturb(pdata,, nsamples=1, n=3, meta=True)\n",
    "ret.data[0], ret.meta[0]"
   ]
  },
  {
   "cell_type": "code",
   "execution_count": 44,
   "id": "4a6976ad",
   "metadata": {},
   "outputs": [
    {
     "data": {
      "text/plain": [
       "[['John is a very smart person, he lives in Ireland.',\n",
       "  \"John is a very smart person, he doesn't live in Ireland.\"],\n",
       " ['Mark Stewart was born and raised in Chicago',\n",
       "  'Mark Stewart was not born and raised in Chicago'],\n",
       " ['Luke Smith has 3 sisters.', \"Luke Smith doesn't have 3 sisters.\"],\n",
       " ['Julianne is an engineer.', 'Julianne is not an engineer.']]"
      ]
     },
     "execution_count": 44,
     "metadata": {},
     "output_type": "execute_result"
    }
   ],
   "source": [
    "ret = Perturb.perturb(pdata, Perturb.add_negation)\n",
    "ret.data"
   ]
  },
  {
   "cell_type": "code",
   "execution_count": 50,
   "id": "6c20aeab",
   "metadata": {},
   "outputs": [
    {
     "data": {
      "text/plain": [
       "[['John is a very smart person, he lives in Ireland.',\n",
       "  \"John is a very smart person, he doesn't live in Ireland.\"],\n",
       " ['Mark Stewart was born and raised in Chicago',\n",
       "  'Mark Stewart was not born and raised in Chicago'],\n",
       " ['Luke Smith has 3 sisters.', \"Luke Smith doesn't have 3 sisters.\"],\n",
       " ['Julianne is an engineer.', 'Julianne is not an engineer.']]"
      ]
     },
     "execution_count": 50,
     "metadata": {},
     "output_type": "execute_result"
    }
   ],
   "source": [
    "# we can try to add negations on both or just one of the examples\n",
    "\n",
    "\n",
    "ret = Perturb.perturb(pdata, Perturb.add_negation)\n",
    "ret.data"
   ]
  },
  {
   "cell_type": "code",
   "execution_count": 9,
   "id": "a044aa51",
   "metadata": {},
   "outputs": [
    {
     "name": "stdout",
     "output_type": "stream",
     "text": [
      "This is not good\n",
      "This is good\n",
      "\n",
      "He didn't play the guitar\n",
      "He played the guitar\n",
      "\n",
      "He doesn't play anything\n",
      "He plays anything\n",
      "\n",
      "She wasn't sad\n",
      "She was sad\n",
      "\n"
     ]
    }
   ],
   "source": [
    "# idea: train an ML model that auto generates negations (since this perturbation doesn't work too well)\n",
    "\n",
    "\n",
    "\n",
    "for t in ['This is not good', 'He didn\\'t play the guitar', 'He doesn\\'t play anything', 'She wasn\\'t sad']:\n",
    "    print(t)\n",
    "    print(Perturb.remove_negation(nlp(t)))\n",
    "    print()"
   ]
  },
  {
   "cell_type": "code",
   "execution_count": null,
   "id": "0d232d79",
   "metadata": {},
   "outputs": [],
   "source": []
  }
 ],
 "metadata": {
  "kernelspec": {
   "display_name": "Python 3 (ipykernel)",
   "language": "python",
   "name": "python3"
  },
  "language_info": {
   "codemirror_mode": {
    "name": "ipython",
    "version": 3
   },
   "file_extension": ".py",
   "mimetype": "text/x-python",
   "name": "python",
   "nbconvert_exporter": "python",
   "pygments_lexer": "ipython3",
   "version": "3.8.10"
  }
 },
 "nbformat": 4,
 "nbformat_minor": 5
}
