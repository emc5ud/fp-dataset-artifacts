{
 "cells": [
  {
   "cell_type": "code",
   "execution_count": 72,
   "metadata": {},
   "outputs": [],
   "source": [
    "import checklist\n",
    "from checklist.editor import Editor\n",
    "from checklist.perturb import Perturb\n",
    "from checklist.test_types import MFT, INV, DIR\n",
    "from checklist.test_suite import TestSuite\n",
    "from checklist.expect import Expect\n",
    "from tqdm import tqdm\n",
    "import itertools"
   ]
  },
  {
   "cell_type": "code",
   "execution_count": 2,
   "metadata": {},
   "outputs": [],
   "source": [
    "import sys\n",
    "import spacy\n",
    "import numpy as np\n",
    "processor = spacy.load('en_core_web_sm')\n",
    "\n",
    "from transformers import pipeline, AutoTokenizer, AutoModelForSequenceClassification\n",
    "import torch"
   ]
  },
  {
   "cell_type": "code",
   "execution_count": 3,
   "metadata": {},
   "outputs": [],
   "source": [
    "model_path = '../trained_model_snli/'\n",
    "model = AutoModelForSequenceClassification.from_pretrained(model_path)\n",
    "tokenizer = AutoTokenizer.from_pretrained(model_path, use_fast=True)\n"
   ]
  },
  {
   "cell_type": "code",
   "execution_count": 4,
   "metadata": {},
   "outputs": [],
   "source": [
    "from transformers import pipeline"
   ]
  },
  {
   "cell_type": "code",
   "execution_count": 5,
   "metadata": {},
   "outputs": [
    {
     "data": {
      "text/plain": [
       "'4.12.5'"
      ]
     },
     "execution_count": 5,
     "metadata": {},
     "output_type": "execute_result"
    }
   ],
   "source": [
    "import transformers\n",
    "transformers.__version__"
   ]
  },
  {
   "cell_type": "code",
   "execution_count": 6,
   "metadata": {},
   "outputs": [],
   "source": [
    "pipe = pipeline('text-classification', model=model,\n",
    "                        tokenizer=tokenizer, device=0)\n",
    "pipe_all = pipeline('text-classification', model=model,\n",
    "                        tokenizer=tokenizer, device=0, return_all_scores=True)"
   ]
  },
  {
   "cell_type": "code",
   "execution_count": 7,
   "metadata": {},
   "outputs": [
    {
     "name": "stderr",
     "output_type": "stream",
     "text": [
      "Reusing dataset snli (/home/eric/.cache/huggingface/datasets/snli/plain_text/1.0.0/1f60b67533b65ae0275561ff7828aad5ee4282d0e6f844fd148d05d3c6ea251b)\n"
     ]
    },
    {
     "data": {
      "text/html": [
       "<div>\n",
       "<style scoped>\n",
       "    .dataframe tbody tr th:only-of-type {\n",
       "        vertical-align: middle;\n",
       "    }\n",
       "\n",
       "    .dataframe tbody tr th {\n",
       "        vertical-align: top;\n",
       "    }\n",
       "\n",
       "    .dataframe thead th {\n",
       "        text-align: right;\n",
       "    }\n",
       "</style>\n",
       "<table border=\"1\" class=\"dataframe\">\n",
       "  <thead>\n",
       "    <tr style=\"text-align: right;\">\n",
       "      <th></th>\n",
       "      <th>premise</th>\n",
       "      <th>hypothesis</th>\n",
       "      <th>label</th>\n",
       "    </tr>\n",
       "  </thead>\n",
       "  <tbody>\n",
       "    <tr>\n",
       "      <th>0</th>\n",
       "      <td>Two women are embracing while holding to go pa...</td>\n",
       "      <td>The sisters are hugging goodbye while holding ...</td>\n",
       "      <td>1</td>\n",
       "    </tr>\n",
       "    <tr>\n",
       "      <th>1</th>\n",
       "      <td>Two women are embracing while holding to go pa...</td>\n",
       "      <td>Two woman are holding packages.</td>\n",
       "      <td>0</td>\n",
       "    </tr>\n",
       "    <tr>\n",
       "      <th>2</th>\n",
       "      <td>Two women are embracing while holding to go pa...</td>\n",
       "      <td>The men are fighting outside a deli.</td>\n",
       "      <td>2</td>\n",
       "    </tr>\n",
       "    <tr>\n",
       "      <th>3</th>\n",
       "      <td>Two young children in blue jerseys, one with t...</td>\n",
       "      <td>Two kids in numbered jerseys wash their hands.</td>\n",
       "      <td>0</td>\n",
       "    </tr>\n",
       "    <tr>\n",
       "      <th>4</th>\n",
       "      <td>Two young children in blue jerseys, one with t...</td>\n",
       "      <td>Two kids at a ballgame wash their hands.</td>\n",
       "      <td>1</td>\n",
       "    </tr>\n",
       "  </tbody>\n",
       "</table>\n",
       "</div>"
      ],
      "text/plain": [
       "                                             premise  \\\n",
       "0  Two women are embracing while holding to go pa...   \n",
       "1  Two women are embracing while holding to go pa...   \n",
       "2  Two women are embracing while holding to go pa...   \n",
       "3  Two young children in blue jerseys, one with t...   \n",
       "4  Two young children in blue jerseys, one with t...   \n",
       "\n",
       "                                          hypothesis  label  \n",
       "0  The sisters are hugging goodbye while holding ...      1  \n",
       "1                    Two woman are holding packages.      0  \n",
       "2               The men are fighting outside a deli.      2  \n",
       "3     Two kids in numbered jerseys wash their hands.      0  \n",
       "4           Two kids at a ballgame wash their hands.      1  "
      ]
     },
     "execution_count": 7,
     "metadata": {},
     "output_type": "execute_result"
    }
   ],
   "source": [
    "from datasets import load_dataset\n",
    "\n",
    "dev_dataset = load_dataset('snli', split='validation')\n",
    "dev_df = dev_dataset.to_pandas()\n",
    "dev_df.head()"
   ]
  },
  {
   "cell_type": "code",
   "execution_count": 8,
   "metadata": {},
   "outputs": [],
   "source": [
    "parsed_qs = [(row.premise, row.hypothesis) for _, row in dev_df.iterrows()]"
   ]
  },
  {
   "cell_type": "markdown",
   "metadata": {},
   "source": [
    "Preprocess all the questions with spacy. This may take sometime."
   ]
  },
  {
   "cell_type": "code",
   "execution_count": 9,
   "metadata": {},
   "outputs": [
    {
     "name": "stderr",
     "output_type": "stream",
     "text": [
      "10000it [00:09, 1002.23it/s]\n",
      "10000it [00:06, 1565.96it/s]\n"
     ]
    }
   ],
   "source": [
    "processed_p = list(tqdm(processor.pipe(dev_df.premise, batch_size=64)))\n",
    "processed_h = list(tqdm(processor.pipe(dev_df.hypothesis, batch_size=64)))\n",
    "parsed_qs_spacy = [(p, q) for (p, q) in zip(processed_p, processed_h)]"
   ]
  },
  {
   "cell_type": "code",
   "execution_count": 10,
   "metadata": {},
   "outputs": [
    {
     "data": {
      "text/plain": [
       "(Two women are embracing while holding to go packages.,\n",
       " The sisters are hugging goodbye while holding to go packages after just eating lunch.)"
      ]
     },
     "execution_count": 10,
     "metadata": {},
     "output_type": "execute_result"
    }
   ],
   "source": [
    "parsed_qs_spacy[0]"
   ]
  },
  {
   "cell_type": "markdown",
   "metadata": {},
   "source": [
    "# Top-Down approach: the CheckList matrix"
   ]
  },
  {
   "cell_type": "markdown",
   "metadata": {},
   "source": [
    "## Capabilities x Test Types"
   ]
  },
  {
   "cell_type": "markdown",
   "metadata": {},
   "source": [
    "In tutorial #3, we talked about specific test types.  \n",
    "In order to guide test ideation, it's useful to think of CheckList as a matrix of Capabilities x Test Types.  \n",
    "*Capabilities* refers to general-purpose linguistic capabilities, which manifest in one way or another in almost any NLP application.   \n",
    "We suggest that anyone CheckListing a model go through *at least* the following capabilities, trying to create MFTs, INVs, and DIRs for each if possible.\n",
    "1. **Vocabulary + POS:** important words or groups of words (by part-of-speech) for the task\n",
    "2. **Taxonomy**: synonyms, antonyms, word categories, etc\n",
    "3. **Robustness**: to typos, irrelevant additions, contractions, etc\n",
    "4. **Named Entity Recognition (NER)**: person names, locations, numbers, etc\n",
    "5. **Fairness**\n",
    "6. **Temporal understanding**: understanding order of events and how they impact the task\n",
    "7. **Negation**\n",
    "8. **Coreference** \n",
    "9. **Semantic Role Labeling (SRL)**: understanding roles such as agent, object, passive/active, etc\n",
    "10. **Logic**: symmetry, consistency, conjunctions, disjunctions, etc\n",
    "\n",
    "Notice that we are framing this as very top-down approach: you start with a list of capabilities and try to think of what kinds of tests can be created, based on the three test types. We'll talk about how to incorporate some bottom-up thinking later on."
   ]
  },
  {
   "cell_type": "markdown",
   "metadata": {},
   "source": [
    "We won't try to create tests for **all** of these capabilities (but we do have notebooks with tests for all of them in the repo), just one as an example. \n",
    "Anyway, let's create a test suite (used to save and aggregate tests):"
   ]
  },
  {
   "cell_type": "code",
   "execution_count": 11,
   "metadata": {},
   "outputs": [],
   "source": [
    "suite = TestSuite()\n",
    "editor = Editor()"
   ]
  },
  {
   "cell_type": "markdown",
   "metadata": {},
   "source": [
    "## Capability: NER"
   ]
  },
  {
   "cell_type": "markdown",
   "metadata": {},
   "source": [
    "Let's start with the NER capability.  \n",
    "How do named entities impact duplicate question detection? \n"
   ]
  },
  {
   "cell_type": "code",
   "execution_count": 12,
   "metadata": {},
   "outputs": [
    {
     "name": "stdout",
     "output_type": "stream",
     "text": [
      "1\n"
     ]
    },
    {
     "data": {
      "text/plain": [
       "('Two women are embracing while holding to go packages.',\n",
       " 'The sisters are hugging goodbye while holding to go packages after just eating lunch.')"
      ]
     },
     "execution_count": 12,
     "metadata": {},
     "output_type": "execute_result"
    }
   ],
   "source": [
    "i = 0\n",
    "print(dev_df.iloc[i].label)\n",
    "parsed_qs[i]"
   ]
  },
  {
   "cell_type": "markdown",
   "metadata": {},
   "source": [
    "### MFT\n",
    "It seems that the model should be able to label as contradiction when name is changed.   \n",
    "Let's write an MFT where we have two people that have the same last name, but different first names.  \n",
    "Instead of running the test now, we'll add it to the suite and run all tests later."
   ]
  },
  {
   "cell_type": "code",
   "execution_count": 13,
   "metadata": {},
   "outputs": [
    {
     "name": "stderr",
     "output_type": "stream",
     "text": [
      "/home/eric/anaconda3/lib/python3.7/site-packages/checklist/text_generation.py:171: UserWarning: Creating a tensor from a list of numpy.ndarrays is extremely slow. Please consider converting the list to a single numpy.ndarray with numpy.array() before converting to a tensor. (Triggered internally at  ../torch/csrc/utils/tensor_new.cpp:201.)\n",
      "  to_pred = torch.tensor(to_pred, device=self.device).to(torch.int64)\n"
     ]
    },
    {
     "name": "stdout",
     "output_type": "stream",
     "text": [
      "('Robin Perry is staying at home', 'Julia Perry is staying at home')\n",
      "('Grace Ross is not at Disneyland', 'Rebecca Ross is not at Disneyland')\n"
     ]
    }
   ],
   "source": [
    "t = editor.template((\n",
    "    '{first_name} {last_name} is {mask} at {mask}',\n",
    "    '{first_name2} {last_name} is {mask} at {mask}',\n",
    "    ),\n",
    "    remove_duplicates=True, \n",
    "    nsamples=300)\n",
    "test = MFT(**t, labels=2, name='same adjectives, different people', capability = 'NER',\n",
    "           description='Different first name, same adjective and last name')\n",
    "suite.add(test, overwrite=True)\n",
    "print(t.data[0])\n",
    "print(t.data[1])"
   ]
  },
  {
   "cell_type": "code",
   "execution_count": 13,
   "metadata": {},
   "outputs": [
    {
     "name": "stderr",
     "output_type": "stream",
     "text": [
      "/home/eric/anaconda3/lib/python3.7/site-packages/checklist/text_generation.py:171: UserWarning: Creating a tensor from a list of numpy.ndarrays is extremely slow. Please consider converting the list to a single numpy.ndarray with numpy.array() before converting to a tensor. (Triggered internally at  ../torch/csrc/utils/tensor_new.cpp:201.)\n",
      "  to_pred = torch.tensor(to_pred, device=self.device).to(torch.int64)\n"
     ]
    },
    {
     "name": "stdout",
     "output_type": "stream",
     "text": [
      "('Jason likes to do chores in advance', 'Jason does not like to do chores in advance')\n",
      "('Alice likes to do dishes in public', 'Alice does not like to do dishes in public')\n"
     ]
    }
   ],
   "source": [
    "t = editor.template(('{first_name} likes to do {mask} in {mask}', '{first_name} does not like to do {mask} in {mask}'),\n",
    "                remove_duplicates=True, \n",
    "                nsamples=300)\n",
    "test = MFT(**t, labels=2, name='Negation contradiction', description='', capability='Negation')\n",
    "suite.add(test, overwrite=True)\n",
    "print(t.data[0])\n",
    "print(t.data[1])"
   ]
  },
  {
   "cell_type": "markdown",
   "metadata": {},
   "source": [
    "### INV\n",
    "If you have two questions with the same named entity, changing the entity on both should not change whether the questions are duplicates or not.  \n",
    "Let's write an INV for this."
   ]
  },
  {
   "cell_type": "markdown",
   "metadata": {},
   "source": [
    "Since we are dealing with pairs of questions, we have to write a wrapper to make sure the same name is changed on both:"
   ]
  },
  {
   "cell_type": "code",
   "execution_count": 14,
   "metadata": {},
   "outputs": [
    {
     "data": {
      "text/plain": [
       "['Two women having drinks with women and smoking cigarettes at the bar.',\n",
       " 'Two men having drinks with men and smoking cigarettes at the bar.']"
      ]
     },
     "execution_count": 14,
     "metadata": {},
     "output_type": "execute_result"
    }
   ],
   "source": [
    "import re\n",
    "def change_gender(text):\n",
    "    # not perfect... there is some ambiguity in that her -> his or him depending on context\n",
    "    female_words = ['woman', 'women', 'she', 'her', 'hers', 'girl', 'girls', 'sister',  'sisters',  'daughter', 'daughters']\n",
    "    male_words   = ['man',   'men',   'he',  'him', 'his',  'boy',  'boys',  'brother', 'brothers', 'son',      'sons']\n",
    "    \n",
    "    # completely swapping gender doesn't work yet. \n",
    "    ret = []\n",
    "    for i, word in enumerate(male_words):\n",
    "        swapped = re.sub(r'\\b%s\\b' % word, female_words[i], text, flags=re.I)\n",
    "        if swapped != text:\n",
    "            ret += [swapped]\n",
    "    for i, word in enumerate(female_words):\n",
    "        swapped = re.sub(r'\\b%s\\b' % word, male_words[i], text, flags=re.I)\n",
    "        if swapped != text:\n",
    "            ret += [swapped]\n",
    "    return ret\n",
    "\n",
    "change_gender(\"Two women having drinks with men and smoking cigarettes at the bar.\")"
   ]
  },
  {
   "cell_type": "code",
   "execution_count": 27,
   "metadata": {
    "scrolled": true
   },
   "outputs": [],
   "source": [
    "def change_gender_on_both(qs):\n",
    "    q1, q2 = qs\n",
    "    c1 = change_gender(q1.text)\n",
    "    c2 = change_gender(q2.text)\n",
    "    # to keep things simple, test only where single gender swapped sentence is generated\n",
    "    if len(c1) == 1 and len(c2) == 1:\n",
    "        return [(q1, q2) for q1, q2 in zip(c1, c2)]\n",
    "    else:\n",
    "        return "
   ]
  },
  {
   "cell_type": "code",
   "execution_count": 28,
   "metadata": {},
   "outputs": [
    {
     "name": "stdout",
     "output_type": "stream",
     "text": [
      "[('A man is a safety suit walking outside while another man in a dark suit walks into a building.', 'Men are sitting in the park.'), ('A woman is a safety suit walking outside while another woman in a dark suit walks into a building.', 'women are sitting in the park.')]\n"
     ]
    }
   ],
   "source": [
    "t = Perturb.perturb(parsed_qs_spacy, change_gender_on_both, nsamples=200)\n",
    "test = INV(**t, name='Change gender in both', capability='NER',\n",
    "          description='')\n",
    "# test.run(new_pp)\n",
    "# test.summary(3)\n",
    "suite.add(test, overwrite=True)\n",
    "print(t.data[0])\n",
    "#print(t.data[0])"
   ]
  },
  {
   "cell_type": "markdown",
   "metadata": {},
   "source": [
    "### DIR\n",
    "Conversely, if an entity is present on a pair the model predicts as a duplicate and we change it to something else on *only one* of the sentences, the prediction should change to non-duplicate.  \n",
    "Let's write this as a DIR test:"
   ]
  },
  {
   "cell_type": "code",
   "execution_count": 30,
   "metadata": {},
   "outputs": [],
   "source": [
    "def change_gender_on_one(qs):\n",
    "    q1, q2 = qs\n",
    "    c1 = change_gender(q1.text)\n",
    "    c2 = change_gender(q2.text)\n",
    "    # there needs to be gendered word in both\n",
    "    if len(c1) == 1 and len(c2) == 1:\n",
    "        ret = []\n",
    "        ret.extend([(c1[0], str(q2))])\n",
    "        ret.extend([(str(q1), c2[0])])\n",
    "        return ret\n",
    "    return []"
   ]
  },
  {
   "cell_type": "markdown",
   "metadata": {},
   "source": [
    "We'll write an expectation function in two steps.  \n",
    "First, we want the prediction to be 0.  \n",
    "Second, we only want to include examples where the original prediction is one. We do this with a slice wrapper:"
   ]
  },
  {
   "cell_type": "code",
   "execution_count": 31,
   "metadata": {},
   "outputs": [],
   "source": [
    "# we want changes to make the case go towards 2 (contradiction). \n",
    "expect_fn = Expect.eq(2)\n",
    "expect_fn = Expect.slice_orig(expect_fn, lambda orig, *args: orig != 2)\n"
   ]
  },
  {
   "cell_type": "markdown",
   "metadata": {},
   "source": [
    "Let's put it all together into a test:"
   ]
  },
  {
   "cell_type": "code",
   "execution_count": 34,
   "metadata": {},
   "outputs": [
    {
     "name": "stdout",
     "output_type": "stream",
     "text": [
      "('One boy sitting off to the side all alone.', 'A little boy is sitting alone at the park.')\n",
      "('One girl sitting off to the side all alone.', 'A little boy is sitting alone at the park.')\n",
      "('One boy sitting off to the side all alone.', 'A little girl is sitting alone at the park.')\n"
     ]
    }
   ],
   "source": [
    "t = Perturb.perturb(parsed_qs_spacy, change_gender_on_one, nsamples=200)\n",
    "name = 'Change gender in one of the questions'\n",
    "desc = 'Take non-contradictions. Change gender in one to make contradictions.'\n",
    "test = DIR(**t, expect=expect_fn, name=name, description=desc, capability='NER')\n",
    "suite.add(test, overwrite=True)\n",
    "print(t.data[0][0])\n",
    "print(t.data[0][1])\n",
    "print(t.data[0][2])"
   ]
  },
  {
   "cell_type": "markdown",
   "metadata": {},
   "source": [
    "# Running the suite, seeing results"
   ]
  },
  {
   "cell_type": "markdown",
   "metadata": {},
   "source": [
    "When running the prediction, the Huggingface pipeline returns a dict with predicted label and probability:"
   ]
  },
  {
   "cell_type": "markdown",
   "metadata": {},
   "source": [
    "We write a simple wrapper to make the output compatible with CheckList:"
   ]
  },
  {
   "cell_type": "code",
   "execution_count": 37,
   "metadata": {},
   "outputs": [],
   "source": [
    "def pred_and_conf(data):\n",
    "    data = [[d] for d in data]\n",
    "    raw_preds = pipe_all(data)\n",
    "    pp = np.array([[p[0]['score'], p[1]['score'], p[2]['score']] for p in raw_preds])\n",
    "    preds = np.argmax(pp, axis=1)\n",
    "    return preds, pp"
   ]
  },
  {
   "cell_type": "code",
   "execution_count": 38,
   "metadata": {},
   "outputs": [
    {
     "name": "stdout",
     "output_type": "stream",
     "text": [
      "Running Negation contradiction\n",
      "Predicting 300 examples\n",
      "Running Change gender in both\n",
      "Predicting 400 examples\n",
      "Running Change gender in one of the questions\n",
      "Predicting 600 examples\n"
     ]
    }
   ],
   "source": [
    "suite.run(pred_and_conf, overwrite=True)"
   ]
  },
  {
   "cell_type": "markdown",
   "metadata": {},
   "source": [
    "We can see a (text) summary of the results by calling `suite.summary()`"
   ]
  },
  {
   "cell_type": "code",
   "execution_count": 39,
   "metadata": {},
   "outputs": [
    {
     "name": "stdout",
     "output_type": "stream",
     "text": [
      "NER\n",
      "\n",
      "Change gender in both\n",
      "Test cases:      200\n",
      "Fails (rate):    1 (0.5%)\n",
      "\n",
      "Example fails:\n",
      "0.0 0.9 0.1 ('A man in a green, black, and white spandex sports uniform is riding a bike.', \"A guy isn't afraid to fall down and spoiled his bright uniform.\")\n",
      "0.0 0.1 0.9 ('A woman in a green, black, and white spandex sports uniform is riding a bike.', \"A guy isn't afraid to fall down and spoiled hers bright uniform.\")\n",
      "\n",
      "----\n",
      "\n",
      "\n",
      "Change gender in one of the questions\n",
      "Test cases:      200\n",
      "After filtering: 142 (71.0%)\n",
      "Fails (rate):    10 (7.0%)\n",
      "\n",
      "Example fails:\n",
      "0.9 0.0 0.0 ('A pregnant lady singing on stage while holding a flag behind her.', 'A woman is making music.')\n",
      "1.0 0.0 0.0 ('A pregnant lady singing on stage while holding a flag behind him.', 'A woman is making music.')\n",
      "\n",
      "----\n",
      "0.9 0.1 0.0 ('Golfer celebrates after a shot he has made.', 'An athlete has just made a shot with his golf club.')\n",
      "0.3 0.4 0.3 ('Golfer celebrates after a shot he has made.', 'An athlete has just made a shot with hers golf club.')\n",
      "\n",
      "----\n",
      "0.0 1.0 0.0 ('A guy wearing a black shirt and gray pants pushing his shopping cart past a candy aisle of a Walmart.', 'An old man is buying some chocolate.')\n",
      "0.0 1.0 0.0 ('A guy wearing a black shirt and gray pants pushing hers shopping cart past a candy aisle of a Walmart.', 'An old man is buying some chocolate.')\n",
      "\n",
      "----\n",
      "\n",
      "\n",
      "\n",
      "\n",
      "Negation\n",
      "\n",
      "Negation contradiction\n",
      "Test cases:      300\n",
      "Fails (rate):    0 (0.0%)\n",
      "\n",
      "\n",
      "\n",
      "\n"
     ]
    }
   ],
   "source": [
    "suite.summary()"
   ]
  },
  {
   "cell_type": "markdown",
   "metadata": {},
   "source": [
    "Or if we're using jupyter, we can use a nifty visualization that has all of the tests we created in a matrix.  \n",
    "You can navigate the matrix and see results for individual tests (*The screenshot below is based on our locally finetuned model, so the numbers may not match with your results.*)."
   ]
  },
  {
   "cell_type": "code",
   "execution_count": 35,
   "metadata": {
    "scrolled": false
   },
   "outputs": [
    {
     "name": "stdout",
     "output_type": "stream",
     "text": [
      "Please wait as we prepare the table data...\n"
     ]
    },
    {
     "data": {
      "application/vnd.jupyter.widget-view+json": {
       "model_id": "ce79033a69e242758f7a258d745debd4",
       "version_major": 2,
       "version_minor": 0
      },
      "text/plain": [
       "SuiteSummarizer(stats={'npassed': 0, 'nfailed': 0, 'nfiltered': 0}, test_infos=[{'name': 'same adjectives, dif…"
      ]
     },
     "metadata": {},
     "output_type": "display_data"
    }
   ],
   "source": [
    "# from IPython.display import HTML, Image\n",
    "# with open('visual_table_summary.gif','rb') as f:\n",
    "#     display(Image(data=f.read(), format='png'))\n",
    "suite.visual_summary_table()"
   ]
  },
  {
   "cell_type": "markdown",
   "metadata": {},
   "source": [
    "## Taxonomy"
   ]
  },
  {
   "cell_type": "markdown",
   "metadata": {},
   "source": [
    "Let's create a few additional tests for the Taxonomy capability"
   ]
  },
  {
   "cell_type": "code",
   "execution_count": 46,
   "metadata": {},
   "outputs": [
    {
     "name": "stdout",
     "output_type": "stream",
     "text": [
      "('educated', 'enlightened'), ('human', 'man'), ('careful', 'deliberate', 'measured'), ('popular', 'democratic'), ('efficient', 'effective'), ('fit', 'set'), ('strict', 'rigid', 'stern', 'rigorous'), ('suspicious', 'funny', 'shady', 'suspect', 'wary'), ('active', 'dynamic', 'alive'), ('lonely', 'alone', 'solitary'), ('comfortable', 'prosperous', 'easy'), ('tolerant', 'liberal', 'resistant', 'kind', 'broad'), ('quiet', 'restrained', 'calm', 'subdued', 'muted', 'still', 'smooth'), ('decisive', 'critical'), ('emotional', 'excited'), ('fluent', 'fluid', 'liquid', 'smooth'), ('artistic', 'aesthetic'), ('depressed', 'blue', 'grim'), ('polite', 'civilized', 'civil', 'cultured'), ('religious', 'spiritual'), ('skinny', 'close'), ('passive', 'peaceful'), ('fat', 'productive', 'rich', 'fatty', 'fertile'), ('nervous', 'anxious', 'uneasy'), ('spiritual', 'religious'), ('drunk', 'intoxicated'), ('healthy', 'intelligent', 'respectable', 'tidy', 'sound'), ('competitive', 'militant'), ('outspoken', 'vocal', 'blunt', 'frank', 'candid'), ('focused', 'center'), ('rude', 'crude', 'natural', 'primitive'), ('agile', 'quick'), ('liberal', 'tolerant', 'progressive', 'handsome', 'free', 'giving'), ('mobile', 'fluid'), ('radical', 'revolutionary', 'extremist'), ('militant', 'competitive', 'activist'), ('distracted', 'trouble'), ('flexible', 'compromising', 'elastic'), ('dramatic', 'spectacular'), ('understanding', 'savvy', 'read', 'understand'), ('attentive', 'thoughtful'), ('peaceful', 'passive'), ('open', 'clear', 'capable', 'overt', 'candid', 'receptive', 'exposed', 'outdoors', 'loose'), ('grounded', 'prime', 'found'), ('cautious', 'conservative', 'timid'), ('reliable', 'authentic', 'honest', 'true'), ('thoughtful', 'attentive'), ('available', 'usable'), ('humble', 'modest', 'small'), ('confident', 'positive')\n"
     ]
    }
   ],
   "source": [
    "tmp = []\n",
    "x = editor.suggest('He is trying to become more {mask}.')\n",
    "x += editor.suggest('He is trying to become less {mask}.')\n",
    "for a in set(x):\n",
    "    e = editor.synonyms('He is trying to become {moreless} %s?' % a, a, moreless=['more', 'less'])\n",
    "    if e:\n",
    "#         print(a, [b[0][0] for b in e] )\n",
    "        tmp.append([a] + e)\n",
    "#         opps.append((a, e[0][0][0]))\n",
    "print(', '.join([str(tuple(x)) for x in tmp][:50]))"
   ]
  },
  {
   "cell_type": "markdown",
   "metadata": {},
   "source": [
    "Out of all of those, let's pick a few:"
   ]
  },
  {
   "cell_type": "code",
   "execution_count": 47,
   "metadata": {},
   "outputs": [],
   "source": [
    "synonyms = [ ('spiritual', 'religious'), ('angry', 'furious'), ('radical', 'revolutionary'),\n",
    "            ('vocal', 'outspoken'), ('grateful', 'thankful'), ('intelligent', 'smart'),\n",
    "            ('humble', 'modest'), ('courageous', 'brave'), ('happy', 'joyful'), ('scared', 'frightened'),\n",
    "            ('strict', 'rigid'), ('careful', 'measured')\n",
    "           ]\n",
    "\n",
    "\n",
    "antonyms = [('progressive', 'conservative'),('religious', 'secular'),('positive', 'negative'),\n",
    "            ('defensive', 'offensive'),('rude',  'polite'),('optimistic', 'pessimistic'),\n",
    "            ('stupid', 'smart'),('negative', 'positive'),('unhappy', 'happy'),('active', 'passive'),\n",
    "            ('impatient', 'patient'),('powerless', 'powerful'),('visible', 'invisible'),('fat', 'thin'),\n",
    "            ('bad', 'good'),('cautious', 'brave'), ('hopeful', 'hopeless'),('insecure', 'secure'),\n",
    "            ('humble', 'proud'),('passive', 'active'),('dependent', 'independent'),('pessimistic', 'optimistic'),\n",
    "            ('irresponsible', 'responsible'),('courageous', 'fearful')]"
   ]
  },
  {
   "cell_type": "markdown",
   "metadata": {},
   "source": [
    "With these, we can create a simple MFT, where we expect the model to recognize these synonyms.  \n"
   ]
  },
  {
   "cell_type": "code",
   "execution_count": 53,
   "metadata": {},
   "outputs": [],
   "source": [
    "# moreless {synonym} should be contradiction\n",
    "\n",
    "t = editor.template([\n",
    "    (\n",
    "    '{first_name} wants to be more {x[0]}?',\n",
    "    '{first_name} wants to be less {x[1]}?'\n",
    "    ),\n",
    "      (\n",
    "    '{first_name} wants to be less {x[0]}?',\n",
    "    '{first_name} wants to be more {x[1]}?'\n",
    "    )\n",
    "    ],\n",
    "    unroll=True,\n",
    "    x=synonyms,\n",
    "    remove_duplicates=True, \n",
    "    nsamples=200)\n",
    "name = 'wants to be more/less {synonym}?' \n",
    "desc = 'different (simple) templates where words are replaced with their synonyms'\n",
    "test = MFT(**t, labels=2, name=name, capability = 'Taxonomy',\n",
    "          description=desc)\n",
    "suite.add(test, overwrite=True)\n",
    "\n",
    "\n",
    "\n",
    "# moreless {antonym} should be entailment\n",
    "t = editor.template([\n",
    "    (\n",
    "    '{first_name} wants to be more {x[0]}',\n",
    "    '{first_name} wants to be less {x[1]}'\n",
    "    ),\n",
    "      (\n",
    "    '{first_name} wants to be less {x[0]}',\n",
    "    '{first_name} wants to be more {x[1]}'\n",
    "    )\n",
    "    ],\n",
    "    unroll=True,\n",
    "    x=antonyms,\n",
    "    remove_duplicates=True, \n",
    "    nsamples=200)\n",
    "name = 'wants to be more/less {antonym}?' \n",
    "desc = 'different (simple) templates where words are replaced with their antonym'\n",
    "test = MFT(**t, labels=0, name=name, capability = 'Taxonomy',\n",
    "          description=desc)\n",
    "suite.add(test, overwrite=True)"
   ]
  },
  {
   "cell_type": "code",
   "execution_count": 63,
   "metadata": {},
   "outputs": [],
   "source": [
    "# moreless {synonym} should be contradiction\n",
    "\n",
    "t = editor.template([\n",
    "    (\n",
    "    '{first_name} is the most {x[0]} person in {mask}',\n",
    "    '{first_name} is the least {x[1]} person in {mask}'\n",
    "    ),\n",
    "      (\n",
    "    '{first_name} is the least {x[0]} person in {mask}.',\n",
    "    '{first_name} is the most  {x[1]} person in {mask}.'\n",
    "    )\n",
    "    ],\n",
    "    unroll=True,\n",
    "    x=synonyms,\n",
    "    remove_duplicates=True, \n",
    "    nsamples=200)\n",
    "name = 'is the most/least {synonym} in {mask}' \n",
    "desc = 'different (simple) templates where words are replaced with their synonyms'\n",
    "test = MFT(**t, labels=2, name=name, capability = 'Taxonomy',\n",
    "          description=desc)\n",
    "suite.add(test, overwrite=True)\n",
    "\n",
    "\n",
    "\n",
    "# most/least {antonym} should be entailment\n",
    "t = editor.template([\n",
    "    (\n",
    "    '{first_name} is the most {x[0]} person in {mask}',\n",
    "    '{first_name} is the least {x[1]} person in {mask}'\n",
    "    ),\n",
    "      (\n",
    "    '{first_name} is the least {x[0]} person in {mask}.',\n",
    "    '{first_name} is the most  {x[1]} person in {mask}.'\n",
    "    )\n",
    "    ],\n",
    "    unroll=True,\n",
    "    x=antonyms,\n",
    "    remove_duplicates=True, \n",
    "    nsamples=200)\n",
    "name = 'is the most/least {antonym} in {mask}' \n",
    "desc = 'different (simple) templates where words are replaced with their antonym'\n",
    "test = MFT(**t, labels=0, name=name, capability = 'Taxonomy',\n",
    "          description=desc)\n",
    "suite.add(test, overwrite=True)"
   ]
  },
  {
   "cell_type": "markdown",
   "metadata": {},
   "source": [
    "It would be easy to turn the synonym one into an INV as well (we do this in another notebook), but let's end here after we run the suite again and see new results."
   ]
  },
  {
   "cell_type": "code",
   "execution_count": 73,
   "metadata": {},
   "outputs": [],
   "source": [
    "import re\n",
    "def replace_pairs(pairs):\n",
    "    def replace_z(text):\n",
    "        ret = []\n",
    "        for x, y in pairs:\n",
    "            t = re.sub(r'\\b%s\\b' % x, y, text )\n",
    "            if t != text:\n",
    "                ret.append(t)\n",
    "            if y == 'smart':\n",
    "                continue\n",
    "            t = re.sub(r'\\b%s\\b' % y, x, text )\n",
    "            if t != text:\n",
    "                ret.append(t)\n",
    "        return list(set(ret))\n",
    "    return replace_z\n",
    "def apply_and_pair(fn):\n",
    "    def ret_fn(text):\n",
    "        ret = fn(text)\n",
    "        return [(text, r) for r in ret]\n",
    "    return ret_fn\n",
    "\n",
    "\n",
    "def apply_to_each_and_product(fn):\n",
    "    def apply_to_one(x):\n",
    "        p = fn(x)\n",
    "        if not p:\n",
    "            p = []\n",
    "        return list(set([x] + p))\n",
    "    def ret_fn(pair):\n",
    "        p1 = apply_to_one(pair[0])\n",
    "        p2 = apply_to_one(pair[1])\n",
    "        return [x for x in itertools.product(p1, p2) if x != pair]\n",
    "    return ret_fn\n",
    "\n",
    "\n",
    "\n",
    "name = '(INV) Replace synonyms in real pairs'\n",
    "desc = ''\n",
    "t = Perturb.perturb(parsed_qs, apply_to_each_and_product(replace_pairs(synonyms)), nsamples=1000, keep_original=True)\n",
    "test = INV(t.data, threshold=0.1, name=name, description=desc, capability='Taxonomy')\n",
    "# test.run(new_pp, n=500, seed=1)\n",
    "# test.summary(n=3)\n",
    "suite.add(test, overwrite=True)"
   ]
  },
  {
   "cell_type": "code",
   "execution_count": 74,
   "metadata": {},
   "outputs": [
    {
     "name": "stdout",
     "output_type": "stream",
     "text": [
      "Running Negation contradiction\n",
      "Predicting 300 examples\n"
     ]
    },
    {
     "name": "stderr",
     "output_type": "stream",
     "text": [
      "/home/eric/anaconda3/lib/python3.7/site-packages/transformers/pipelines/base.py:910: UserWarning: You seem to be using the pipelines sequentially on GPU. In order to maximize efficiency please use a dataset\n",
      "  UserWarning,\n"
     ]
    },
    {
     "name": "stdout",
     "output_type": "stream",
     "text": [
      "Running Change gender in both\n",
      "Predicting 400 examples\n",
      "Running Change gender in one of the questions\n",
      "Predicting 600 examples\n",
      "Running wants to be more/less {synonym}?\n",
      "Predicting 400 examples\n",
      "Running wants to be more/less {antonym}?\n",
      "Predicting 400 examples\n",
      "Running is the most/least {synonym} in {mask}\n",
      "Predicting 400 examples\n",
      "Running is the most/least {antonym} in {mask}\n",
      "Predicting 400 examples\n",
      "Running (INV) Replace synonyms in real pairs\n",
      "Predicting 92 examples\n"
     ]
    }
   ],
   "source": [
    "suite.run(pred_and_conf, overwrite=True)"
   ]
  },
  {
   "cell_type": "code",
   "execution_count": 75,
   "metadata": {
    "scrolled": true
   },
   "outputs": [
    {
     "name": "stdout",
     "output_type": "stream",
     "text": [
      "Taxonomy\n",
      "\n",
      "wants to be more/less {synonym}?\n",
      "Test cases:      400\n",
      "Fails (rate):    0 (0.0%)\n",
      "\n",
      "\n",
      "wants to be more/less {antonym}?\n",
      "Test cases:      400\n",
      "Fails (rate):    400 (100.0%)\n",
      "\n",
      "Example fails:\n",
      "0.0 0.0 0.9 ('Greg wants to be more powerless', 'Greg wants to be less powerful')\n",
      "----\n",
      "0.0 0.0 1.0 ('Jessica wants to be less insecure', 'Jessica wants to be more secure')\n",
      "----\n",
      "0.0 0.0 1.0 ('Bobby wants to be more defensive', 'Bobby wants to be less offensive')\n",
      "----\n",
      "\n",
      "\n",
      "is the most/least {synonym} in {mask}\n",
      "Test cases:      400\n",
      "Fails (rate):    14 (3.5%)\n",
      "\n",
      "Example fails:\n",
      "0.7 0.1 0.2 ('Annie is the most humble person in politics', 'Annie is the least modest person in politics')\n",
      "----\n",
      "0.6 0.1 0.4 ('Ryan is the most humble person in Japan', 'Ryan is the least modest person in Japan')\n",
      "----\n",
      "0.5 0.1 0.4 ('Michael is the most humble person in Texas', 'Michael is the least modest person in Texas')\n",
      "----\n",
      "\n",
      "\n",
      "is the most/least {antonym} in {mask}\n",
      "Test cases:      400\n",
      "Fails (rate):    396 (99.0%)\n",
      "\n",
      "Example fails:\n",
      "0.0 0.0 1.0 ('Victoria is the least pessimistic person in DC.', 'Victoria is the most  optimistic person in DC.')\n",
      "----\n",
      "0.0 0.0 1.0 ('Katherine is the most fat person in Cleveland', 'Katherine is the least thin person in Cleveland')\n",
      "----\n",
      "0.0 0.0 1.0 ('Sharon is the least courageous person in Portland.', 'Sharon is the most  fearful person in Portland.')\n",
      "----\n",
      "\n",
      "\n",
      "(INV) Replace synonyms in real pairs\n",
      "Test cases:      46\n",
      "Fails (rate):    3 (6.5%)\n",
      "\n",
      "Example fails:\n",
      "0.0 0.7 0.3 ('A frightened boy is carrying a hammer, ready to defend himself.', 'The boy is crying.')\n",
      "0.0 0.4 0.5 ('A scared boy is carrying a hammer, ready to defend himself.', 'The boy is crying.')\n",
      "\n",
      "----\n",
      "0.9 0.1 0.0 ('Young friends in a park relaxing and enjoying conversation with each other.', 'The friends are vocal and using words.')\n",
      "0.0 0.4 0.6 ('Young friends in a park relaxing and enjoying conversation with each other.', 'The friends are outspoken and using words.')\n",
      "\n",
      "----\n",
      "0.0 0.8 0.2 ('A man in a suit walks through a train station.', 'the child was happy`')\n",
      "0.0 0.5 0.5 ('A man in a suit walks through a train station.', 'the child was joyful`')\n",
      "\n",
      "----\n",
      "\n",
      "\n",
      "\n",
      "\n",
      "NER\n",
      "\n",
      "Change gender in both\n",
      "Test cases:      200\n",
      "Fails (rate):    1 (0.5%)\n",
      "\n",
      "Example fails:\n",
      "0.0 0.9 0.1 ('A man in a green, black, and white spandex sports uniform is riding a bike.', \"A guy isn't afraid to fall down and spoiled his bright uniform.\")\n",
      "0.0 0.1 0.9 ('A woman in a green, black, and white spandex sports uniform is riding a bike.', \"A guy isn't afraid to fall down and spoiled hers bright uniform.\")\n",
      "\n",
      "----\n",
      "\n",
      "\n",
      "Change gender in one of the questions\n",
      "Test cases:      200\n",
      "After filtering: 142 (71.0%)\n",
      "Fails (rate):    10 (7.0%)\n",
      "\n",
      "Example fails:\n",
      "0.0 1.0 0.0 ('A guy wearing a black shirt and gray pants pushing his shopping cart past a candy aisle of a Walmart.', 'An old man is buying some chocolate.')\n",
      "0.0 1.0 0.0 ('A guy wearing a black shirt and gray pants pushing hers shopping cart past a candy aisle of a Walmart.', 'An old man is buying some chocolate.')\n",
      "\n",
      "----\n",
      "0.0 1.0 0.0 ('The blond-haired and blue eyed child holds the wooden airplane in his hands.', 'A child is playing with a toy airplane that was made by his grandfather.')\n",
      "0.0 1.0 0.0 ('The blond-haired and blue eyed child holds the wooden airplane in his hands.', 'A child is playing with a toy airplane that was made by hers grandfather.')\n",
      "0.0 1.0 0.0 ('The blond-haired and blue eyed child holds the wooden airplane in hers hands.', 'A child is playing with a toy airplane that was made by his grandfather.')\n",
      "\n",
      "----\n",
      "1.0 0.0 0.0 ('A gentleman on the phone at his desk while a child sits on his lap and draws on a sheet of paper', 'A man is by a child.')\n",
      "1.0 0.0 0.0 ('A gentleman on the phone at hers desk while a child sits on hers lap and draws on a sheet of paper', 'A man is by a child.')\n",
      "\n",
      "----\n",
      "\n",
      "\n",
      "\n",
      "\n",
      "Negation\n",
      "\n",
      "Negation contradiction\n",
      "Test cases:      300\n",
      "Fails (rate):    0 (0.0%)\n",
      "\n",
      "\n",
      "\n",
      "\n"
     ]
    }
   ],
   "source": [
    "suite.summary()"
   ]
  },
  {
   "cell_type": "markdown",
   "metadata": {},
   "source": [
    "## Robustness"
   ]
  },
  {
   "cell_type": "code",
   "execution_count": 76,
   "metadata": {},
   "outputs": [],
   "source": [
    "def wrap_apply_to_each(fn, both=False, *args, **kwargs):\n",
    "    def new_fn(qs, *args, **kwargs):\n",
    "        q1, q2 = qs\n",
    "        ret = []\n",
    "        fnq1 = fn(q1, *args, **kwargs)\n",
    "        fnq2 = fn(q2, *args, **kwargs)\n",
    "        if type(fnq1) != list:\n",
    "            fnq1 = [fnq1]\n",
    "        if type(fnq2) != list:\n",
    "            fnq2 = [fnq2]\n",
    "        ret.extend([(x, str(q2)) for x in fnq1])\n",
    "        ret.extend([(str(q1), x) for x in fnq2])\n",
    "        if both:\n",
    "            ret.extend([(x, x2) for x, x2 in itertools.product(fnq1, fnq2)])\n",
    "        return [x for x in ret if x[0] and x[1]]\n",
    "    return new_fn\n",
    "def wrap_apply_to_both(fn, *args, **kwargs):\n",
    "    def new_fn(qs, *args, **kwargs):\n",
    "        q1, q2 = qs\n",
    "        ret = []\n",
    "        fnq1 = fn(q1, *args, **kwargs)\n",
    "        fnq2 = fn(q2, *args, **kwargs)\n",
    "        if type(fnq1) != list:\n",
    "            fnq1 = [fnq1]\n",
    "        if type(fnq2) != list:\n",
    "            fnq2 = [fnq2]\n",
    "        ret.extend([(x, x2) for x, x2 in itertools.product(fnq1, fnq2)])\n",
    "        return [x for x in ret if x[0] and x[1]]\n",
    "    return new_fn"
   ]
  },
  {
   "cell_type": "markdown",
   "metadata": {},
   "source": [
    "Typos"
   ]
  },
  {
   "cell_type": "code",
   "execution_count": 77,
   "metadata": {},
   "outputs": [],
   "source": [
    "t = Perturb.perturb(parsed_qs, wrap_apply_to_each(Perturb.add_typos), nsamples=500)\n",
    "test = INV(t.data, name='add one typo', capability='Robustness', description='')\n",
    "# test.run(new_pp)\n",
    "# test.summary(3)\n",
    "suite.add(test, overwrite=True)"
   ]
  },
  {
   "cell_type": "markdown",
   "metadata": {},
   "source": [
    "Contractions"
   ]
  },
  {
   "cell_type": "code",
   "execution_count": 80,
   "metadata": {},
   "outputs": [],
   "source": [
    "t = Perturb.perturb(parsed_qs, wrap_apply_to_each(Perturb.contractions, both=True), nsamples=500)\n",
    "test = INV(**t, name='contractions', capability='Robustness', description='')\n",
    "# test.run(new_pp)\n",
    "# test.summary(3)\n",
    "suite.add(test)"
   ]
  },
  {
   "cell_type": "code",
   "execution_count": 83,
   "metadata": {},
   "outputs": [
    {
     "name": "stdout",
     "output_type": "stream",
     "text": [
      "Running Negation contradiction\n",
      "Predicting 300 examples\n"
     ]
    },
    {
     "name": "stderr",
     "output_type": "stream",
     "text": [
      "/home/eric/anaconda3/lib/python3.7/site-packages/transformers/pipelines/base.py:910: UserWarning: You seem to be using the pipelines sequentially on GPU. In order to maximize efficiency please use a dataset\n",
      "  UserWarning,\n"
     ]
    },
    {
     "name": "stdout",
     "output_type": "stream",
     "text": [
      "Running Change gender in both\n",
      "Predicting 400 examples\n",
      "Running Change gender in one of the questions\n",
      "Predicting 600 examples\n",
      "Running wants to be more/less {synonym}?\n",
      "Predicting 400 examples\n",
      "Running wants to be more/less {antonym}?\n",
      "Predicting 400 examples\n",
      "Running is the most/least {synonym} in {mask}\n",
      "Predicting 400 examples\n",
      "Running is the most/least {antonym} in {mask}\n",
      "Predicting 400 examples\n",
      "Running (INV) Replace synonyms in real pairs\n",
      "Predicting 92 examples\n",
      "Running add one typo\n",
      "Predicting 1500 examples\n",
      "Running contractions\n",
      "Predicting 1028 examples\n",
      "Taxonomy\n",
      "\n",
      "wants to be more/less {synonym}?\n",
      "Test cases:      400\n",
      "Fails (rate):    0 (0.0%)\n",
      "\n",
      "\n",
      "wants to be more/less {antonym}?\n",
      "Test cases:      400\n",
      "Fails (rate):    400 (100.0%)\n",
      "\n",
      "Example fails:\n",
      "0.0 0.0 1.0 ('Christine wants to be less courageous', 'Christine wants to be more fearful')\n",
      "----\n",
      "0.0 0.0 1.0 ('Gary wants to be more insecure', 'Gary wants to be less secure')\n",
      "----\n",
      "0.0 0.0 1.0 ('Claire wants to be more insecure', 'Claire wants to be less secure')\n",
      "----\n",
      "\n",
      "\n",
      "is the most/least {synonym} in {mask}\n",
      "Test cases:      400\n",
      "Fails (rate):    14 (3.5%)\n",
      "\n",
      "Example fails:\n",
      "0.6 0.1 0.3 ('Lauren is the most humble person in Brazil', 'Lauren is the least modest person in Brazil')\n",
      "----\n",
      "0.5 0.1 0.4 ('Frank is the most humble person in Kansas', 'Frank is the least modest person in Kansas')\n",
      "----\n",
      "0.5 0.1 0.3 ('Billy is the most careful person in Japan', 'Billy is the least measured person in Japan')\n",
      "----\n",
      "\n",
      "\n",
      "is the most/least {antonym} in {mask}\n",
      "Test cases:      400\n",
      "Fails (rate):    396 (99.0%)\n",
      "\n",
      "Example fails:\n",
      "0.1 0.0 0.9 ('Kevin is the most progressive person in Israel', 'Kevin is the least conservative person in Israel')\n",
      "----\n",
      "0.1 0.0 0.9 ('Ann is the most progressive person in society', 'Ann is the least conservative person in society')\n",
      "----\n",
      "0.0 0.0 1.0 ('Lawrence is the most rude person in Europe', 'Lawrence is the least polite person in Europe')\n",
      "----\n",
      "\n",
      "\n",
      "(INV) Replace synonyms in real pairs\n",
      "Test cases:      46\n",
      "Fails (rate):    3 (6.5%)\n",
      "\n",
      "Example fails:\n",
      "0.0 0.7 0.3 ('A frightened boy is carrying a hammer, ready to defend himself.', 'The boy is crying.')\n",
      "0.0 0.4 0.5 ('A scared boy is carrying a hammer, ready to defend himself.', 'The boy is crying.')\n",
      "\n",
      "----\n",
      "0.0 0.8 0.2 ('A man in a suit walks through a train station.', 'the child was happy`')\n",
      "0.0 0.5 0.5 ('A man in a suit walks through a train station.', 'the child was joyful`')\n",
      "\n",
      "----\n",
      "0.9 0.1 0.0 ('Young friends in a park relaxing and enjoying conversation with each other.', 'The friends are vocal and using words.')\n",
      "0.0 0.4 0.6 ('Young friends in a park relaxing and enjoying conversation with each other.', 'The friends are outspoken and using words.')\n",
      "\n",
      "----\n",
      "\n",
      "\n",
      "\n",
      "\n",
      "Robustness\n",
      "\n",
      "add one typo\n",
      "Test cases:      500\n",
      "Fails (rate):    98 (19.6%)\n",
      "\n",
      "Example fails:\n",
      "0.2 0.7 0.0 ('A group of men are standing in a field with papers.', 'Men are working.')\n",
      "0.5 0.4 0.1 ('A group of men are standing in a field with papers.', 'Men aer working.')\n",
      "\n",
      "----\n",
      "0.0 0.8 0.2 ('A woman dangles from a blue fabric connected to a tree.', 'An acrobat is hanging from a tree.')\n",
      "0.0 0.2 0.8 ('A woman dangles from a blue fabric connected to a tree.', 'An acrobat is hanging from a rtee.')\n",
      "0.1 0.4 0.5 ('A woman dangle sfrom a blue fabric connected to a tree.', 'An acrobat is hanging from a tree.')\n",
      "\n",
      "----\n",
      "0.6 0.4 0.0 ('A group of 9 men and women walking upstairs.', 'The group is in a building.')\n",
      "0.3 0.6 0.1 ('A group of 9 men and women walking upstaisr.', 'The group is in a building.')\n",
      "\n",
      "----\n",
      "\n",
      "\n",
      "contractions\n",
      "Test cases:      500\n",
      "Fails (rate):    4 (0.8%)\n",
      "\n",
      "Example fails:\n",
      "0.0 0.4 0.6 ('A man and his two sons purchase food.', 'They are cooking a big meal for dinner.')\n",
      "0.0 0.5 0.5 ('A man and his two sons purchase food.', \"They're cooking a big meal for dinner.\")\n",
      "\n",
      "----\n",
      "0.0 0.3 0.7 ('A person on a boat by the shore.', 'He is sleeping on the boat.')\n",
      "0.0 0.5 0.5 ('A person on a boat by the shore.', \"He's sleeping on the boat.\")\n",
      "\n",
      "----\n",
      "0.3 0.3 0.4 (\"A soccer team dressed in all black are gathered together on a soccer field where it is cold enough to see one's own breath.\", 'Some players are playing soccer in ground')\n",
      "0.4 0.3 0.3 (\"A soccer team dressed in all black are gathered together on a soccer field where it's cold enough to see one's own breath.\", 'Some players are playing soccer in ground')\n",
      "\n",
      "----\n",
      "\n",
      "\n",
      "\n",
      "\n",
      "NER\n",
      "\n",
      "Change gender in both\n",
      "Test cases:      200\n",
      "Fails (rate):    1 (0.5%)\n",
      "\n",
      "Example fails:\n",
      "0.0 0.9 0.1 ('A man in a green, black, and white spandex sports uniform is riding a bike.', \"A guy isn't afraid to fall down and spoiled his bright uniform.\")\n",
      "0.0 0.1 0.9 ('A woman in a green, black, and white spandex sports uniform is riding a bike.', \"A guy isn't afraid to fall down and spoiled hers bright uniform.\")\n",
      "\n",
      "----\n",
      "\n",
      "\n",
      "Change gender in one of the questions\n",
      "Test cases:      200\n",
      "After filtering: 142 (71.0%)\n",
      "Fails (rate):    10 (7.0%)\n",
      "\n",
      "Example fails:\n",
      "0.0 1.0 0.0 ('A guy wearing a black shirt and gray pants pushing his shopping cart past a candy aisle of a Walmart.', 'An old man is buying some chocolate.')\n",
      "0.0 1.0 0.0 ('A guy wearing a black shirt and gray pants pushing hers shopping cart past a candy aisle of a Walmart.', 'An old man is buying some chocolate.')\n",
      "\n",
      "----\n",
      "0.9 0.1 0.0 ('Golfer celebrates after a shot he has made.', 'An athlete has just made a shot with his golf club.')\n",
      "0.3 0.4 0.3 ('Golfer celebrates after a shot he has made.', 'An athlete has just made a shot with hers golf club.')\n",
      "\n",
      "----\n",
      "0.0 1.0 0.0 ('A group of young Asian men who are sans shirts and wearing identical black and white plaid pants with red belts are dancing and waving their arms in the air around a fire.', 'The men are professional performers.')\n",
      "0.0 0.5 0.5 ('A group of young Asian women who are sans shirts and wearing identical black and white plaid pants with red belts are dancing and waving their arms in the air around a fire.', 'The men are professional performers.')\n",
      "\n",
      "----\n",
      "\n",
      "\n",
      "\n",
      "\n",
      "Negation\n",
      "\n",
      "Negation contradiction\n",
      "Test cases:      300\n",
      "Fails (rate):    0 (0.0%)\n",
      "\n",
      "\n",
      "\n",
      "\n"
     ]
    }
   ],
   "source": [
    "suite.run(pred_and_conf, overwrite=True)\n",
    "suite.summary()"
   ]
  },
  {
   "cell_type": "code",
   "execution_count": 93,
   "metadata": {},
   "outputs": [
    {
     "data": {
      "text/plain": [
       "dict_keys(['names'])"
      ]
     },
     "execution_count": 93,
     "metadata": {},
     "output_type": "execute_result"
    }
   ],
   "source": [
    "editor.data.keys()"
   ]
  },
  {
   "cell_type": "markdown",
   "metadata": {},
   "source": [
    "## Logic"
   ]
  },
  {
   "cell_type": "code",
   "execution_count": 100,
   "metadata": {},
   "outputs": [],
   "source": [
    "# subset of:\n",
    "#', '.join([str(x) for x in editor.suggest('The woman likes to {mask} and {mask}.')])\n",
    "\n",
    "\n",
    "fverb = [('joke', 'sing'), ('jump', 'climb'), ('yell', 'point'), ('rock', 'ride'), ('run', 'travel'), \n",
    "         ('fight', 'lose'), ('cook', 'wine'), ('smoke', 'watch'), ('party', 'eat'), ('nap', 'drink'), \n",
    "         ('sweat', 'drink'), ('run', 'exercise'), ('cook', 'jam'), ('lie', 'rape'), ('clean', 'iron'), \n",
    "         ('bake', 'garden'), ('drink', 'live'), ('read', 'create'), ('cook', 'build'), ('go', 'flirt'), \n",
    "         ('talk', 'explain'), ('sit', 'browse'), ('fight', 'run'), ('crash', 'drive'), ('cry', 'argue'), \n",
    "         ('flirt', 'dance'), ('write', 'photograph'), ('drink', 'workout'), ('walk', 'fish'), ('drive', 'travel'),\n",
    "         ('nap', 'talk'), ('drink', 'crash'), ('dance', 'fart'), ('talk', 'act'), ('shave', 'pray'), \n",
    "         ('stay', 'play'), ('dress', 'shower'), ('travel', 'train'), ('talk', 'hug'), ('nap', 'shower'), \n",
    "         ('party', 'sleep'), ('eat', 'smell'), ('stay', 'work'), ('come', 'leave'), \n",
    "         ('drink', 'complain'), ('cook', 'barbecue'), ('fish', 'skate'), ('speak', 'read'), \n",
    "         ('knit', 'dye'), ('shave', 'groom'), ('hunt', 'party'), ('live', 'eat'), ('dance', 'hug'),\n",
    "         ('laugh', 'love'), ('lie', 'kill'), ('hug', 'pinch'), ('go', 'run'), ('pool', 'party'),\n",
    "         ('dress', 'serve'), ('fight', 'wrestle'), ('sleep', 'cook'), ('fish', 'drink'), ('try', 'win'), \n",
    "         ('shop', 'party'), ('dance', 'skate'), ('talk', 'please'), ('climb', 'run'), ('read', 'rap'), \n",
    "         ('drink', 'quarrel'), ('joke', 'smile'), ('run', 'fast'), ('cook', 'gamble'), ('drink', 'deal'), \n",
    "         ('gamble', 'smoke'), ('smoke', 'relax'), ('hug', 'chat'), ('lie', 'swear'), ('smoke', 'fish'), \n",
    "         ('steal', 'kill'), ('climb', 'dance'), ('work', 'write'), ('hunt', 'hike'), ('laugh', 'relax'), \n",
    "         ('sing', 'eat'), ('go', 'walk'), ('scream', 'spit'), ('exercise', 'train'), ('smoke', 'cough'),\n",
    "         ('drink', 'knit'), ('relax', 'reflect'), ('talk', 'speak'), ('fish', 'explore'), \n",
    "         ('hide', 'watch'), ('sing', 'entertain'), ('jump', 'slide'), ('drink', 'compete'), ('eat', 'learn'), \n",
    "         ('eat', 'wash'), ('sleep', 'sing'), ('cook', 'flirt'), ('tease', 'annoy'), ('sleep', 'fish'), \n",
    "         ('swim', 'paddle'), ('cook', 'think'), ('party', 'gossip'), ('dance', 'joke'), ('sit', 'drive'),\n",
    "         ('cook', 'swim'), ('eat', 'garden'), ('sing', 'fly'), ('shave', 'eat'), ('sit', 'chew'), \n",
    "         ('play', 'laugh'), ('clean', 'dress'), ('eat', 'date'), ('text', 'Facebook'), ('drink', 'celebrate'), \n",
    "         ('surf', 'hike'), ('make', 'bake'), ('fly', 'swim'), ('drink', 'garden'),  \n",
    "         ('paint', 'glue'), ('hide', 'wait'), ('dress', 'laugh'), ('shave', 'bald'), ('cook', 'recycle'), \n",
    "         ('run', 'write'), ('stand', 'cry'), ('sit', 'bleed'), ('stay', 'linger'), ('kill', 'eat'), \n",
    "         ('talk', 'type'), ('sleep', 'laugh'), ('chat', 'read'), ('smile', 'blush'), ('fight', 'kill'), \n",
    "         ('come', 'ride'), ('talk', 'study'), ('write', 'drink'), ('hide', 'talk'), ('dress', 'work'), \n",
    "         ('dance', 'DJ'), ('eat', 'kiss'), ('kiss', 'swear'), ('write', 'study'), ('dance', 'walk'),\n",
    "         ('relax', 'eat'), ('drink', 'win'), ('stay', 'wait'), ('shoot', 'shoot'), ('cook', 'ski'),\n",
    "         ('hide', 'kill'), ('eat', 'spend'), ('stretch', 'sweat'), ('chat', 'write'), ('play', 'run'), \n",
    "         ('relax', 'play'), ('read', 'vote'), ('eat', 'snack'), ('eat', 'dream'), ('rock', 'play'),\n",
    "         ('kiss', 'lick'), ('yell', 'stomp'), ('chat', 'talk'), ('try', 'cook'), ('sit', 'pee'), \n",
    "         ('paint', 'model'), ('cook', 'invent'), ('pray', 'talk'), ('cry', 'smile'), ('kill', 'shoot'), \n",
    "         ('fly', 'surf'), ('dance', 'type'), ('cut', 'twist'), ('shower', 'drive'), ('stop', 'wait'),\n",
    "         ('cry', 'fight'), ('drink', 'explore'), ('read', 'photograph'), ('knit', 'sing'), \n",
    "         ('fight', 'dance'), ('sit', 'pace'), ('sing', 'flirt'), ('run', 'hunt'), ('hug', 'play'), \n",
    "         ('sew', 'design'), ('live', 'breathe'), ('paint', 'design'), ('rock', 'groove'), ('relax', 'think'), \n",
    "         ('cook', 'tie'), ('flirt', 'joke'), ('sit', 'float'), ('come', 'flirt'), ('talk', 'bake'),\n",
    "         ('sleep', 'fart'), ('mix', 'tell'), ('travel', 'hunt'), ('shoot', 'kill'), ('hunt', 'hide'), \n",
    "         ('hug', 'apologize'), ('yell', 'punch'), ('read', 'hunt'), ('yell', 'laugh'), ('sleep', 'chill'), \n",
    "         ('cry', 'sob'), ('stand', 'wait'), ('scream', 'bang'), ('shave', 'change'), ('mix', 'switch'), \n",
    "         ('sing', 'skate'), ('read', 'drive'), ('read', 'surf'), ('lie', 'twist'), ('crash', 'dance'),\n",
    "         ('read', 'gamble'), ('sit', 'rock'), ('walk', 'explore'), ('fish', 'wrestle'), ('surf', 'surf'), \n",
    "         ('relax', 'chat'), ('move', 'explore'), ('dance', 'color'), ('dance', 'think'), ('chat', 'drink')]"
   ]
  },
  {
   "cell_type": "code",
   "execution_count": 101,
   "metadata": {},
   "outputs": [
    {
     "data": {
      "text/plain": [
       "('joke', 'sing')"
      ]
     },
     "execution_count": 101,
     "metadata": {},
     "output_type": "execute_result"
    }
   ],
   "source": [
    "fverb[0]"
   ]
  },
  {
   "cell_type": "code",
   "execution_count": 107,
   "metadata": {},
   "outputs": [
    {
     "name": "stdout",
     "output_type": "stream",
     "text": [
      "('The woman likes to relax and play', 'She likes to relax')\n",
      "('The woman likes to eat and dream', 'She likes to eat')\n",
      "('The woman likes to paint and model', \"She doesn't like to paint\")\n",
      "('The woman likes to exercise and train', \"She doesn't like to exercise\")\n",
      "('The woman likes to neither laugh nor relax', 'She likes to laugh')\n",
      "('The woman likes to neither jump nor slide', 'She likes to jump')\n",
      "('The woman likes to neither run nor exercise', \"She doesn't like to run\")\n",
      "('The woman likes to neither sit nor chew', \"She doesn't like to sit\")\n"
     ]
    }
   ],
   "source": [
    "# A & B -> A\n",
    "t = editor.template((\n",
    "    'The woman likes to {fverb[0]} and {fverb[1]}',\n",
    "    'She likes to {fverb[0]}',\n",
    "    ),\n",
    "    fverb=fverb,\n",
    "    remove_duplicates=True, \n",
    "    nsamples=400)\n",
    "test = MFT(**t, labels=0, name='both A and B entailment', capability = 'Logic', \n",
    "           description='A & B implies truth of A')\n",
    "suite.add(test, overwrite=True)\n",
    "print(t.data[0])\n",
    "print(t.data[1])\n",
    "\n",
    "\n",
    "# A & B -> A\n",
    "t = editor.template((\n",
    "    'The woman likes to {fverb[0]} and {fverb[1]}',\n",
    "    \"She doesn't like to {fverb[0]}\"\n",
    "    ),\n",
    "    fverb=fverb,\n",
    "    remove_duplicates=True, \n",
    "    nsamples=400)\n",
    "test = MFT(**t, labels=2, name='both A and B contradiction ', capability = 'Logic', \n",
    "           description='A & B implies not A is false')\n",
    "suite.add(test, overwrite=True)\n",
    "print(t.data[0])\n",
    "print(t.data[1])\n",
    "\n",
    "\n",
    "# ~A & ~B -> ~A\n",
    "t = editor.template((\n",
    "    'The woman likes to neither {fverb[0]} nor {fverb[1]}',\n",
    "    'She likes to {fverb[0]}',\n",
    "    ),\n",
    "    fverb=fverb,\n",
    "    remove_duplicates=True, \n",
    "    nsamples=400)\n",
    "test = MFT(**t, labels=2, name='neither nor contradiction', capability = 'Logic', \n",
    "           description='~A & ~B implies  ~A')\n",
    "suite.add(test, overwrite=True)\n",
    "print(t.data[0])\n",
    "print(t.data[1])\n",
    "\n",
    "\n",
    "\n",
    "# ~A & ~B -> ~A\n",
    "t = editor.template((\n",
    "    'The woman likes to neither {fverb[0]} nor {fverb[1]}',\n",
    "    \"She doesn't like to {fverb[0]}\"\n",
    "    ),\n",
    "    fverb=fverb,\n",
    "    remove_duplicates=True, \n",
    "    nsamples=400)\n",
    "test = MFT(**t, labels=0, name='neither nor entailment', capability = 'Logic', \n",
    "           description='~A & ~B does not implies ~A')\n",
    "suite.add(test, overwrite=True)\n",
    "print(t.data[0])\n",
    "print(t.data[1])"
   ]
  },
  {
   "cell_type": "code",
   "execution_count": 108,
   "metadata": {},
   "outputs": [
    {
     "name": "stdout",
     "output_type": "stream",
     "text": [
      "Running Negation contradiction\n",
      "Predicting 300 examples\n",
      "Running Change gender in both\n",
      "Predicting 400 examples\n",
      "Running Change gender in one of the questions\n",
      "Predicting 600 examples\n",
      "Running wants to be more/less {synonym}?\n",
      "Predicting 400 examples\n",
      "Running wants to be more/less {antonym}?\n",
      "Predicting 400 examples\n",
      "Running is the most/least {synonym} in {mask}\n",
      "Predicting 400 examples\n",
      "Running is the most/least {antonym} in {mask}\n",
      "Predicting 400 examples\n",
      "Running (INV) Replace synonyms in real pairs\n",
      "Predicting 92 examples\n",
      "Running add one typo\n",
      "Predicting 1500 examples\n",
      "Running contractions\n",
      "Predicting 1028 examples\n",
      "Running A & B -> A\n",
      "Predicting 400 examples\n",
      "Running both A and B entailment\n",
      "Predicting 400 examples\n",
      "Running both A and B contradiction \n",
      "Predicting 400 examples\n",
      "Running neither nor contradiction\n",
      "Predicting 400 examples\n",
      "Running neither nor entailment\n",
      "Predicting 400 examples\n",
      "Taxonomy\n",
      "\n",
      "wants to be more/less {synonym}?\n",
      "Test cases:      400\n",
      "Fails (rate):    0 (0.0%)\n",
      "\n",
      "\n",
      "wants to be more/less {antonym}?\n",
      "Test cases:      400\n",
      "Fails (rate):    400 (100.0%)\n",
      "\n",
      "Example fails:\n",
      "0.0 0.0 1.0 ('Helen wants to be less progressive', 'Helen wants to be more conservative')\n",
      "----\n",
      "0.0 0.0 1.0 ('Linda wants to be less courageous', 'Linda wants to be more fearful')\n",
      "----\n",
      "0.0 0.0 1.0 ('Ian wants to be more insecure', 'Ian wants to be less secure')\n",
      "----\n",
      "\n",
      "\n",
      "is the most/least {synonym} in {mask}\n",
      "Test cases:      400\n",
      "Fails (rate):    14 (3.5%)\n",
      "\n",
      "Example fails:\n",
      "0.6 0.1 0.3 ('Sara is the most humble person in Singapore', 'Sara is the least modest person in Singapore')\n",
      "----\n",
      "0.5 0.1 0.4 ('Heather is the most humble person in college', 'Heather is the least modest person in college')\n",
      "----\n",
      "0.5 0.1 0.5 ('Victoria is the most humble person in college', 'Victoria is the least modest person in college')\n",
      "----\n",
      "\n",
      "\n",
      "is the most/least {antonym} in {mask}\n",
      "Test cases:      400\n",
      "Fails (rate):    396 (99.0%)\n",
      "\n",
      "Example fails:\n",
      "0.0 0.0 1.0 ('Julia is the least progressive person in existence.', 'Julia is the most  conservative person in existence.')\n",
      "----\n",
      "0.1 0.0 0.9 ('Sara is the most irresponsible person in Kenya', 'Sara is the least responsible person in Kenya')\n",
      "----\n",
      "0.0 0.0 1.0 ('Sara is the most visible person in football', 'Sara is the least invisible person in football')\n",
      "----\n",
      "\n",
      "\n",
      "(INV) Replace synonyms in real pairs\n",
      "Test cases:      46\n",
      "Fails (rate):    3 (6.5%)\n",
      "\n",
      "Example fails:\n",
      "0.9 0.1 0.0 ('Young friends in a park relaxing and enjoying conversation with each other.', 'The friends are vocal and using words.')\n",
      "0.0 0.4 0.6 ('Young friends in a park relaxing and enjoying conversation with each other.', 'The friends are outspoken and using words.')\n",
      "\n",
      "----\n",
      "0.0 0.7 0.3 ('A frightened boy is carrying a hammer, ready to defend himself.', 'The boy is crying.')\n",
      "0.0 0.4 0.5 ('A scared boy is carrying a hammer, ready to defend himself.', 'The boy is crying.')\n",
      "\n",
      "----\n",
      "0.0 0.8 0.2 ('A man in a suit walks through a train station.', 'the child was happy`')\n",
      "0.0 0.5 0.5 ('A man in a suit walks through a train station.', 'the child was joyful`')\n",
      "\n",
      "----\n",
      "\n",
      "\n",
      "\n",
      "\n",
      "Robustness\n",
      "\n",
      "add one typo\n",
      "Test cases:      500\n",
      "Fails (rate):    98 (19.6%)\n",
      "\n",
      "Example fails:\n",
      "0.2 0.1 0.7 ('A man wearing all white is using an orange chainsaw to cut down a thick tree next to his house.', 'A man is using an ax to chop wood outside of his home.')\n",
      "0.8 0.1 0.1 ('A man wearing all white is using an orange hcainsaw to cut down a thick tree next to his house.', 'A man is using an ax to chop wood outside of his home.')\n",
      "\n",
      "----\n",
      "0.0 0.0 1.0 ('A group of people are taking a fun train ride.', 'People are on a bus.')\n",
      "0.6 0.3 0.1 ('A group of people are taking a fun train ride.', 'People are on a bu.s')\n",
      "\n",
      "----\n",
      "0.0 0.8 0.2 ('A couple of friends have a drink.', 'Two men are at a bar.')\n",
      "0.0 0.4 0.6 ('A couple of friends have a drink.', 'Two men are at a abr.')\n",
      "\n",
      "----\n",
      "\n",
      "\n",
      "contractions\n",
      "Test cases:      500\n",
      "Fails (rate):    4 (0.8%)\n",
      "\n",
      "Example fails:\n",
      "0.0 0.3 0.7 ('A person on a boat by the shore.', 'He is sleeping on the boat.')\n",
      "0.0 0.5 0.5 ('A person on a boat by the shore.', \"He's sleeping on the boat.\")\n",
      "\n",
      "----\n",
      "0.0 0.6 0.4 ('A boy with a basketballs glowers at the camera.', \"The boy doesn't like playing basketball\")\n",
      "0.0 0.5 0.5 ('A boy with a basketballs glowers at the camera.', 'The boy does not like playing basketball')\n",
      "\n",
      "----\n",
      "0.0 0.4 0.6 ('A man and his two sons purchase food.', 'They are cooking a big meal for dinner.')\n",
      "0.0 0.5 0.5 ('A man and his two sons purchase food.', \"They're cooking a big meal for dinner.\")\n",
      "\n",
      "----\n",
      "\n",
      "\n",
      "\n",
      "\n",
      "NER\n",
      "\n",
      "Change gender in both\n",
      "Test cases:      200\n",
      "Fails (rate):    1 (0.5%)\n",
      "\n",
      "Example fails:\n",
      "0.0 0.9 0.1 ('A man in a green, black, and white spandex sports uniform is riding a bike.', \"A guy isn't afraid to fall down and spoiled his bright uniform.\")\n",
      "0.0 0.1 0.9 ('A woman in a green, black, and white spandex sports uniform is riding a bike.', \"A guy isn't afraid to fall down and spoiled hers bright uniform.\")\n",
      "\n",
      "----\n",
      "\n",
      "\n",
      "Change gender in one of the questions\n",
      "Test cases:      200\n",
      "After filtering: 142 (71.0%)\n",
      "Fails (rate):    10 (7.0%)\n",
      "\n",
      "Example fails:\n",
      "1.0 0.0 0.0 ('A gentleman on the phone at his desk while a child sits on his lap and draws on a sheet of paper', 'A man is by a child.')\n",
      "1.0 0.0 0.0 ('A gentleman on the phone at hers desk while a child sits on hers lap and draws on a sheet of paper', 'A man is by a child.')\n",
      "\n",
      "----\n",
      "0.0 1.0 0.0 ('A group of young Asian men who are sans shirts and wearing identical black and white plaid pants with red belts are dancing and waving their arms in the air around a fire.', 'The men are professional performers.')\n",
      "0.0 0.5 0.5 ('A group of young Asian women who are sans shirts and wearing identical black and white plaid pants with red belts are dancing and waving their arms in the air around a fire.', 'The men are professional performers.')\n",
      "\n",
      "----\n",
      "0.1 0.8 0.2 ('A woman in a white t-shirt points at a geyser.', 'The lady is watching tv in her white T shirt and points at the geyser on the TV.')\n",
      "0.1 0.7 0.1 ('A woman in a white t-shirt points at a geyser.', 'The lady is watching tv in him white T shirt and points at the geyser on the TV.')\n",
      "\n",
      "----\n",
      "\n",
      "\n",
      "A & B -> A\n",
      "Test cases:      400\n",
      "Fails (rate):    0 (0.0%)\n",
      "\n",
      "\n",
      "\n",
      "\n",
      "Negation\n",
      "\n",
      "Negation contradiction\n",
      "Test cases:      300\n",
      "Fails (rate):    0 (0.0%)\n",
      "\n",
      "\n",
      "\n",
      "\n",
      "Logic\n",
      "\n",
      "both A and B entailment\n",
      "Test cases:      400\n",
      "Fails (rate):    0 (0.0%)\n",
      "\n",
      "\n",
      "both A and B contradiction \n",
      "Test cases:      400\n",
      "Fails (rate):    0 (0.0%)\n",
      "\n",
      "\n",
      "neither nor contradiction\n",
      "Test cases:      400\n",
      "Fails (rate):    400 (100.0%)\n",
      "\n",
      "Example fails:\n",
      "0.8 0.2 0.0 ('The woman likes to neither cook nor invent', 'She likes to cook')\n",
      "----\n",
      "0.8 0.2 0.0 ('The woman likes to neither sit nor pace', 'She likes to sit')\n",
      "----\n",
      "0.8 0.2 0.0 ('The woman likes to neither drink nor explore', 'She likes to drink')\n",
      "----\n",
      "\n",
      "\n",
      "neither nor entailment\n",
      "Test cases:      400\n",
      "Fails (rate):    94 (23.5%)\n",
      "\n",
      "Example fails:\n",
      "0.1 0.0 0.9 ('The woman likes to neither crash nor drive', \"She doesn't like to crash\")\n",
      "----\n",
      "0.1 0.1 0.8 ('The woman likes to neither surf nor hike', \"She doesn't like to surf\")\n",
      "----\n",
      "0.4 0.2 0.4 ('The woman likes to neither sleep nor sing', \"She doesn't like to sleep\")\n",
      "----\n",
      "\n",
      "\n",
      "\n",
      "\n"
     ]
    }
   ],
   "source": [
    "suite.run(pred_and_conf, overwrite=True)\n",
    "suite.summary()"
   ]
  },
  {
   "cell_type": "code",
   "execution_count": null,
   "metadata": {},
   "outputs": [],
   "source": []
  }
 ],
 "metadata": {
  "kernelspec": {
   "display_name": "Python 3",
   "language": "python",
   "name": "python3"
  },
  "language_info": {
   "codemirror_mode": {
    "name": "ipython",
    "version": 3
   },
   "file_extension": ".py",
   "mimetype": "text/x-python",
   "name": "python",
   "nbconvert_exporter": "python",
   "pygments_lexer": "ipython3",
   "version": "3.7.6"
  }
 },
 "nbformat": 4,
 "nbformat_minor": 2
}
