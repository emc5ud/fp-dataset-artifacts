{
 "cells": [
  {
   "cell_type": "code",
   "execution_count": 1,
   "metadata": {},
   "outputs": [],
   "source": [
    "import checklist\n",
    "from checklist.editor import Editor\n",
    "from checklist.perturb import Perturb\n",
    "from checklist.test_types import MFT, INV, DIR\n",
    "from checklist.test_suite import TestSuite\n",
    "from checklist.expect import Expect\n",
    "from tqdm import tqdm\n",
    "import itertools"
   ]
  },
  {
   "cell_type": "code",
   "execution_count": 2,
   "metadata": {},
   "outputs": [],
   "source": [
    "import sys\n",
    "import spacy\n",
    "import numpy as np\n",
    "processor = spacy.load('en_core_web_sm')\n",
    "\n",
    "from transformers import pipeline, AutoTokenizer, AutoModelForSequenceClassification\n",
    "import torch"
   ]
  },
  {
   "cell_type": "code",
   "execution_count": 3,
   "metadata": {},
   "outputs": [],
   "source": [
    "model_path = '../trained_model_snli/'\n",
    "model = AutoModelForSequenceClassification.from_pretrained(model_path)\n",
    "tokenizer = AutoTokenizer.from_pretrained(model_path, use_fast=True)\n"
   ]
  },
  {
   "cell_type": "code",
   "execution_count": 4,
   "metadata": {},
   "outputs": [],
   "source": [
    "from transformers import pipeline"
   ]
  },
  {
   "cell_type": "code",
   "execution_count": 5,
   "metadata": {},
   "outputs": [
    {
     "data": {
      "text/plain": [
       "'4.12.5'"
      ]
     },
     "execution_count": 5,
     "metadata": {},
     "output_type": "execute_result"
    }
   ],
   "source": [
    "import transformers\n",
    "transformers.__version__"
   ]
  },
  {
   "cell_type": "code",
   "execution_count": 6,
   "metadata": {},
   "outputs": [],
   "source": [
    "pipe = pipeline('text-classification', model=model,\n",
    "                        tokenizer=tokenizer, device=0)\n",
    "pipe_all = pipeline('text-classification', model=model,\n",
    "                        tokenizer=tokenizer, device=0, return_all_scores=True)"
   ]
  },
  {
   "cell_type": "code",
   "execution_count": 7,
   "metadata": {},
   "outputs": [
    {
     "name": "stderr",
     "output_type": "stream",
     "text": [
      "Reusing dataset snli (/home/eric/.cache/huggingface/datasets/snli/plain_text/1.0.0/1f60b67533b65ae0275561ff7828aad5ee4282d0e6f844fd148d05d3c6ea251b)\n"
     ]
    },
    {
     "data": {
      "text/html": [
       "<div>\n",
       "<style scoped>\n",
       "    .dataframe tbody tr th:only-of-type {\n",
       "        vertical-align: middle;\n",
       "    }\n",
       "\n",
       "    .dataframe tbody tr th {\n",
       "        vertical-align: top;\n",
       "    }\n",
       "\n",
       "    .dataframe thead th {\n",
       "        text-align: right;\n",
       "    }\n",
       "</style>\n",
       "<table border=\"1\" class=\"dataframe\">\n",
       "  <thead>\n",
       "    <tr style=\"text-align: right;\">\n",
       "      <th></th>\n",
       "      <th>premise</th>\n",
       "      <th>hypothesis</th>\n",
       "      <th>label</th>\n",
       "    </tr>\n",
       "  </thead>\n",
       "  <tbody>\n",
       "    <tr>\n",
       "      <th>0</th>\n",
       "      <td>Two women are embracing while holding to go pa...</td>\n",
       "      <td>The sisters are hugging goodbye while holding ...</td>\n",
       "      <td>1</td>\n",
       "    </tr>\n",
       "    <tr>\n",
       "      <th>1</th>\n",
       "      <td>Two women are embracing while holding to go pa...</td>\n",
       "      <td>Two woman are holding packages.</td>\n",
       "      <td>0</td>\n",
       "    </tr>\n",
       "    <tr>\n",
       "      <th>2</th>\n",
       "      <td>Two women are embracing while holding to go pa...</td>\n",
       "      <td>The men are fighting outside a deli.</td>\n",
       "      <td>2</td>\n",
       "    </tr>\n",
       "    <tr>\n",
       "      <th>3</th>\n",
       "      <td>Two young children in blue jerseys, one with t...</td>\n",
       "      <td>Two kids in numbered jerseys wash their hands.</td>\n",
       "      <td>0</td>\n",
       "    </tr>\n",
       "    <tr>\n",
       "      <th>4</th>\n",
       "      <td>Two young children in blue jerseys, one with t...</td>\n",
       "      <td>Two kids at a ballgame wash their hands.</td>\n",
       "      <td>1</td>\n",
       "    </tr>\n",
       "  </tbody>\n",
       "</table>\n",
       "</div>"
      ],
      "text/plain": [
       "                                             premise  \\\n",
       "0  Two women are embracing while holding to go pa...   \n",
       "1  Two women are embracing while holding to go pa...   \n",
       "2  Two women are embracing while holding to go pa...   \n",
       "3  Two young children in blue jerseys, one with t...   \n",
       "4  Two young children in blue jerseys, one with t...   \n",
       "\n",
       "                                          hypothesis  label  \n",
       "0  The sisters are hugging goodbye while holding ...      1  \n",
       "1                    Two woman are holding packages.      0  \n",
       "2               The men are fighting outside a deli.      2  \n",
       "3     Two kids in numbered jerseys wash their hands.      0  \n",
       "4           Two kids at a ballgame wash their hands.      1  "
      ]
     },
     "execution_count": 7,
     "metadata": {},
     "output_type": "execute_result"
    }
   ],
   "source": [
    "from datasets import load_dataset\n",
    "\n",
    "dev_dataset = load_dataset('snli', split='validation')\n",
    "dev_df = dev_dataset.to_pandas()\n",
    "dev_df.head()"
   ]
  },
  {
   "cell_type": "code",
   "execution_count": 8,
   "metadata": {},
   "outputs": [],
   "source": [
    "parsed_qs = [(row.premise, row.hypothesis) for _, row in dev_df.iterrows()]"
   ]
  },
  {
   "cell_type": "markdown",
   "metadata": {},
   "source": [
    "Preprocess all the questions with spacy. This may take sometime."
   ]
  },
  {
   "cell_type": "code",
   "execution_count": 9,
   "metadata": {},
   "outputs": [
    {
     "name": "stderr",
     "output_type": "stream",
     "text": [
      "10000it [00:10, 998.62it/s]\n",
      "10000it [00:06, 1580.81it/s]\n"
     ]
    }
   ],
   "source": [
    "processed_p = list(tqdm(processor.pipe(dev_df.premise, batch_size=64)))\n",
    "processed_h = list(tqdm(processor.pipe(dev_df.hypothesis, batch_size=64)))\n",
    "parsed_qs_spacy = [(p, q) for (p, q) in zip(processed_p, processed_h)]"
   ]
  },
  {
   "cell_type": "code",
   "execution_count": 10,
   "metadata": {},
   "outputs": [
    {
     "data": {
      "text/plain": [
       "(Two women are embracing while holding to go packages.,\n",
       " The sisters are hugging goodbye while holding to go packages after just eating lunch.)"
      ]
     },
     "execution_count": 10,
     "metadata": {},
     "output_type": "execute_result"
    }
   ],
   "source": [
    "parsed_qs_spacy[0]"
   ]
  },
  {
   "cell_type": "markdown",
   "metadata": {},
   "source": [
    "# Top-Down approach: the CheckList matrix"
   ]
  },
  {
   "cell_type": "markdown",
   "metadata": {},
   "source": [
    "## Capabilities x Test Types"
   ]
  },
  {
   "cell_type": "markdown",
   "metadata": {},
   "source": [
    "In tutorial #3, we talked about specific test types.  \n",
    "In order to guide test ideation, it's useful to think of CheckList as a matrix of Capabilities x Test Types.  \n",
    "*Capabilities* refers to general-purpose linguistic capabilities, which manifest in one way or another in almost any NLP application.   \n",
    "We suggest that anyone CheckListing a model go through *at least* the following capabilities, trying to create MFTs, INVs, and DIRs for each if possible.\n",
    "1. **Vocabulary + POS:** important words or groups of words (by part-of-speech) for the task\n",
    "2. **Taxonomy**: synonyms, antonyms, word categories, etc\n",
    "3. **Robustness**: to typos, irrelevant additions, contractions, etc\n",
    "4. **Named Entity Recognition (NER)**: person names, locations, numbers, etc\n",
    "5. **Fairness**\n",
    "6. **Temporal understanding**: understanding order of events and how they impact the task\n",
    "7. **Negation**\n",
    "8. **Coreference** \n",
    "9. **Semantic Role Labeling (SRL)**: understanding roles such as agent, object, passive/active, etc\n",
    "10. **Logic**: symmetry, consistency, conjunctions, disjunctions, etc\n",
    "\n",
    "Notice that we are framing this as very top-down approach: you start with a list of capabilities and try to think of what kinds of tests can be created, based on the three test types. We'll talk about how to incorporate some bottom-up thinking later on."
   ]
  },
  {
   "cell_type": "markdown",
   "metadata": {},
   "source": [
    "We won't try to create tests for **all** of these capabilities (but we do have notebooks with tests for all of them in the repo), just one as an example. \n",
    "Anyway, let's create a test suite (used to save and aggregate tests):"
   ]
  },
  {
   "cell_type": "code",
   "execution_count": 11,
   "metadata": {},
   "outputs": [],
   "source": [
    "suite = TestSuite()\n",
    "editor = Editor()"
   ]
  },
  {
   "cell_type": "markdown",
   "metadata": {},
   "source": [
    "## Capability: NER"
   ]
  },
  {
   "cell_type": "markdown",
   "metadata": {},
   "source": [
    "Let's start with the NER capability.  \n",
    "How do named entities impact duplicate question detection? \n"
   ]
  },
  {
   "cell_type": "code",
   "execution_count": 12,
   "metadata": {},
   "outputs": [
    {
     "name": "stdout",
     "output_type": "stream",
     "text": [
      "1\n"
     ]
    },
    {
     "data": {
      "text/plain": [
       "('Two women are embracing while holding to go packages.',\n",
       " 'The sisters are hugging goodbye while holding to go packages after just eating lunch.')"
      ]
     },
     "execution_count": 12,
     "metadata": {},
     "output_type": "execute_result"
    }
   ],
   "source": [
    "i = 0\n",
    "print(dev_df.iloc[i].label)\n",
    "parsed_qs[i]"
   ]
  },
  {
   "cell_type": "markdown",
   "metadata": {},
   "source": [
    "### MFT\n",
    "It seems that the model should be able to label as contradiction when name is changed.   \n",
    "Let's write an MFT where we have two people that have the same last name, but different first names.  \n",
    "Instead of running the test now, we'll add it to the suite and run all tests later."
   ]
  },
  {
   "cell_type": "code",
   "execution_count": 13,
   "metadata": {},
   "outputs": [
    {
     "name": "stderr",
     "output_type": "stream",
     "text": [
      "/home/eric/anaconda3/lib/python3.7/site-packages/checklist/text_generation.py:171: UserWarning: Creating a tensor from a list of numpy.ndarrays is extremely slow. Please consider converting the list to a single numpy.ndarray with numpy.array() before converting to a tensor. (Triggered internally at  ../torch/csrc/utils/tensor_new.cpp:201.)\n",
      "  to_pred = torch.tensor(to_pred, device=self.device).to(torch.int64)\n"
     ]
    },
    {
     "name": "stdout",
     "output_type": "stream",
     "text": [
      "('Rachel Wright is still at home', 'Howard Wright is still at home')\n",
      "('Stephanie Gordon is editor at Medium', 'Christopher Gordon is editor at Medium')\n"
     ]
    }
   ],
   "source": [
    "t = editor.template((\n",
    "    '{first_name} {last_name} is {mask} at {mask}',\n",
    "    '{first_name2} {last_name} is {mask} at {mask}',\n",
    "    ),\n",
    "    remove_duplicates=True, \n",
    "    nsamples=300)\n",
    "test = MFT(**t, labels=2, name='same adjectives, different people', capability = 'NER',\n",
    "           description='Different first name, same adjective and last name')\n",
    "suite.add(test, overwrite=True)\n",
    "print(t.data[0])\n",
    "print(t.data[1])"
   ]
  },
  {
   "cell_type": "code",
   "execution_count": 14,
   "metadata": {},
   "outputs": [
    {
     "name": "stdout",
     "output_type": "stream",
     "text": [
      "('Jason likes to do chores in advance', 'Jason does not like to do chores in advance')\n",
      "('Alice likes to do dishes in public', 'Alice does not like to do dishes in public')\n"
     ]
    }
   ],
   "source": [
    "t = editor.template(('{first_name} likes to do {mask} in {mask}', '{first_name} does not like to do {mask} in {mask}'),\n",
    "                remove_duplicates=True, \n",
    "                nsamples=300)\n",
    "test = MFT(**t, labels=2, name='Negation contradiction', description='', capability='Negation')\n",
    "suite.add(test, overwrite=True)\n",
    "print(t.data[0])\n",
    "print(t.data[1])"
   ]
  },
  {
   "cell_type": "markdown",
   "metadata": {},
   "source": [
    "### INV\n",
    "If you have two questions with the same named entity, changing the entity on both should not change whether the questions are duplicates or not.  \n",
    "Let's write an INV for this."
   ]
  },
  {
   "cell_type": "markdown",
   "metadata": {},
   "source": [
    "Since we are dealing with pairs of questions, we have to write a wrapper to make sure the same name is changed on both:"
   ]
  },
  {
   "cell_type": "code",
   "execution_count": 15,
   "metadata": {},
   "outputs": [
    {
     "data": {
      "text/plain": [
       "['Two women having drinks with women and smoking cigarettes at the bar.',\n",
       " 'Two men having drinks with men and smoking cigarettes at the bar.']"
      ]
     },
     "execution_count": 15,
     "metadata": {},
     "output_type": "execute_result"
    }
   ],
   "source": [
    "import re\n",
    "def change_gender(text):\n",
    "    # not perfect... there is some ambiguity in that her -> his or him depending on context\n",
    "    female_words = ['woman', 'women', 'she', 'her', 'hers', 'girl', 'girls', 'sister',  'sisters',  'daughter', 'daughters']\n",
    "    male_words   = ['man',   'men',   'he',  'him', 'his',  'boy',  'boys',  'brother', 'brothers', 'son',      'sons']\n",
    "    \n",
    "    # completely swapping gender doesn't work yet. \n",
    "    ret = []\n",
    "    for i, word in enumerate(male_words):\n",
    "        swapped = re.sub(r'\\b%s\\b' % word, female_words[i], text, flags=re.I)\n",
    "        if swapped != text:\n",
    "            ret += [swapped]\n",
    "    for i, word in enumerate(female_words):\n",
    "        swapped = re.sub(r'\\b%s\\b' % word, male_words[i], text, flags=re.I)\n",
    "        if swapped != text:\n",
    "            ret += [swapped]\n",
    "    return ret\n",
    "\n",
    "change_gender(\"Two women having drinks with men and smoking cigarettes at the bar.\")"
   ]
  },
  {
   "cell_type": "code",
   "execution_count": 16,
   "metadata": {
    "scrolled": true
   },
   "outputs": [],
   "source": [
    "def change_gender_on_both(qs):\n",
    "    q1, q2 = qs\n",
    "    c1 = change_gender(q1.text)\n",
    "    c2 = change_gender(q2.text)\n",
    "    # to keep things simple, test only where single gender swapped sentence is generated\n",
    "    if len(c1) == 1 and len(c2) == 1:\n",
    "        return [(q1, q2) for q1, q2 in zip(c1, c2)]\n",
    "    else:\n",
    "        return "
   ]
  },
  {
   "cell_type": "code",
   "execution_count": 17,
   "metadata": {},
   "outputs": [
    {
     "name": "stdout",
     "output_type": "stream",
     "text": [
      "[('Three young girls are walking hand in hand in a crowd of people.', 'A group of girls try to make their way through the crowd at a concert.'), ('Three young boys are walking hand in hand in a crowd of people.', 'A group of boys try to make their way through the crowd at a concert.')]\n"
     ]
    }
   ],
   "source": [
    "t = Perturb.perturb(parsed_qs_spacy, change_gender_on_both, nsamples=200)\n",
    "test = INV(**t, name='Change gender in both', capability='NER',\n",
    "          description='')\n",
    "# test.run(new_pp)\n",
    "# test.summary(3)\n",
    "suite.add(test, overwrite=True)\n",
    "print(t.data[0])\n",
    "#print(t.data[0])"
   ]
  },
  {
   "cell_type": "markdown",
   "metadata": {},
   "source": [
    "### DIR\n",
    "Conversely, if an entity is present on a pair the model predicts as a duplicate and we change it to something else on *only one* of the sentences, the prediction should change to non-duplicate.  \n",
    "Let's write this as a DIR test:"
   ]
  },
  {
   "cell_type": "code",
   "execution_count": 18,
   "metadata": {},
   "outputs": [],
   "source": [
    "def change_gender_on_one(qs):\n",
    "    q1, q2 = qs\n",
    "    c1 = change_gender(q1.text)\n",
    "    c2 = change_gender(q2.text)\n",
    "    # there needs to be gendered word in both\n",
    "    if len(c1) == 1 and len(c2) == 1:\n",
    "        ret = []\n",
    "        ret.extend([(c1[0], str(q2))])\n",
    "        ret.extend([(str(q1), c2[0])])\n",
    "        return ret\n",
    "    return []"
   ]
  },
  {
   "cell_type": "markdown",
   "metadata": {},
   "source": [
    "We'll write an expectation function in two steps.  \n",
    "First, we want the prediction to be 0.  \n",
    "Second, we only want to include examples where the original prediction is one. We do this with a slice wrapper:"
   ]
  },
  {
   "cell_type": "code",
   "execution_count": 19,
   "metadata": {},
   "outputs": [],
   "source": [
    "# we want changes to make the case go towards 2 (contradiction). \n",
    "expect_fn = Expect.eq(2)\n",
    "expect_fn = Expect.slice_orig(expect_fn, lambda orig, *args: orig != 2)\n"
   ]
  },
  {
   "cell_type": "markdown",
   "metadata": {},
   "source": [
    "Let's put it all together into a test:"
   ]
  },
  {
   "cell_type": "code",
   "execution_count": 20,
   "metadata": {},
   "outputs": [
    {
     "name": "stdout",
     "output_type": "stream",
     "text": [
      "('Two young girls are playing large stringed instruments behind music stands, with a window in the background.', 'The girls are musicians.')\n",
      "('Two young boys are playing large stringed instruments behind music stands, with a window in the background.', 'The girls are musicians.')\n",
      "('Two young girls are playing large stringed instruments behind music stands, with a window in the background.', 'The boys are musicians.')\n"
     ]
    }
   ],
   "source": [
    "t = Perturb.perturb(parsed_qs_spacy, change_gender_on_one, nsamples=200)\n",
    "name = 'Change gender in one of the questions'\n",
    "desc = 'Take non-contradictions. Change gender in one to make contradictions.'\n",
    "test = DIR(**t, expect=expect_fn, name=name, description=desc, capability='NER')\n",
    "suite.add(test, overwrite=True)\n",
    "print(t.data[0][0])\n",
    "print(t.data[0][1])\n",
    "print(t.data[0][2])"
   ]
  },
  {
   "cell_type": "markdown",
   "metadata": {},
   "source": [
    "# Running the suite, seeing results"
   ]
  },
  {
   "cell_type": "markdown",
   "metadata": {},
   "source": [
    "When running the prediction, the Huggingface pipeline returns a dict with predicted label and probability:"
   ]
  },
  {
   "cell_type": "markdown",
   "metadata": {},
   "source": [
    "We write a simple wrapper to make the output compatible with CheckList:"
   ]
  },
  {
   "cell_type": "code",
   "execution_count": 21,
   "metadata": {},
   "outputs": [],
   "source": [
    "def pred_and_conf(data):\n",
    "    data = [[d] for d in data]\n",
    "    raw_preds = pipe_all(data)\n",
    "    pp = np.array([[p[0]['score'], p[1]['score'], p[2]['score']] for p in raw_preds])\n",
    "    preds = np.argmax(pp, axis=1)\n",
    "    return preds, pp"
   ]
  },
  {
   "cell_type": "code",
   "execution_count": 22,
   "metadata": {},
   "outputs": [
    {
     "name": "stdout",
     "output_type": "stream",
     "text": [
      "Running same adjectives, different people\n",
      "Predicting 297 examples\n",
      "Running Negation contradiction\n",
      "Predicting 300 examples\n",
      "Running Change gender in both\n",
      "Predicting 400 examples\n",
      "Running Change gender in one of the questions\n",
      "Predicting 600 examples\n"
     ]
    }
   ],
   "source": [
    "suite.run(pred_and_conf, overwrite=True)"
   ]
  },
  {
   "cell_type": "markdown",
   "metadata": {},
   "source": [
    "We can see a (text) summary of the results by calling `suite.summary()`"
   ]
  },
  {
   "cell_type": "code",
   "execution_count": 23,
   "metadata": {},
   "outputs": [
    {
     "name": "stdout",
     "output_type": "stream",
     "text": [
      "NER\n",
      "\n",
      "same adjectives, different people\n",
      "Test cases:      297\n",
      "Fails (rate):    109 (36.7%)\n",
      "\n",
      "Example fails:\n",
      "0.5 0.3 0.2 ('Helen Gordon is back at ABC', 'Julia Gordon is back at ABC')\n",
      "----\n",
      "0.7 0.2 0.1 ('Samuel Price is staying at home', 'Frank Price is staying at home')\n",
      "----\n",
      "0.8 0.1 0.0 ('Dick Kennedy is home at night', 'Jack Kennedy is home at night')\n",
      "----\n",
      "\n",
      "\n",
      "Change gender in both\n",
      "Test cases:      200\n",
      "Fails (rate):    4 (2.0%)\n",
      "\n",
      "Example fails:\n",
      "0.0 0.2 0.8 ('A young child sits on some pillows with a green tray of chopped-up food in front of him.', 'A young man prepares to eat a meal.')\n",
      "0.4 0.5 0.1 ('A young child sits on some pillows with a green tray of chopped-up food in front of her.', 'A young woman prepares to eat a meal.')\n",
      "\n",
      "----\n",
      "0.0 1.0 0.0 ('A man in a black hoodie watching a man in a red cap.', 'The man in the black hoodie is a robber.')\n",
      "0.0 0.5 0.5 ('A woman in a black hoodie watching a woman in a red cap.', 'The woman in the black hoodie is a robber.')\n",
      "\n",
      "----\n",
      "0.0 0.0 1.0 ('A young boy walking in the park dressed in dark clothes and dark cap.', 'A young man walking in the park dressed in dark clothes and dark cap.')\n",
      "0.8 0.2 0.0 ('A young girl walking in the park dressed in dark clothes and dark cap.', 'A young woman walking in the park dressed in dark clothes and dark cap.')\n",
      "\n",
      "----\n",
      "\n",
      "\n",
      "Change gender in one of the questions\n",
      "Test cases:      200\n",
      "After filtering: 133 (66.5%)\n",
      "Fails (rate):    10 (7.5%)\n",
      "\n",
      "Example fails:\n",
      "0.0 0.5 0.4 ('A man wearing blue jeans and a black shirt is talking to a man wearing white shorts while they are sitting outside in folding chairs on a patio.', 'the woman is white')\n",
      "0.0 1.0 0.0 ('A man wearing blue jeans and a black shirt is talking to a man wearing white shorts while they are sitting outside in folding chairs on a patio.', 'the man is white')\n",
      "0.0 1.0 0.0 ('A woman wearing blue jeans and a black shirt is talking to a woman wearing white shorts while they are sitting outside in folding chairs on a patio.', 'the woman is white')\n",
      "\n",
      "----\n",
      "0.0 1.0 0.0 ('A man wearing a white and blue shirt cooking corn on the cob while a different man buys a piece of corn.', 'The farmer is selling some of his stock to a customer.')\n",
      "0.0 0.9 0.0 ('A woman wearing a white and blue shirt cooking corn on the cob while a different woman buys a piece of corn.', 'The farmer is selling some of his stock to a customer.')\n",
      "0.0 0.8 0.2 ('A man wearing a white and blue shirt cooking corn on the cob while a different man buys a piece of corn.', 'The farmer is selling some of hers stock to a customer.')\n",
      "\n",
      "----\n",
      "0.3 0.7 0.0 ('Semi-pro martial artist practices his most powerful moves.', 'The martial artist prepares for his sparring session.')\n",
      "0.1 0.6 0.3 ('Semi-pro martial artist practices hers most powerful moves.', 'The martial artist prepares for his sparring session.')\n",
      "\n",
      "----\n",
      "\n",
      "\n",
      "\n",
      "\n",
      "Negation\n",
      "\n",
      "Negation contradiction\n",
      "Test cases:      300\n",
      "Fails (rate):    0 (0.0%)\n",
      "\n",
      "\n",
      "\n",
      "\n"
     ]
    }
   ],
   "source": [
    "suite.summary()"
   ]
  },
  {
   "cell_type": "markdown",
   "metadata": {},
   "source": [
    "Or if we're using jupyter, we can use a nifty visualization that has all of the tests we created in a matrix.  \n",
    "You can navigate the matrix and see results for individual tests (*The screenshot below is based on our locally finetuned model, so the numbers may not match with your results.*)."
   ]
  },
  {
   "cell_type": "code",
   "execution_count": 24,
   "metadata": {
    "scrolled": false
   },
   "outputs": [
    {
     "name": "stdout",
     "output_type": "stream",
     "text": [
      "Please wait as we prepare the table data...\n"
     ]
    },
    {
     "data": {
      "application/vnd.jupyter.widget-view+json": {
       "model_id": "ac78ff9b0ff34d348e2ed24f59519288",
       "version_major": 2,
       "version_minor": 0
      },
      "text/plain": [
       "SuiteSummarizer(stats={'npassed': 0, 'nfailed': 0, 'nfiltered': 0}, test_infos=[{'name': 'same adjectives, dif…"
      ]
     },
     "metadata": {},
     "output_type": "display_data"
    }
   ],
   "source": [
    "# from IPython.display import HTML, Image\n",
    "# with open('visual_table_summary.gif','rb') as f:\n",
    "#     display(Image(data=f.read(), format='png'))\n",
    "suite.visual_summary_table()"
   ]
  },
  {
   "cell_type": "markdown",
   "metadata": {},
   "source": [
    "## Taxonomy"
   ]
  },
  {
   "cell_type": "markdown",
   "metadata": {},
   "source": [
    "Let's create a few additional tests for the Taxonomy capability"
   ]
  },
  {
   "cell_type": "code",
   "execution_count": 25,
   "metadata": {},
   "outputs": [
    {
     "name": "stdout",
     "output_type": "stream",
     "text": [
      "('understanding', 'savvy', 'read', 'understand'), ('engaged', 'busy'), ('religious', 'spiritual'), ('activist', 'militant'), ('professional', 'pro'), ('attentive', 'thoughtful'), ('rational', 'intellectual'), ('scared', 'frightened'), ('popular', 'democratic'), ('militant', 'competitive', 'activist'), ('dominant', 'prevalent'), ('crazy', 'sick', 'mad', 'disturbed', 'wild'), ('focused', 'center'), ('active', 'dynamic', 'alive'), ('productive', 'rich', 'fat'), ('civilized', 'polite', 'cultured'), ('fluent', 'liquid', 'fluid', 'smooth'), ('serious', 'sober', 'dangerous', 'severe', 'good'), ('ambitious', 'challenging'), ('transparent', 'lucid'), ('effective', 'efficient', 'good'), ('rude', 'natural', 'crude', 'primitive'), ('overweight', 'heavy'), ('conservative', 'cautious', 'bourgeois'), ('sober', 'serious'), ('humble', 'modest', 'small'), ('intelligent', 'healthy', 'sound'), ('reliable', 'authentic', 'honest', 'true'), ('annoying', 'irritating'), ('loyal', 'patriotic', 'firm', 'fast'), ('mean', 'hateful', 'average'), ('mobile', 'fluid'), ('outspoken', 'vocal', 'blunt', 'frank', 'candid'), ('passive', 'peaceful'), ('healthy', 'intelligent', 'tidy', 'respectable', 'sound'), ('anxious', 'nervous', 'dying', 'uneasy'), ('vocal', 'outspoken'), ('solitary', 'alone', 'lonely'), ('organised', 'organized', 'direct', 'engineer'), ('knowledgeable', 'intimate', 'learned', 'knowing'), ('fat', 'productive', 'rich', 'fatty', 'fertile'), ('nervous', 'anxious', 'uneasy'), ('liberal', 'tolerant', 'progressive', 'handsome', 'free', 'giving'), ('controlling', 'moderate'), ('precise', 'accurate', 'exact'), ('depressed', 'blue', 'grim'), ('Muslim', 'Islamic'), ('negative', 'damaging'), ('strict', 'rigid', 'stern', 'rigorous'), ('obnoxious', 'objectionable')\n"
     ]
    }
   ],
   "source": [
    "tmp = []\n",
    "x = editor.suggest('He is trying to become more {mask}.')\n",
    "x += editor.suggest('He is trying to become less {mask}.')\n",
    "for a in set(x):\n",
    "    e = editor.synonyms('He is trying to become {moreless} %s?' % a, a, moreless=['more', 'less'])\n",
    "    if e:\n",
    "#         print(a, [b[0][0] for b in e] )\n",
    "        tmp.append([a] + e)\n",
    "#         opps.append((a, e[0][0][0]))\n",
    "print(', '.join([str(tuple(x)) for x in tmp][:50]))"
   ]
  },
  {
   "cell_type": "markdown",
   "metadata": {},
   "source": [
    "Out of all of those, let's pick a few:"
   ]
  },
  {
   "cell_type": "code",
   "execution_count": 26,
   "metadata": {},
   "outputs": [],
   "source": [
    "synonyms = [ ('spiritual', 'religious'), ('angry', 'furious'), ('radical', 'revolutionary'),\n",
    "            ('vocal', 'outspoken'), ('grateful', 'thankful'), ('intelligent', 'smart'),\n",
    "            ('humble', 'modest'), ('courageous', 'brave'), ('happy', 'joyful'), ('scared', 'frightened'),\n",
    "            ('strict', 'rigid'), ('careful', 'measured')\n",
    "           ]\n",
    "\n",
    "\n",
    "antonyms = [('progressive', 'conservative'),('religious', 'secular'),('positive', 'negative'),\n",
    "            ('defensive', 'offensive'),('rude',  'polite'),('optimistic', 'pessimistic'),\n",
    "            ('stupid', 'smart'),('negative', 'positive'),('unhappy', 'happy'),('active', 'passive'),\n",
    "            ('impatient', 'patient'),('powerless', 'powerful'),('visible', 'invisible'),('fat', 'thin'),\n",
    "            ('bad', 'good'),('cautious', 'brave'), ('hopeful', 'hopeless'),('insecure', 'secure'),\n",
    "            ('humble', 'proud'),('passive', 'active'),('dependent', 'independent'),('pessimistic', 'optimistic'),\n",
    "            ('irresponsible', 'responsible'),('courageous', 'fearful')]"
   ]
  },
  {
   "cell_type": "markdown",
   "metadata": {},
   "source": [
    "With these, we can create a simple MFT, where we expect the model to recognize these synonyms.  \n"
   ]
  },
  {
   "cell_type": "code",
   "execution_count": 27,
   "metadata": {},
   "outputs": [],
   "source": [
    "# moreless {synonym} should be contradiction\n",
    "\n",
    "t = editor.template([\n",
    "    (\n",
    "    '{first_name} wants to be more {x[0]}?',\n",
    "    '{first_name} wants to be less {x[1]}?'\n",
    "    ),\n",
    "      (\n",
    "    '{first_name} wants to be less {x[0]}?',\n",
    "    '{first_name} wants to be more {x[1]}?'\n",
    "    )\n",
    "    ],\n",
    "    unroll=True,\n",
    "    x=synonyms,\n",
    "    remove_duplicates=True, \n",
    "    nsamples=200)\n",
    "name = 'wants to be more/less {synonym}?' \n",
    "desc = 'different (simple) templates where words are replaced with their synonyms'\n",
    "test = MFT(**t, labels=2, name=name, capability = 'Taxonomy',\n",
    "          description=desc)\n",
    "suite.add(test, overwrite=True)\n",
    "\n",
    "\n",
    "\n",
    "# moreless {antonym} should be entailment\n",
    "t = editor.template([\n",
    "    (\n",
    "    '{first_name} wants to be more {x[0]}',\n",
    "    '{first_name} wants to be less {x[1]}'\n",
    "    ),\n",
    "      (\n",
    "    '{first_name} wants to be less {x[0]}',\n",
    "    '{first_name} wants to be more {x[1]}'\n",
    "    )\n",
    "    ],\n",
    "    unroll=True,\n",
    "    x=antonyms,\n",
    "    remove_duplicates=True, \n",
    "    nsamples=200)\n",
    "name = 'wants to be more/less {antonym}?' \n",
    "desc = 'different (simple) templates where words are replaced with their antonym'\n",
    "test = MFT(**t, labels=0, name=name, capability = 'Taxonomy',\n",
    "          description=desc)\n",
    "suite.add(test, overwrite=True)"
   ]
  },
  {
   "cell_type": "code",
   "execution_count": 28,
   "metadata": {},
   "outputs": [],
   "source": [
    "# moreless {synonym} should be contradiction\n",
    "\n",
    "t = editor.template([\n",
    "    (\n",
    "    '{first_name} is the most {x[0]} person in {mask}',\n",
    "    '{first_name} is the least {x[1]} person in {mask}'\n",
    "    ),\n",
    "      (\n",
    "    '{first_name} is the least {x[0]} person in {mask}.',\n",
    "    '{first_name} is the most  {x[1]} person in {mask}.'\n",
    "    )\n",
    "    ],\n",
    "    unroll=True,\n",
    "    x=synonyms,\n",
    "    remove_duplicates=True, \n",
    "    nsamples=200)\n",
    "name = 'is the most/least {synonym} in {mask}' \n",
    "desc = 'different (simple) templates where words are replaced with their synonyms'\n",
    "test = MFT(**t, labels=2, name=name, capability = 'Taxonomy',\n",
    "          description=desc)\n",
    "suite.add(test, overwrite=True)\n",
    "\n",
    "\n",
    "\n",
    "# most/least {antonym} should be entailment\n",
    "t = editor.template([\n",
    "    (\n",
    "    '{first_name} is the most {x[0]} person in {mask}',\n",
    "    '{first_name} is the least {x[1]} person in {mask}'\n",
    "    ),\n",
    "      (\n",
    "    '{first_name} is the least {x[0]} person in {mask}.',\n",
    "    '{first_name} is the most  {x[1]} person in {mask}.'\n",
    "    )\n",
    "    ],\n",
    "    unroll=True,\n",
    "    x=antonyms,\n",
    "    remove_duplicates=True, \n",
    "    nsamples=200)\n",
    "name = 'is the most/least {antonym} in {mask}' \n",
    "desc = 'different (simple) templates where words are replaced with their antonym'\n",
    "test = MFT(**t, labels=0, name=name, capability = 'Taxonomy',\n",
    "          description=desc)\n",
    "suite.add(test, overwrite=True)"
   ]
  },
  {
   "cell_type": "markdown",
   "metadata": {},
   "source": [
    "It would be easy to turn the synonym one into an INV as well (we do this in another notebook), but let's end here after we run the suite again and see new results."
   ]
  },
  {
   "cell_type": "code",
   "execution_count": 29,
   "metadata": {},
   "outputs": [],
   "source": [
    "import re\n",
    "def replace_pairs(pairs):\n",
    "    def replace_z(text):\n",
    "        ret = []\n",
    "        for x, y in pairs:\n",
    "            t = re.sub(r'\\b%s\\b' % x, y, text )\n",
    "            if t != text:\n",
    "                ret.append(t)\n",
    "            if y == 'smart':\n",
    "                continue\n",
    "            t = re.sub(r'\\b%s\\b' % y, x, text )\n",
    "            if t != text:\n",
    "                ret.append(t)\n",
    "        return list(set(ret))\n",
    "    return replace_z\n",
    "def apply_and_pair(fn):\n",
    "    def ret_fn(text):\n",
    "        ret = fn(text)\n",
    "        return [(text, r) for r in ret]\n",
    "    return ret_fn\n",
    "\n",
    "\n",
    "def apply_to_each_and_product(fn):\n",
    "    def apply_to_one(x):\n",
    "        p = fn(x)\n",
    "        if not p:\n",
    "            p = []\n",
    "        return list(set([x] + p))\n",
    "    def ret_fn(pair):\n",
    "        p1 = apply_to_one(pair[0])\n",
    "        p2 = apply_to_one(pair[1])\n",
    "        return [x for x in itertools.product(p1, p2) if x != pair]\n",
    "    return ret_fn\n",
    "\n",
    "\n",
    "\n",
    "name = '(INV) Replace synonyms in real pairs'\n",
    "desc = ''\n",
    "t = Perturb.perturb(parsed_qs, apply_to_each_and_product(replace_pairs(synonyms)), nsamples=1000, keep_original=True)\n",
    "test = INV(t.data, threshold=0.1, name=name, description=desc, capability='Taxonomy')\n",
    "# test.run(new_pp, n=500, seed=1)\n",
    "# test.summary(n=3)\n",
    "suite.add(test, overwrite=True)"
   ]
  },
  {
   "cell_type": "code",
   "execution_count": 30,
   "metadata": {},
   "outputs": [
    {
     "name": "stdout",
     "output_type": "stream",
     "text": [
      "Running same adjectives, different people\n",
      "Predicting 297 examples\n",
      "Running Negation contradiction\n",
      "Predicting 300 examples\n",
      "Running Change gender in both\n",
      "Predicting 400 examples\n",
      "Running Change gender in one of the questions\n",
      "Predicting 600 examples\n",
      "Running wants to be more/less {synonym}?\n",
      "Predicting 400 examples\n",
      "Running wants to be more/less {antonym}?\n",
      "Predicting 400 examples\n",
      "Running is the most/least {synonym} in {mask}\n",
      "Predicting 400 examples\n"
     ]
    },
    {
     "name": "stderr",
     "output_type": "stream",
     "text": [
      "/home/eric/anaconda3/lib/python3.7/site-packages/transformers/pipelines/base.py:910: UserWarning: You seem to be using the pipelines sequentially on GPU. In order to maximize efficiency please use a dataset\n",
      "  UserWarning,\n"
     ]
    },
    {
     "name": "stdout",
     "output_type": "stream",
     "text": [
      "Running is the most/least {antonym} in {mask}\n",
      "Predicting 400 examples\n",
      "Running (INV) Replace synonyms in real pairs\n",
      "Predicting 92 examples\n"
     ]
    }
   ],
   "source": [
    "suite.run(pred_and_conf, overwrite=True)"
   ]
  },
  {
   "cell_type": "code",
   "execution_count": 31,
   "metadata": {
    "scrolled": true
   },
   "outputs": [
    {
     "name": "stdout",
     "output_type": "stream",
     "text": [
      "Taxonomy\n",
      "\n",
      "wants to be more/less {synonym}?\n",
      "Test cases:      400\n",
      "Fails (rate):    0 (0.0%)\n",
      "\n",
      "\n",
      "wants to be more/less {antonym}?\n",
      "Test cases:      400\n",
      "Fails (rate):    400 (100.0%)\n",
      "\n",
      "Example fails:\n",
      "0.0 0.0 1.0 ('Sue wants to be less bad', 'Sue wants to be more good')\n",
      "----\n",
      "0.0 0.0 1.0 ('Marilyn wants to be less passive', 'Marilyn wants to be more active')\n",
      "----\n",
      "0.0 0.0 1.0 ('Sharon wants to be more humble', 'Sharon wants to be less proud')\n",
      "----\n",
      "\n",
      "\n",
      "is the most/least {synonym} in {mask}\n",
      "Test cases:      400\n",
      "Fails (rate):    13 (3.2%)\n",
      "\n",
      "Example fails:\n",
      "0.5 0.1 0.4 ('Catherine is the most careful person in London', 'Catherine is the least measured person in London')\n",
      "----\n",
      "0.5 0.1 0.4 ('Victoria is the most careful person in life', 'Victoria is the least measured person in life')\n",
      "----\n",
      "0.5 0.1 0.4 ('Harry is the most humble person in NYC', 'Harry is the least modest person in NYC')\n",
      "----\n",
      "\n",
      "\n",
      "is the most/least {antonym} in {mask}\n",
      "Test cases:      400\n",
      "Fails (rate):    395 (98.8%)\n",
      "\n",
      "Example fails:\n",
      "0.0 0.0 0.9 ('Stephen is the most dependent person in Miami', 'Stephen is the least independent person in Miami')\n",
      "----\n",
      "0.0 0.0 1.0 ('Mary is the least insecure person in Oregon.', 'Mary is the most  secure person in Oregon.')\n",
      "----\n",
      "0.0 0.0 1.0 ('Adam is the most visible person in Baltimore', 'Adam is the least invisible person in Baltimore')\n",
      "----\n",
      "\n",
      "\n",
      "(INV) Replace synonyms in real pairs\n",
      "Test cases:      46\n",
      "Fails (rate):    3 (6.5%)\n",
      "\n",
      "Example fails:\n",
      "0.0 0.8 0.2 ('A man in a suit walks through a train station.', 'the child was happy`')\n",
      "0.0 0.5 0.5 ('A man in a suit walks through a train station.', 'the child was joyful`')\n",
      "\n",
      "----\n",
      "0.0 0.7 0.3 ('A frightened boy is carrying a hammer, ready to defend himself.', 'The boy is crying.')\n",
      "0.0 0.4 0.5 ('A scared boy is carrying a hammer, ready to defend himself.', 'The boy is crying.')\n",
      "\n",
      "----\n",
      "0.9 0.1 0.0 ('Young friends in a park relaxing and enjoying conversation with each other.', 'The friends are vocal and using words.')\n",
      "0.0 0.4 0.6 ('Young friends in a park relaxing and enjoying conversation with each other.', 'The friends are outspoken and using words.')\n",
      "\n",
      "----\n",
      "\n",
      "\n",
      "\n",
      "\n",
      "NER\n",
      "\n",
      "same adjectives, different people\n",
      "Test cases:      297\n",
      "Fails (rate):    109 (36.7%)\n",
      "\n",
      "Example fails:\n",
      "0.8 0.1 0.0 ('Amy Jordan is editor at ,', 'Judith Jordan is editor at ,')\n",
      "----\n",
      "0.7 0.1 0.2 ('Mary Murray is not at it', 'Lisa Murray is not at it')\n",
      "----\n",
      "0.4 0.3 0.3 ('Ruth Morris is editor at Commentary', 'Emily Morris is editor at Commentary')\n",
      "----\n",
      "\n",
      "\n",
      "Change gender in both\n",
      "Test cases:      200\n",
      "Fails (rate):    4 (2.0%)\n",
      "\n",
      "Example fails:\n",
      "0.0 1.0 0.0 ('A young Asian woman wearing modern clothing leans against a cast iron fence in front of a brick building.', 'This lady is waiting for her father.')\n",
      "0.0 0.0 1.0 ('A young Asian man wearing modern clothing leans against a cast iron fence in front of a brick building.', 'This lady is waiting for him father.')\n",
      "\n",
      "----\n",
      "0.0 0.2 0.8 ('A young child sits on some pillows with a green tray of chopped-up food in front of him.', 'A young man prepares to eat a meal.')\n",
      "0.4 0.5 0.1 ('A young child sits on some pillows with a green tray of chopped-up food in front of her.', 'A young woman prepares to eat a meal.')\n",
      "\n",
      "----\n",
      "0.0 1.0 0.0 ('A man in a black hoodie watching a man in a red cap.', 'The man in the black hoodie is a robber.')\n",
      "0.0 0.5 0.5 ('A woman in a black hoodie watching a woman in a red cap.', 'The woman in the black hoodie is a robber.')\n",
      "\n",
      "----\n",
      "\n",
      "\n",
      "Change gender in one of the questions\n",
      "Test cases:      200\n",
      "After filtering: 133 (66.5%)\n",
      "Fails (rate):    10 (7.5%)\n",
      "\n",
      "Example fails:\n",
      "0.0 1.0 0.0 ('A male child with blond-hair, green eyes, and a sticky looking mouth wearing a multicolored t-shirt has his hand wrapped around a popsicle stick and is chewing and has it inserted into his mouth where you can see 4 bright white teeth on the bottom row.', 'The little boy is eating a strawberry popsicle.')\n",
      "0.0 0.9 0.1 ('A male child with blond-hair, green eyes, and a sticky looking mouth wearing a multicolored t-shirt has hers hand wrapped around a popsicle stick and is chewing and has it inserted into hers mouth where you can see 4 bright white teeth on the bottom row.', 'The little boy is eating a strawberry popsicle.')\n",
      "\n",
      "----\n",
      "0.3 0.7 0.0 ('Semi-pro martial artist practices his most powerful moves.', 'The martial artist prepares for his sparring session.')\n",
      "0.1 0.6 0.3 ('Semi-pro martial artist practices hers most powerful moves.', 'The martial artist prepares for his sparring session.')\n",
      "\n",
      "----\n",
      "0.1 0.9 0.0 ('A woman pulls a small child in a sled through the snow.', 'A mother takes her child out sledding.')\n",
      "0.2 0.8 0.0 ('A woman pulls a small child in a sled through the snow.', 'A mother takes him child out sledding.')\n",
      "\n",
      "----\n",
      "\n",
      "\n",
      "\n",
      "\n",
      "Negation\n",
      "\n",
      "Negation contradiction\n",
      "Test cases:      300\n",
      "Fails (rate):    0 (0.0%)\n",
      "\n",
      "\n",
      "\n",
      "\n"
     ]
    }
   ],
   "source": [
    "suite.summary()"
   ]
  },
  {
   "cell_type": "markdown",
   "metadata": {},
   "source": [
    "## Robustness"
   ]
  },
  {
   "cell_type": "code",
   "execution_count": 32,
   "metadata": {},
   "outputs": [],
   "source": [
    "def wrap_apply_to_each(fn, both=False, *args, **kwargs):\n",
    "    def new_fn(qs, *args, **kwargs):\n",
    "        q1, q2 = qs\n",
    "        ret = []\n",
    "        fnq1 = fn(q1, *args, **kwargs)\n",
    "        fnq2 = fn(q2, *args, **kwargs)\n",
    "        if type(fnq1) != list:\n",
    "            fnq1 = [fnq1]\n",
    "        if type(fnq2) != list:\n",
    "            fnq2 = [fnq2]\n",
    "        ret.extend([(x, str(q2)) for x in fnq1])\n",
    "        ret.extend([(str(q1), x) for x in fnq2])\n",
    "        if both:\n",
    "            ret.extend([(x, x2) for x, x2 in itertools.product(fnq1, fnq2)])\n",
    "        return [x for x in ret if x[0] and x[1]]\n",
    "    return new_fn\n",
    "def wrap_apply_to_both(fn, *args, **kwargs):\n",
    "    def new_fn(qs, *args, **kwargs):\n",
    "        q1, q2 = qs\n",
    "        ret = []\n",
    "        fnq1 = fn(q1, *args, **kwargs)\n",
    "        fnq2 = fn(q2, *args, **kwargs)\n",
    "        if type(fnq1) != list:\n",
    "            fnq1 = [fnq1]\n",
    "        if type(fnq2) != list:\n",
    "            fnq2 = [fnq2]\n",
    "        ret.extend([(x, x2) for x, x2 in itertools.product(fnq1, fnq2)])\n",
    "        return [x for x in ret if x[0] and x[1]]\n",
    "    return new_fn"
   ]
  },
  {
   "cell_type": "markdown",
   "metadata": {},
   "source": [
    "Typos"
   ]
  },
  {
   "cell_type": "code",
   "execution_count": 33,
   "metadata": {},
   "outputs": [],
   "source": [
    "t = Perturb.perturb(parsed_qs, wrap_apply_to_each(Perturb.add_typos), nsamples=500)\n",
    "test = INV(t.data, name='add one typo', capability='Robustness', description='')\n",
    "# test.run(new_pp)\n",
    "# test.summary(3)\n",
    "suite.add(test, overwrite=True)"
   ]
  },
  {
   "cell_type": "markdown",
   "metadata": {},
   "source": [
    "Contractions"
   ]
  },
  {
   "cell_type": "code",
   "execution_count": 34,
   "metadata": {},
   "outputs": [],
   "source": [
    "t = Perturb.perturb(parsed_qs, wrap_apply_to_each(Perturb.contractions, both=True), nsamples=500)\n",
    "test = INV(**t, name='contractions', capability='Robustness', description='')\n",
    "# test.run(new_pp)\n",
    "# test.summary(3)\n",
    "suite.add(test)"
   ]
  },
  {
   "cell_type": "code",
   "execution_count": 35,
   "metadata": {},
   "outputs": [
    {
     "name": "stdout",
     "output_type": "stream",
     "text": [
      "Running same adjectives, different people\n",
      "Predicting 297 examples\n",
      "Running Negation contradiction\n",
      "Predicting 300 examples\n",
      "Running Change gender in both\n",
      "Predicting 400 examples\n",
      "Running Change gender in one of the questions\n",
      "Predicting 600 examples\n",
      "Running wants to be more/less {synonym}?\n",
      "Predicting 400 examples\n",
      "Running wants to be more/less {antonym}?\n",
      "Predicting 400 examples\n",
      "Running is the most/least {synonym} in {mask}\n",
      "Predicting 400 examples\n",
      "Running is the most/least {antonym} in {mask}\n",
      "Predicting 400 examples\n",
      "Running (INV) Replace synonyms in real pairs\n",
      "Predicting 92 examples\n",
      "Running add one typo\n",
      "Predicting 1500 examples\n",
      "Running contractions\n",
      "Predicting 1038 examples\n",
      "Taxonomy\n",
      "\n",
      "wants to be more/less {synonym}?\n",
      "Test cases:      400\n",
      "Fails (rate):    0 (0.0%)\n",
      "\n",
      "\n",
      "wants to be more/less {antonym}?\n",
      "Test cases:      400\n",
      "Fails (rate):    400 (100.0%)\n",
      "\n",
      "Example fails:\n",
      "0.0 0.0 1.0 ('Caroline wants to be less progressive', 'Caroline wants to be more conservative')\n",
      "----\n",
      "0.0 0.0 1.0 ('Hugh wants to be less religious', 'Hugh wants to be more secular')\n",
      "----\n",
      "0.0 0.0 1.0 ('Anna wants to be less hopeful', 'Anna wants to be more hopeless')\n",
      "----\n",
      "\n",
      "\n",
      "is the most/least {synonym} in {mask}\n",
      "Test cases:      400\n",
      "Fails (rate):    13 (3.2%)\n",
      "\n",
      "Example fails:\n",
      "0.4 0.1 0.4 ('Stephanie is the most careful person in Portland', 'Stephanie is the least measured person in Portland')\n",
      "----\n",
      "0.6 0.1 0.3 ('Martha is the most humble person in Gotham', 'Martha is the least modest person in Gotham')\n",
      "----\n",
      "0.6 0.1 0.4 ('Alfred is the most humble person in Utah', 'Alfred is the least modest person in Utah')\n",
      "----\n",
      "\n",
      "\n",
      "is the most/least {antonym} in {mask}\n",
      "Test cases:      400\n",
      "Fails (rate):    395 (98.8%)\n",
      "\n",
      "Example fails:\n",
      "0.0 0.0 1.0 ('Sharon is the most active person in there', 'Sharon is the least passive person in there')\n",
      "----\n",
      "0.0 0.0 1.0 ('Sarah is the least dependent person in Boston.', 'Sarah is the most  independent person in Boston.')\n",
      "----\n",
      "0.0 0.0 1.0 ('Louis is the most optimistic person in politics', 'Louis is the least pessimistic person in politics')\n",
      "----\n",
      "\n",
      "\n",
      "(INV) Replace synonyms in real pairs\n",
      "Test cases:      46\n",
      "Fails (rate):    3 (6.5%)\n",
      "\n",
      "Example fails:\n",
      "0.0 0.7 0.3 ('A frightened boy is carrying a hammer, ready to defend himself.', 'The boy is crying.')\n",
      "0.0 0.4 0.5 ('A scared boy is carrying a hammer, ready to defend himself.', 'The boy is crying.')\n",
      "\n",
      "----\n",
      "0.0 0.8 0.2 ('A man in a suit walks through a train station.', 'the child was happy`')\n",
      "0.0 0.5 0.5 ('A man in a suit walks through a train station.', 'the child was joyful`')\n",
      "\n",
      "----\n",
      "0.9 0.1 0.0 ('Young friends in a park relaxing and enjoying conversation with each other.', 'The friends are vocal and using words.')\n",
      "0.0 0.4 0.6 ('Young friends in a park relaxing and enjoying conversation with each other.', 'The friends are outspoken and using words.')\n",
      "\n",
      "----\n",
      "\n",
      "\n",
      "\n",
      "\n",
      "Robustness\n",
      "\n",
      "add one typo\n",
      "Test cases:      500\n",
      "Fails (rate):    99 (19.8%)\n",
      "\n",
      "Example fails:\n",
      "0.0 0.9 0.1 ('A man sleeping on the ground in a subway.', 'The man is sleeping next to his dog.')\n",
      "0.0 0.0 1.0 ('A man seleping on the ground in a subway.', 'The man is sleeping next to his dog.')\n",
      "\n",
      "----\n",
      "0.1 0.0 0.9 ('A girl all in black and white, and carrying an umbrella, walks down the street, as others watch.', 'A girl has all white.')\n",
      "0.6 0.2 0.2 ('A girl all in black and white, and carrying an umbrella, walks down the street, as others watch.', 'A girl has all whiet.')\n",
      "\n",
      "----\n",
      "1.0 0.0 0.0 ('Two black dogs run along the green grass.', 'Two dogs run along the lawn.')\n",
      "0.4 0.6 0.0 ('Two black dogs run along the green grass.', 'Two dogs runa long the lawn.')\n",
      "\n",
      "----\n",
      "\n",
      "\n",
      "contractions\n",
      "Test cases:      500\n",
      "Fails (rate):    4 (0.8%)\n",
      "\n",
      "Example fails:\n",
      "0.0 0.3 0.7 ('A person on a boat by the shore.', 'He is sleeping on the boat.')\n",
      "0.0 0.5 0.5 ('A person on a boat by the shore.', \"He's sleeping on the boat.\")\n",
      "\n",
      "----\n",
      "0.7 0.1 0.2 ('Female runners from Japan, Germany and China are running side by side.', 'The runners are not from the US')\n",
      "0.4 0.1 0.5 ('Female runners from Japan, Germany and China are running side by side.', \"The runners aren't from the US\")\n",
      "\n",
      "----\n",
      "0.0 0.6 0.4 ('A boy with a basketballs glowers at the camera.', \"The boy doesn't like playing basketball\")\n",
      "0.0 0.5 0.5 ('A boy with a basketballs glowers at the camera.', 'The boy does not like playing basketball')\n",
      "\n",
      "----\n",
      "\n",
      "\n",
      "\n",
      "\n",
      "NER\n",
      "\n",
      "same adjectives, different people\n",
      "Test cases:      297\n",
      "Fails (rate):    109 (36.7%)\n",
      "\n",
      "Example fails:\n",
      "0.5 0.2 0.3 ('Heather Russell is still at home', 'Lynn Russell is still at home')\n",
      "----\n",
      "0.7 0.1 0.2 ('Mary Murray is not at it', 'Lisa Murray is not at it')\n",
      "----\n",
      "0.6 0.3 0.1 ('Michael Harrison is away at church', 'Larry Harrison is away at church')\n",
      "----\n",
      "\n",
      "\n",
      "Change gender in both\n",
      "Test cases:      200\n",
      "Fails (rate):    4 (2.0%)\n",
      "\n",
      "Example fails:\n",
      "0.0 0.0 1.0 ('A young boy walking in the park dressed in dark clothes and dark cap.', 'A young man walking in the park dressed in dark clothes and dark cap.')\n",
      "0.8 0.2 0.0 ('A young girl walking in the park dressed in dark clothes and dark cap.', 'A young woman walking in the park dressed in dark clothes and dark cap.')\n",
      "\n",
      "----\n",
      "0.0 1.0 0.0 ('A young Asian woman wearing modern clothing leans against a cast iron fence in front of a brick building.', 'This lady is waiting for her father.')\n",
      "0.0 0.0 1.0 ('A young Asian man wearing modern clothing leans against a cast iron fence in front of a brick building.', 'This lady is waiting for him father.')\n",
      "\n",
      "----\n",
      "0.0 1.0 0.0 ('A man in a black hoodie watching a man in a red cap.', 'The man in the black hoodie is a robber.')\n",
      "0.0 0.5 0.5 ('A woman in a black hoodie watching a woman in a red cap.', 'The woman in the black hoodie is a robber.')\n",
      "\n",
      "----\n",
      "\n",
      "\n",
      "Change gender in one of the questions\n",
      "Test cases:      200\n",
      "After filtering: 133 (66.5%)\n",
      "Fails (rate):    10 (7.5%)\n",
      "\n",
      "Example fails:\n",
      "0.9 0.1 0.0 ('Competitive bikers in an inside race cross a line with one biker in blue and white raising his arm.', 'A race between competitive bikers on an inside track begins as a biker raises his arm.')\n",
      "0.9 0.1 0.0 ('Competitive bikers in an inside race cross a line with one biker in blue and white raising hers arm.', 'A race between competitive bikers on an inside track begins as a biker raises his arm.')\n",
      "\n",
      "----\n",
      "0.3 0.7 0.0 ('Semi-pro martial artist practices his most powerful moves.', 'The martial artist prepares for his sparring session.')\n",
      "0.1 0.6 0.3 ('Semi-pro martial artist practices hers most powerful moves.', 'The martial artist prepares for his sparring session.')\n",
      "\n",
      "----\n",
      "0.0 1.0 0.0 ('A long-haired brown and white dog carries a snowball in his mouth.', 'A dog carries a snowball to give it to his owner.')\n",
      "0.0 1.0 0.0 ('A long-haired brown and white dog carries a snowball in hers mouth.', 'A dog carries a snowball to give it to his owner.')\n",
      "0.0 1.0 0.0 ('A long-haired brown and white dog carries a snowball in his mouth.', 'A dog carries a snowball to give it to hers owner.')\n",
      "\n",
      "----\n",
      "\n",
      "\n",
      "\n",
      "\n",
      "Negation\n",
      "\n",
      "Negation contradiction\n",
      "Test cases:      300\n",
      "Fails (rate):    0 (0.0%)\n",
      "\n",
      "\n",
      "\n",
      "\n"
     ]
    }
   ],
   "source": [
    "suite.run(pred_and_conf, overwrite=True)\n",
    "suite.summary()"
   ]
  },
  {
   "cell_type": "markdown",
   "metadata": {},
   "source": [
    "## Logic"
   ]
  },
  {
   "cell_type": "code",
   "execution_count": 36,
   "metadata": {},
   "outputs": [],
   "source": [
    "# subset of:\n",
    "#', '.join([str(x) for x in editor.suggest('The woman likes to {mask} and {mask}.')])\n",
    "\n",
    "\n",
    "fverb = [('joke', 'sing'), ('jump', 'climb'), ('yell', 'point'), ('rock', 'ride'), ('run', 'travel'), \n",
    "         ('fight', 'lose'), ('cook', 'wine'), ('smoke', 'watch'), ('party', 'eat'), ('nap', 'drink'), \n",
    "         ('sweat', 'drink'), ('run', 'exercise'), ('cook', 'jam'), ('lie', 'rape'), ('clean', 'iron'), \n",
    "         ('bake', 'garden'), ('drink', 'live'), ('read', 'create'), ('cook', 'build'), ('go', 'flirt'), \n",
    "         ('talk', 'explain'), ('sit', 'browse'), ('fight', 'run'), ('crash', 'drive'), ('cry', 'argue'), \n",
    "         ('flirt', 'dance'), ('write', 'photograph'), ('drink', 'workout'), ('walk', 'fish'), ('drive', 'travel'),\n",
    "         ('nap', 'talk'), ('drink', 'crash'), ('dance', 'fart'), ('talk', 'act'), ('shave', 'pray'), \n",
    "         ('stay', 'play'), ('dress', 'shower'), ('travel', 'train'), ('talk', 'hug'), ('nap', 'shower'), \n",
    "         ('party', 'sleep'), ('eat', 'smell'), ('stay', 'work'), ('come', 'leave'), \n",
    "         ('drink', 'complain'), ('cook', 'barbecue'), ('fish', 'skate'), ('speak', 'read'), \n",
    "         ('knit', 'dye'), ('shave', 'groom'), ('hunt', 'party'), ('live', 'eat'), ('dance', 'hug'),\n",
    "         ('laugh', 'love'), ('lie', 'kill'), ('hug', 'pinch'), ('go', 'run'), ('pool', 'party'),\n",
    "         ('dress', 'serve'), ('fight', 'wrestle'), ('sleep', 'cook'), ('fish', 'drink'), ('try', 'win'), \n",
    "         ('shop', 'party'), ('dance', 'skate'), ('talk', 'please'), ('climb', 'run'), ('read', 'rap'), \n",
    "         ('drink', 'quarrel'), ('joke', 'smile'), ('run', 'fast'), ('cook', 'gamble'), ('drink', 'deal'), \n",
    "         ('gamble', 'smoke'), ('smoke', 'relax'), ('hug', 'chat'), ('lie', 'swear'), ('smoke', 'fish'), \n",
    "         ('steal', 'kill'), ('climb', 'dance'), ('work', 'write'), ('hunt', 'hike'), ('laugh', 'relax'), \n",
    "         ('sing', 'eat'), ('go', 'walk'), ('scream', 'spit'), ('exercise', 'train'), ('smoke', 'cough'),\n",
    "         ('drink', 'knit'), ('relax', 'reflect'), ('talk', 'speak'), ('fish', 'explore'), \n",
    "         ('hide', 'watch'), ('sing', 'entertain'), ('jump', 'slide'), ('drink', 'compete'), ('eat', 'learn'), \n",
    "         ('eat', 'wash'), ('sleep', 'sing'), ('cook', 'flirt'), ('tease', 'annoy'), ('sleep', 'fish'), \n",
    "         ('swim', 'paddle'), ('cook', 'think'), ('party', 'gossip'), ('dance', 'joke'), ('sit', 'drive'),\n",
    "         ('cook', 'swim'), ('eat', 'garden'), ('sing', 'fly'), ('shave', 'eat'), ('sit', 'chew'), \n",
    "         ('play', 'laugh'), ('clean', 'dress'), ('eat', 'date'), ('text', 'Facebook'), ('drink', 'celebrate'), \n",
    "         ('surf', 'hike'), ('make', 'bake'), ('fly', 'swim'), ('drink', 'garden'),  \n",
    "         ('paint', 'glue'), ('hide', 'wait'), ('dress', 'laugh'), ('shave', 'bald'), ('cook', 'recycle'), \n",
    "         ('run', 'write'), ('stand', 'cry'), ('sit', 'bleed'), ('stay', 'linger'), ('kill', 'eat'), \n",
    "         ('talk', 'type'), ('sleep', 'laugh'), ('chat', 'read'), ('smile', 'blush'), ('fight', 'kill'), \n",
    "         ('come', 'ride'), ('talk', 'study'), ('write', 'drink'), ('hide', 'talk'), ('dress', 'work'), \n",
    "         ('dance', 'DJ'), ('eat', 'kiss'), ('kiss', 'swear'), ('write', 'study'), ('dance', 'walk'),\n",
    "         ('relax', 'eat'), ('drink', 'win'), ('stay', 'wait'), ('shoot', 'shoot'), ('cook', 'ski'),\n",
    "         ('hide', 'kill'), ('eat', 'spend'), ('stretch', 'sweat'), ('chat', 'write'), ('play', 'run'), \n",
    "         ('relax', 'play'), ('read', 'vote'), ('eat', 'snack'), ('eat', 'dream'), ('rock', 'play'),\n",
    "         ('kiss', 'lick'), ('yell', 'stomp'), ('chat', 'talk'), ('try', 'cook'), ('sit', 'pee'), \n",
    "         ('paint', 'model'), ('cook', 'invent'), ('pray', 'talk'), ('cry', 'smile'), ('kill', 'shoot'), \n",
    "         ('fly', 'surf'), ('dance', 'type'), ('cut', 'twist'), ('shower', 'drive'), ('stop', 'wait'),\n",
    "         ('cry', 'fight'), ('drink', 'explore'), ('read', 'photograph'), ('knit', 'sing'), \n",
    "         ('fight', 'dance'), ('sit', 'pace'), ('sing', 'flirt'), ('run', 'hunt'), ('hug', 'play'), \n",
    "         ('sew', 'design'), ('live', 'breathe'), ('paint', 'design'), ('rock', 'groove'), ('relax', 'think'), \n",
    "         ('cook', 'tie'), ('flirt', 'joke'), ('sit', 'float'), ('come', 'flirt'), ('talk', 'bake'),\n",
    "         ('sleep', 'fart'), ('mix', 'tell'), ('travel', 'hunt'), ('shoot', 'kill'), ('hunt', 'hide'), \n",
    "         ('hug', 'apologize'), ('yell', 'punch'), ('read', 'hunt'), ('yell', 'laugh'), ('sleep', 'chill'), \n",
    "         ('cry', 'sob'), ('stand', 'wait'), ('scream', 'bang'), ('shave', 'change'), ('mix', 'switch'), \n",
    "         ('sing', 'skate'), ('read', 'drive'), ('read', 'surf'), ('lie', 'twist'), ('crash', 'dance'),\n",
    "         ('read', 'gamble'), ('sit', 'rock'), ('walk', 'explore'), ('fish', 'wrestle'), ('surf', 'surf'), \n",
    "         ('relax', 'chat'), ('move', 'explore'), ('dance', 'color'), ('dance', 'think'), ('chat', 'drink')]"
   ]
  },
  {
   "cell_type": "code",
   "execution_count": 37,
   "metadata": {},
   "outputs": [
    {
     "data": {
      "text/plain": [
       "('joke', 'sing')"
      ]
     },
     "execution_count": 37,
     "metadata": {},
     "output_type": "execute_result"
    }
   ],
   "source": [
    "fverb[0]"
   ]
  },
  {
   "cell_type": "code",
   "execution_count": 38,
   "metadata": {},
   "outputs": [
    {
     "name": "stdout",
     "output_type": "stream",
     "text": [
      "('The woman likes to fly and swim', 'She likes to fly')\n",
      "('The woman likes to kill and eat', 'She likes to kill')\n",
      "('The woman likes to flirt and dance', \"She doesn't like to flirt\")\n",
      "('The woman likes to try and win', \"She doesn't like to try\")\n",
      "('The woman likes to neither jump nor climb', 'She likes to jump')\n",
      "('The woman likes to neither come nor leave', 'She likes to come')\n",
      "('The woman likes to neither fish nor drink', \"She doesn't like to fish\")\n",
      "('The woman likes to neither laugh nor love', \"She doesn't like to laugh\")\n"
     ]
    }
   ],
   "source": [
    "# A & B -> A\n",
    "t = editor.template((\n",
    "    'The woman likes to {fverb[0]} and {fverb[1]}',\n",
    "    'She likes to {fverb[0]}',\n",
    "    ),\n",
    "    fverb=fverb,\n",
    "    remove_duplicates=True, \n",
    "    nsamples=400)\n",
    "test = MFT(**t, labels=0, name='both A and B entailment', capability = 'Logic', \n",
    "           description='A & B implies truth of A')\n",
    "suite.add(test, overwrite=True)\n",
    "print(t.data[0])\n",
    "print(t.data[1])\n",
    "\n",
    "\n",
    "# A & B -> A\n",
    "t = editor.template((\n",
    "    'The woman likes to {fverb[0]} and {fverb[1]}',\n",
    "    \"She doesn't like to {fverb[0]}\"\n",
    "    ),\n",
    "    fverb=fverb,\n",
    "    remove_duplicates=True, \n",
    "    nsamples=400)\n",
    "test = MFT(**t, labels=2, name='both A and B contradiction ', capability = 'Logic', \n",
    "           description='A & B implies not A is false')\n",
    "suite.add(test, overwrite=True)\n",
    "print(t.data[0])\n",
    "print(t.data[1])\n",
    "\n",
    "\n",
    "# ~A & ~B -> ~A\n",
    "t = editor.template((\n",
    "    'The woman likes to neither {fverb[0]} nor {fverb[1]}',\n",
    "    'She likes to {fverb[0]}',\n",
    "    ),\n",
    "    fverb=fverb,\n",
    "    remove_duplicates=True, \n",
    "    nsamples=400)\n",
    "test = MFT(**t, labels=2, name='neither nor contradiction', capability = 'Logic', \n",
    "           description='~A & ~B implies  ~A')\n",
    "suite.add(test, overwrite=True)\n",
    "print(t.data[0])\n",
    "print(t.data[1])\n",
    "\n",
    "\n",
    "\n",
    "# ~A & ~B -> ~A\n",
    "t = editor.template((\n",
    "    'The woman likes to neither {fverb[0]} nor {fverb[1]}',\n",
    "    \"She doesn't like to {fverb[0]}\"\n",
    "    ),\n",
    "    fverb=fverb,\n",
    "    remove_duplicates=True, \n",
    "    nsamples=400)\n",
    "test = MFT(**t, labels=0, name='neither nor entailment', capability = 'Logic', \n",
    "           description='~A & ~B does not implies ~A')\n",
    "suite.add(test, overwrite=True)\n",
    "print(t.data[0])\n",
    "print(t.data[1])"
   ]
  },
  {
   "cell_type": "code",
   "execution_count": 39,
   "metadata": {},
   "outputs": [
    {
     "name": "stdout",
     "output_type": "stream",
     "text": [
      "Running same adjectives, different people\n",
      "Predicting 297 examples\n",
      "Running Negation contradiction\n",
      "Predicting 300 examples\n",
      "Running Change gender in both\n",
      "Predicting 400 examples\n",
      "Running Change gender in one of the questions\n",
      "Predicting 600 examples\n",
      "Running wants to be more/less {synonym}?\n",
      "Predicting 400 examples\n",
      "Running wants to be more/less {antonym}?\n",
      "Predicting 400 examples\n",
      "Running is the most/least {synonym} in {mask}\n",
      "Predicting 400 examples\n",
      "Running is the most/least {antonym} in {mask}\n",
      "Predicting 400 examples\n",
      "Running (INV) Replace synonyms in real pairs\n",
      "Predicting 92 examples\n",
      "Running add one typo\n",
      "Predicting 1500 examples\n",
      "Running contractions\n",
      "Predicting 1038 examples\n",
      "Running both A and B entailment\n",
      "Predicting 400 examples\n",
      "Running both A and B contradiction \n",
      "Predicting 400 examples\n",
      "Running neither nor contradiction\n",
      "Predicting 400 examples\n",
      "Running neither nor entailment\n",
      "Predicting 400 examples\n",
      "Taxonomy\n",
      "\n",
      "wants to be more/less {synonym}?\n",
      "Test cases:      400\n",
      "Fails (rate):    0 (0.0%)\n",
      "\n",
      "\n",
      "wants to be more/less {antonym}?\n",
      "Test cases:      400\n",
      "Fails (rate):    400 (100.0%)\n",
      "\n",
      "Example fails:\n",
      "0.0 0.0 1.0 ('Mary wants to be more religious', 'Mary wants to be less secular')\n",
      "----\n",
      "0.0 0.0 1.0 ('Claire wants to be less passive', 'Claire wants to be more active')\n",
      "----\n",
      "0.0 0.0 1.0 ('Claire wants to be more powerless', 'Claire wants to be less powerful')\n",
      "----\n",
      "\n",
      "\n",
      "is the most/least {synonym} in {mask}\n",
      "Test cases:      400\n",
      "Fails (rate):    13 (3.2%)\n",
      "\n",
      "Example fails:\n",
      "0.6 0.1 0.3 ('Brian is the most humble person in Hollywood', 'Brian is the least modest person in Hollywood')\n",
      "----\n",
      "0.6 0.1 0.4 ('Alfred is the most humble person in Utah', 'Alfred is the least modest person in Utah')\n",
      "----\n",
      "0.5 0.1 0.4 ('Harry is the most humble person in NYC', 'Harry is the least modest person in NYC')\n",
      "----\n",
      "\n",
      "\n",
      "is the most/least {antonym} in {mask}\n",
      "Test cases:      400\n",
      "Fails (rate):    395 (98.8%)\n",
      "\n",
      "Example fails:\n",
      "0.1 0.0 0.9 ('Nicole is the most progressive person in Ireland', 'Nicole is the least conservative person in Ireland')\n",
      "----\n",
      "0.0 0.0 1.0 ('Ray is the most fat person in Colorado', 'Ray is the least thin person in Colorado')\n",
      "----\n",
      "0.0 0.0 1.0 ('Steve is the least defensive person in California.', 'Steve is the most  offensive person in California.')\n",
      "----\n",
      "\n",
      "\n",
      "(INV) Replace synonyms in real pairs\n",
      "Test cases:      46\n",
      "Fails (rate):    3 (6.5%)\n",
      "\n",
      "Example fails:\n",
      "0.9 0.1 0.0 ('Young friends in a park relaxing and enjoying conversation with each other.', 'The friends are vocal and using words.')\n",
      "0.0 0.4 0.6 ('Young friends in a park relaxing and enjoying conversation with each other.', 'The friends are outspoken and using words.')\n",
      "\n",
      "----\n",
      "0.0 0.8 0.2 ('A man in a suit walks through a train station.', 'the child was happy`')\n",
      "0.0 0.5 0.5 ('A man in a suit walks through a train station.', 'the child was joyful`')\n",
      "\n",
      "----\n",
      "0.0 0.7 0.3 ('A frightened boy is carrying a hammer, ready to defend himself.', 'The boy is crying.')\n",
      "0.0 0.4 0.5 ('A scared boy is carrying a hammer, ready to defend himself.', 'The boy is crying.')\n",
      "\n",
      "----\n",
      "\n",
      "\n",
      "\n",
      "\n",
      "Robustness\n",
      "\n",
      "add one typo\n",
      "Test cases:      500\n",
      "Fails (rate):    99 (19.8%)\n",
      "\n",
      "Example fails:\n",
      "0.1 0.0 0.9 ('A girl all in black and white, and carrying an umbrella, walks down the street, as others watch.', 'A girl has all white.')\n",
      "0.6 0.2 0.2 ('A girl all in black and white, and carrying an umbrella, walks down the street, as others watch.', 'A girl has all whiet.')\n",
      "\n",
      "----\n",
      "1.0 0.0 0.0 ('A man and women are dancing together on the street.', 'A man and woman are dancing together.')\n",
      "0.3 0.1 0.6 ('A man and women are dancing together on the street.', 'A mna and woman are dancing together.')\n",
      "\n",
      "----\n",
      "1.0 0.0 0.0 ('A person wearing jeans, a blue shirt and a helmet is riding a four-wheeler in a sandy area.', 'A person is riding outside.')\n",
      "0.4 0.4 0.3 ('A person wearing jeans, a blue shirt and a helmet is riding a four-wheeler in a sandy area.', 'A person is ridin goutside.')\n",
      "\n",
      "----\n",
      "\n",
      "\n",
      "contractions\n",
      "Test cases:      500\n",
      "Fails (rate):    4 (0.8%)\n",
      "\n",
      "Example fails:\n",
      "0.0 0.6 0.4 ('A boy with a basketballs glowers at the camera.', \"The boy doesn't like playing basketball\")\n",
      "0.0 0.5 0.5 ('A boy with a basketballs glowers at the camera.', 'The boy does not like playing basketball')\n",
      "\n",
      "----\n",
      "0.0 0.4 0.6 ('A man and his two sons purchase food.', 'They are cooking a big meal for dinner.')\n",
      "0.0 0.5 0.5 ('A man and his two sons purchase food.', \"They're cooking a big meal for dinner.\")\n",
      "\n",
      "----\n",
      "0.7 0.1 0.2 ('Female runners from Japan, Germany and China are running side by side.', 'The runners are not from the US')\n",
      "0.4 0.1 0.5 ('Female runners from Japan, Germany and China are running side by side.', \"The runners aren't from the US\")\n",
      "\n",
      "----\n",
      "\n",
      "\n",
      "\n",
      "\n",
      "NER\n",
      "\n",
      "same adjectives, different people\n",
      "Test cases:      297\n",
      "Fails (rate):    109 (36.7%)\n",
      "\n",
      "Example fails:\n",
      "0.4 0.3 0.3 ('Laura Miller is speaking at UCLA', 'Andrea Miller is speaking at UCLA')\n",
      "----\n",
      "0.9 0.1 0.0 ('Jack Brown is back at NBC', 'Greg Brown is back at NBC')\n",
      "----\n",
      "0.2 0.5 0.4 ('Carol Clark is now at UCLA', 'Charlotte Clark is now at UCLA')\n",
      "----\n",
      "\n",
      "\n",
      "Change gender in both\n",
      "Test cases:      200\n",
      "Fails (rate):    4 (2.0%)\n",
      "\n",
      "Example fails:\n",
      "0.0 0.2 0.8 ('A young child sits on some pillows with a green tray of chopped-up food in front of him.', 'A young man prepares to eat a meal.')\n",
      "0.4 0.5 0.1 ('A young child sits on some pillows with a green tray of chopped-up food in front of her.', 'A young woman prepares to eat a meal.')\n",
      "\n",
      "----\n",
      "0.0 1.0 0.0 ('A young Asian woman wearing modern clothing leans against a cast iron fence in front of a brick building.', 'This lady is waiting for her father.')\n",
      "0.0 0.0 1.0 ('A young Asian man wearing modern clothing leans against a cast iron fence in front of a brick building.', 'This lady is waiting for him father.')\n",
      "\n",
      "----\n",
      "0.0 0.0 1.0 ('A young boy walking in the park dressed in dark clothes and dark cap.', 'A young man walking in the park dressed in dark clothes and dark cap.')\n",
      "0.8 0.2 0.0 ('A young girl walking in the park dressed in dark clothes and dark cap.', 'A young woman walking in the park dressed in dark clothes and dark cap.')\n",
      "\n",
      "----\n",
      "\n",
      "\n",
      "Change gender in one of the questions\n",
      "Test cases:      200\n",
      "After filtering: 133 (66.5%)\n",
      "Fails (rate):    10 (7.5%)\n",
      "\n",
      "Example fails:\n",
      "0.0 1.0 0.0 ('A man wearing a white and blue shirt cooking corn on the cob while a different man buys a piece of corn.', 'The farmer is selling some of his stock to a customer.')\n",
      "0.0 0.9 0.0 ('A woman wearing a white and blue shirt cooking corn on the cob while a different woman buys a piece of corn.', 'The farmer is selling some of his stock to a customer.')\n",
      "0.0 0.8 0.2 ('A man wearing a white and blue shirt cooking corn on the cob while a different man buys a piece of corn.', 'The farmer is selling some of hers stock to a customer.')\n",
      "\n",
      "----\n",
      "1.0 0.0 0.0 ('A young man, without apparent protective gear, is on a bicycle jumping over small hills of sand or gravel, with a long bridge and tall buildings in the background.', 'A young male is riding his bicycle over small hills.')\n",
      "0.5 0.2 0.3 ('A young man, without apparent protective gear, is on a bicycle jumping over small hills of sand or gravel, with a long bridge and tall buildings in the background.', 'A young male is riding hers bicycle over small hills.')\n",
      "\n",
      "----\n",
      "0.9 0.1 0.0 ('Competitive bikers in an inside race cross a line with one biker in blue and white raising his arm.', 'A race between competitive bikers on an inside track begins as a biker raises his arm.')\n",
      "0.9 0.1 0.0 ('Competitive bikers in an inside race cross a line with one biker in blue and white raising hers arm.', 'A race between competitive bikers on an inside track begins as a biker raises his arm.')\n",
      "\n",
      "----\n",
      "\n",
      "\n",
      "\n",
      "\n",
      "Negation\n",
      "\n",
      "Negation contradiction\n",
      "Test cases:      300\n",
      "Fails (rate):    0 (0.0%)\n",
      "\n",
      "\n",
      "\n",
      "\n",
      "Logic\n",
      "\n",
      "both A and B entailment\n",
      "Test cases:      400\n",
      "Fails (rate):    0 (0.0%)\n",
      "\n",
      "\n",
      "both A and B contradiction \n",
      "Test cases:      400\n",
      "Fails (rate):    0 (0.0%)\n",
      "\n",
      "\n",
      "neither nor contradiction\n",
      "Test cases:      400\n",
      "Fails (rate):    400 (100.0%)\n",
      "\n",
      "Example fails:\n",
      "0.9 0.1 0.0 ('The woman likes to neither relax nor reflect', 'She likes to relax')\n",
      "----\n",
      "0.8 0.2 0.0 ('The woman likes to neither hug nor pinch', 'She likes to hug')\n",
      "----\n",
      "0.8 0.2 0.0 ('The woman likes to neither play nor laugh', 'She likes to play')\n",
      "----\n",
      "\n",
      "\n",
      "neither nor entailment\n",
      "Test cases:      400\n",
      "Fails (rate):    101 (25.2%)\n",
      "\n",
      "Example fails:\n",
      "0.2 0.1 0.7 ('The woman likes to neither sit nor bleed', \"She doesn't like to sit\")\n",
      "----\n",
      "0.1 0.1 0.8 ('The woman likes to neither surf nor hike', \"She doesn't like to surf\")\n",
      "----\n",
      "0.1 0.1 0.8 ('The woman likes to neither fight nor lose', \"She doesn't like to fight\")\n",
      "----\n",
      "\n",
      "\n",
      "\n",
      "\n"
     ]
    }
   ],
   "source": [
    "suite.run(pred_and_conf, overwrite=True)\n",
    "suite.summary()"
   ]
  }
 ],
 "metadata": {
  "kernelspec": {
   "display_name": "Python 3",
   "language": "python",
   "name": "python3"
  },
  "language_info": {
   "codemirror_mode": {
    "name": "ipython",
    "version": 3
   },
   "file_extension": ".py",
   "mimetype": "text/x-python",
   "name": "python",
   "nbconvert_exporter": "python",
   "pygments_lexer": "ipython3",
   "version": "3.7.6"
  }
 },
 "nbformat": 4,
 "nbformat_minor": 2
}
