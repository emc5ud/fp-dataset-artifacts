{
 "cells": [
  {
   "cell_type": "code",
   "execution_count": 3,
   "id": "127f564a",
   "metadata": {},
   "outputs": [],
   "source": [
    "import pandas as pd\n",
    "import seaborn as sns\n",
    "import matplotlib.pyplot as plt"
   ]
  },
  {
   "cell_type": "code",
   "execution_count": 4,
   "id": "033266c8",
   "metadata": {},
   "outputs": [
    {
     "ename": "FileNotFoundError",
     "evalue": "[Errno 2] No such file or directory: './snli_1.0/snli_1.0_train.txt'",
     "output_type": "error",
     "traceback": [
      "\u001b[0;31m---------------------------------------------------------------------------\u001b[0m",
      "\u001b[0;31mFileNotFoundError\u001b[0m                         Traceback (most recent call last)",
      "\u001b[0;32m/tmp/ipykernel_742/2994645613.py\u001b[0m in \u001b[0;36m<module>\u001b[0;34m\u001b[0m\n\u001b[0;32m----> 1\u001b[0;31m \u001b[0mtrain\u001b[0m \u001b[0;34m=\u001b[0m \u001b[0mpd\u001b[0m\u001b[0;34m.\u001b[0m\u001b[0mread_csv\u001b[0m\u001b[0;34m(\u001b[0m\u001b[0;34m'./snli_1.0/snli_1.0_train.txt'\u001b[0m\u001b[0;34m,\u001b[0m \u001b[0msep\u001b[0m\u001b[0;34m=\u001b[0m\u001b[0;34m'\\t'\u001b[0m\u001b[0;34m)\u001b[0m\u001b[0;34m\u001b[0m\u001b[0;34m\u001b[0m\u001b[0m\n\u001b[0m\u001b[1;32m      2\u001b[0m \u001b[0mdev\u001b[0m \u001b[0;34m=\u001b[0m \u001b[0mpd\u001b[0m\u001b[0;34m.\u001b[0m\u001b[0mread_csv\u001b[0m\u001b[0;34m(\u001b[0m\u001b[0;34m'./snli_1.0/snli_1.0_dev.txt'\u001b[0m\u001b[0;34m,\u001b[0m \u001b[0msep\u001b[0m\u001b[0;34m=\u001b[0m\u001b[0;34m'\\t'\u001b[0m\u001b[0;34m)\u001b[0m\u001b[0;34m\u001b[0m\u001b[0;34m\u001b[0m\u001b[0m\n\u001b[1;32m      3\u001b[0m \u001b[0mtest\u001b[0m \u001b[0;34m=\u001b[0m \u001b[0mpd\u001b[0m\u001b[0;34m.\u001b[0m\u001b[0mread_csv\u001b[0m\u001b[0;34m(\u001b[0m\u001b[0;34m'./snli_1.0/snli_1.0_test.txt'\u001b[0m\u001b[0;34m,\u001b[0m \u001b[0msep\u001b[0m\u001b[0;34m=\u001b[0m\u001b[0;34m'\\t'\u001b[0m\u001b[0;34m)\u001b[0m\u001b[0;34m\u001b[0m\u001b[0;34m\u001b[0m\u001b[0m\n",
      "\u001b[0;32m~/.local/lib/python3.8/site-packages/pandas/util/_decorators.py\u001b[0m in \u001b[0;36mwrapper\u001b[0;34m(*args, **kwargs)\u001b[0m\n\u001b[1;32m    309\u001b[0m                     \u001b[0mstacklevel\u001b[0m\u001b[0;34m=\u001b[0m\u001b[0mstacklevel\u001b[0m\u001b[0;34m,\u001b[0m\u001b[0;34m\u001b[0m\u001b[0;34m\u001b[0m\u001b[0m\n\u001b[1;32m    310\u001b[0m                 )\n\u001b[0;32m--> 311\u001b[0;31m             \u001b[0;32mreturn\u001b[0m \u001b[0mfunc\u001b[0m\u001b[0;34m(\u001b[0m\u001b[0;34m*\u001b[0m\u001b[0margs\u001b[0m\u001b[0;34m,\u001b[0m \u001b[0;34m**\u001b[0m\u001b[0mkwargs\u001b[0m\u001b[0;34m)\u001b[0m\u001b[0;34m\u001b[0m\u001b[0;34m\u001b[0m\u001b[0m\n\u001b[0m\u001b[1;32m    312\u001b[0m \u001b[0;34m\u001b[0m\u001b[0m\n\u001b[1;32m    313\u001b[0m         \u001b[0;32mreturn\u001b[0m \u001b[0mwrapper\u001b[0m\u001b[0;34m\u001b[0m\u001b[0;34m\u001b[0m\u001b[0m\n",
      "\u001b[0;32m~/.local/lib/python3.8/site-packages/pandas/io/parsers/readers.py\u001b[0m in \u001b[0;36mread_csv\u001b[0;34m(filepath_or_buffer, sep, delimiter, header, names, index_col, usecols, squeeze, prefix, mangle_dupe_cols, dtype, engine, converters, true_values, false_values, skipinitialspace, skiprows, skipfooter, nrows, na_values, keep_default_na, na_filter, verbose, skip_blank_lines, parse_dates, infer_datetime_format, keep_date_col, date_parser, dayfirst, cache_dates, iterator, chunksize, compression, thousands, decimal, lineterminator, quotechar, quoting, doublequote, escapechar, comment, encoding, encoding_errors, dialect, error_bad_lines, warn_bad_lines, on_bad_lines, delim_whitespace, low_memory, memory_map, float_precision, storage_options)\u001b[0m\n\u001b[1;32m    584\u001b[0m     \u001b[0mkwds\u001b[0m\u001b[0;34m.\u001b[0m\u001b[0mupdate\u001b[0m\u001b[0;34m(\u001b[0m\u001b[0mkwds_defaults\u001b[0m\u001b[0;34m)\u001b[0m\u001b[0;34m\u001b[0m\u001b[0;34m\u001b[0m\u001b[0m\n\u001b[1;32m    585\u001b[0m \u001b[0;34m\u001b[0m\u001b[0m\n\u001b[0;32m--> 586\u001b[0;31m     \u001b[0;32mreturn\u001b[0m \u001b[0m_read\u001b[0m\u001b[0;34m(\u001b[0m\u001b[0mfilepath_or_buffer\u001b[0m\u001b[0;34m,\u001b[0m \u001b[0mkwds\u001b[0m\u001b[0;34m)\u001b[0m\u001b[0;34m\u001b[0m\u001b[0;34m\u001b[0m\u001b[0m\n\u001b[0m\u001b[1;32m    587\u001b[0m \u001b[0;34m\u001b[0m\u001b[0m\n\u001b[1;32m    588\u001b[0m \u001b[0;34m\u001b[0m\u001b[0m\n",
      "\u001b[0;32m~/.local/lib/python3.8/site-packages/pandas/io/parsers/readers.py\u001b[0m in \u001b[0;36m_read\u001b[0;34m(filepath_or_buffer, kwds)\u001b[0m\n\u001b[1;32m    480\u001b[0m \u001b[0;34m\u001b[0m\u001b[0m\n\u001b[1;32m    481\u001b[0m     \u001b[0;31m# Create the parser.\u001b[0m\u001b[0;34m\u001b[0m\u001b[0;34m\u001b[0m\u001b[0;34m\u001b[0m\u001b[0m\n\u001b[0;32m--> 482\u001b[0;31m     \u001b[0mparser\u001b[0m \u001b[0;34m=\u001b[0m \u001b[0mTextFileReader\u001b[0m\u001b[0;34m(\u001b[0m\u001b[0mfilepath_or_buffer\u001b[0m\u001b[0;34m,\u001b[0m \u001b[0;34m**\u001b[0m\u001b[0mkwds\u001b[0m\u001b[0;34m)\u001b[0m\u001b[0;34m\u001b[0m\u001b[0;34m\u001b[0m\u001b[0m\n\u001b[0m\u001b[1;32m    483\u001b[0m \u001b[0;34m\u001b[0m\u001b[0m\n\u001b[1;32m    484\u001b[0m     \u001b[0;32mif\u001b[0m \u001b[0mchunksize\u001b[0m \u001b[0;32mor\u001b[0m \u001b[0miterator\u001b[0m\u001b[0;34m:\u001b[0m\u001b[0;34m\u001b[0m\u001b[0;34m\u001b[0m\u001b[0m\n",
      "\u001b[0;32m~/.local/lib/python3.8/site-packages/pandas/io/parsers/readers.py\u001b[0m in \u001b[0;36m__init__\u001b[0;34m(self, f, engine, **kwds)\u001b[0m\n\u001b[1;32m    809\u001b[0m             \u001b[0mself\u001b[0m\u001b[0;34m.\u001b[0m\u001b[0moptions\u001b[0m\u001b[0;34m[\u001b[0m\u001b[0;34m\"has_index_names\"\u001b[0m\u001b[0;34m]\u001b[0m \u001b[0;34m=\u001b[0m \u001b[0mkwds\u001b[0m\u001b[0;34m[\u001b[0m\u001b[0;34m\"has_index_names\"\u001b[0m\u001b[0;34m]\u001b[0m\u001b[0;34m\u001b[0m\u001b[0;34m\u001b[0m\u001b[0m\n\u001b[1;32m    810\u001b[0m \u001b[0;34m\u001b[0m\u001b[0m\n\u001b[0;32m--> 811\u001b[0;31m         \u001b[0mself\u001b[0m\u001b[0;34m.\u001b[0m\u001b[0m_engine\u001b[0m \u001b[0;34m=\u001b[0m \u001b[0mself\u001b[0m\u001b[0;34m.\u001b[0m\u001b[0m_make_engine\u001b[0m\u001b[0;34m(\u001b[0m\u001b[0mself\u001b[0m\u001b[0;34m.\u001b[0m\u001b[0mengine\u001b[0m\u001b[0;34m)\u001b[0m\u001b[0;34m\u001b[0m\u001b[0;34m\u001b[0m\u001b[0m\n\u001b[0m\u001b[1;32m    812\u001b[0m \u001b[0;34m\u001b[0m\u001b[0m\n\u001b[1;32m    813\u001b[0m     \u001b[0;32mdef\u001b[0m \u001b[0mclose\u001b[0m\u001b[0;34m(\u001b[0m\u001b[0mself\u001b[0m\u001b[0;34m)\u001b[0m\u001b[0;34m:\u001b[0m\u001b[0;34m\u001b[0m\u001b[0;34m\u001b[0m\u001b[0m\n",
      "\u001b[0;32m~/.local/lib/python3.8/site-packages/pandas/io/parsers/readers.py\u001b[0m in \u001b[0;36m_make_engine\u001b[0;34m(self, engine)\u001b[0m\n\u001b[1;32m   1038\u001b[0m             )\n\u001b[1;32m   1039\u001b[0m         \u001b[0;31m# error: Too many arguments for \"ParserBase\"\u001b[0m\u001b[0;34m\u001b[0m\u001b[0;34m\u001b[0m\u001b[0;34m\u001b[0m\u001b[0m\n\u001b[0;32m-> 1040\u001b[0;31m         \u001b[0;32mreturn\u001b[0m \u001b[0mmapping\u001b[0m\u001b[0;34m[\u001b[0m\u001b[0mengine\u001b[0m\u001b[0;34m]\u001b[0m\u001b[0;34m(\u001b[0m\u001b[0mself\u001b[0m\u001b[0;34m.\u001b[0m\u001b[0mf\u001b[0m\u001b[0;34m,\u001b[0m \u001b[0;34m**\u001b[0m\u001b[0mself\u001b[0m\u001b[0;34m.\u001b[0m\u001b[0moptions\u001b[0m\u001b[0;34m)\u001b[0m  \u001b[0;31m# type: ignore[call-arg]\u001b[0m\u001b[0;34m\u001b[0m\u001b[0;34m\u001b[0m\u001b[0m\n\u001b[0m\u001b[1;32m   1041\u001b[0m \u001b[0;34m\u001b[0m\u001b[0m\n\u001b[1;32m   1042\u001b[0m     \u001b[0;32mdef\u001b[0m \u001b[0m_failover_to_python\u001b[0m\u001b[0;34m(\u001b[0m\u001b[0mself\u001b[0m\u001b[0;34m)\u001b[0m\u001b[0;34m:\u001b[0m\u001b[0;34m\u001b[0m\u001b[0;34m\u001b[0m\u001b[0m\n",
      "\u001b[0;32m~/.local/lib/python3.8/site-packages/pandas/io/parsers/c_parser_wrapper.py\u001b[0m in \u001b[0;36m__init__\u001b[0;34m(self, src, **kwds)\u001b[0m\n\u001b[1;32m     49\u001b[0m \u001b[0;34m\u001b[0m\u001b[0m\n\u001b[1;32m     50\u001b[0m         \u001b[0;31m# open handles\u001b[0m\u001b[0;34m\u001b[0m\u001b[0;34m\u001b[0m\u001b[0;34m\u001b[0m\u001b[0m\n\u001b[0;32m---> 51\u001b[0;31m         \u001b[0mself\u001b[0m\u001b[0;34m.\u001b[0m\u001b[0m_open_handles\u001b[0m\u001b[0;34m(\u001b[0m\u001b[0msrc\u001b[0m\u001b[0;34m,\u001b[0m \u001b[0mkwds\u001b[0m\u001b[0;34m)\u001b[0m\u001b[0;34m\u001b[0m\u001b[0;34m\u001b[0m\u001b[0m\n\u001b[0m\u001b[1;32m     52\u001b[0m         \u001b[0;32massert\u001b[0m \u001b[0mself\u001b[0m\u001b[0;34m.\u001b[0m\u001b[0mhandles\u001b[0m \u001b[0;32mis\u001b[0m \u001b[0;32mnot\u001b[0m \u001b[0;32mNone\u001b[0m\u001b[0;34m\u001b[0m\u001b[0;34m\u001b[0m\u001b[0m\n\u001b[1;32m     53\u001b[0m \u001b[0;34m\u001b[0m\u001b[0m\n",
      "\u001b[0;32m~/.local/lib/python3.8/site-packages/pandas/io/parsers/base_parser.py\u001b[0m in \u001b[0;36m_open_handles\u001b[0;34m(self, src, kwds)\u001b[0m\n\u001b[1;32m    220\u001b[0m         \u001b[0mLet\u001b[0m \u001b[0mthe\u001b[0m \u001b[0mreaders\u001b[0m \u001b[0mopen\u001b[0m \u001b[0mIOHandles\u001b[0m \u001b[0mafter\u001b[0m \u001b[0mthey\u001b[0m \u001b[0mare\u001b[0m \u001b[0mdone\u001b[0m \u001b[0;32mwith\u001b[0m \u001b[0mtheir\u001b[0m \u001b[0mpotential\u001b[0m \u001b[0mraises\u001b[0m\u001b[0;34m.\u001b[0m\u001b[0;34m\u001b[0m\u001b[0;34m\u001b[0m\u001b[0m\n\u001b[1;32m    221\u001b[0m         \"\"\"\n\u001b[0;32m--> 222\u001b[0;31m         self.handles = get_handle(\n\u001b[0m\u001b[1;32m    223\u001b[0m             \u001b[0msrc\u001b[0m\u001b[0;34m,\u001b[0m\u001b[0;34m\u001b[0m\u001b[0;34m\u001b[0m\u001b[0m\n\u001b[1;32m    224\u001b[0m             \u001b[0;34m\"r\"\u001b[0m\u001b[0;34m,\u001b[0m\u001b[0;34m\u001b[0m\u001b[0;34m\u001b[0m\u001b[0m\n",
      "\u001b[0;32m~/.local/lib/python3.8/site-packages/pandas/io/common.py\u001b[0m in \u001b[0;36mget_handle\u001b[0;34m(path_or_buf, mode, encoding, compression, memory_map, is_text, errors, storage_options)\u001b[0m\n\u001b[1;32m    700\u001b[0m         \u001b[0;32mif\u001b[0m \u001b[0mioargs\u001b[0m\u001b[0;34m.\u001b[0m\u001b[0mencoding\u001b[0m \u001b[0;32mand\u001b[0m \u001b[0;34m\"b\"\u001b[0m \u001b[0;32mnot\u001b[0m \u001b[0;32min\u001b[0m \u001b[0mioargs\u001b[0m\u001b[0;34m.\u001b[0m\u001b[0mmode\u001b[0m\u001b[0;34m:\u001b[0m\u001b[0;34m\u001b[0m\u001b[0;34m\u001b[0m\u001b[0m\n\u001b[1;32m    701\u001b[0m             \u001b[0;31m# Encoding\u001b[0m\u001b[0;34m\u001b[0m\u001b[0;34m\u001b[0m\u001b[0;34m\u001b[0m\u001b[0m\n\u001b[0;32m--> 702\u001b[0;31m             handle = open(\n\u001b[0m\u001b[1;32m    703\u001b[0m                 \u001b[0mhandle\u001b[0m\u001b[0;34m,\u001b[0m\u001b[0;34m\u001b[0m\u001b[0;34m\u001b[0m\u001b[0m\n\u001b[1;32m    704\u001b[0m                 \u001b[0mioargs\u001b[0m\u001b[0;34m.\u001b[0m\u001b[0mmode\u001b[0m\u001b[0;34m,\u001b[0m\u001b[0;34m\u001b[0m\u001b[0;34m\u001b[0m\u001b[0m\n",
      "\u001b[0;31mFileNotFoundError\u001b[0m: [Errno 2] No such file or directory: './snli_1.0/snli_1.0_train.txt'"
     ]
    }
   ],
   "source": [
    "train = pd.read_csv('./snli_1.0/snli_1.0_train.txt', sep='\\t')\n",
    "dev = pd.read_csv('./snli_1.0/snli_1.0_dev.txt', sep='\\t')\n",
    "test = pd.read_csv('./snli_1.0/snli_1.0_test.txt', sep='\\t')"
   ]
  },
  {
   "cell_type": "code",
   "execution_count": null,
   "id": "d5116204",
   "metadata": {},
   "outputs": [],
   "source": []
  },
  {
   "cell_type": "code",
   "execution_count": 9,
   "id": "77944a6f",
   "metadata": {},
   "outputs": [],
   "source": [
    "train['sentence1_len'] = train.sentence1.apply(lambda x: len(x.split(' ')))\n",
    "train['sentence2_len'] = train.sentence2.apply(lambda x: len(str(x).split(' ')))\n",
    "\n",
    "dev['sentence1_len'] = train.sentence1.apply(lambda x: len(x.split(' ')))\n",
    "dev['sentence2_len'] = train.sentence2.apply(lambda x: len(str(x).split(' ')))\n",
    "\n",
    "test['sentence1_len'] = train.sentence1.apply(lambda x: len(x.split(' ')))\n",
    "test['sentence2_len'] = train.sentence2.apply(lambda x: len(str(x).split(' ')))"
   ]
  },
  {
   "cell_type": "markdown",
   "id": "bd867109",
   "metadata": {},
   "source": [
    "## Train sentence lengths"
   ]
  },
  {
   "cell_type": "code",
   "execution_count": 43,
   "id": "1b6e944b",
   "metadata": {},
   "outputs": [
    {
     "data": {
      "text/plain": [
       "<AxesSubplot:xlabel='gold_label', ylabel='sentence2_len'>"
      ]
     },
     "execution_count": 43,
     "metadata": {},
     "output_type": "execute_result"
    },
    {
     "data": {
      "image/png": "[encoded data removed]",
      "text/plain": [
       "<Figure size 720x288 with 2 Axes>"
      ]
     },
     "metadata": {
      "needs_background": "light"
     },
     "output_type": "display_data"
    }
   ],
   "source": [
    "fig, axes = plt.subplots(ncols=2, sharey=True, figsize=(10, 4))\n",
    "\n",
    "sns.violinplot(x=\"gold_label\", y=\"sentence1_len\", data=train, scale='count', scale_hue=False, ax=axes[0])\n",
    "sns.violinplot(x=\"gold_label\", y=\"sentence2_len\", data=train, scale='count', scale_hue=False, ax=axes[1])\n"
   ]
  },
  {
   "cell_type": "markdown",
   "id": "f801edba",
   "metadata": {},
   "source": [
    "## dev sentence lengths"
   ]
  },
  {
   "cell_type": "code",
   "execution_count": 44,
   "id": "6cdcfed1",
   "metadata": {},
   "outputs": [
    {
     "data": {
      "text/plain": [
       "<AxesSubplot:xlabel='gold_label', ylabel='sentence2_len'>"
      ]
     },
     "execution_count": 44,
     "metadata": {},
     "output_type": "execute_result"
    },
    {
     "data": {
      "image/png": "[encoded data removed]",
      "text/plain": [
       "<Figure size 720x288 with 2 Axes>"
      ]
     },
     "metadata": {
      "needs_background": "light"
     },
     "output_type": "display_data"
    }
   ],
   "source": [
    "fig, axes = plt.subplots(ncols=2, sharey=True, figsize=(10, 4))\n",
    "\n",
    "sns.violinplot(x=\"gold_label\", y=\"sentence1_len\", data=dev, scale='count', scale_hue=False, ax=axes[0])\n",
    "sns.violinplot(x=\"gold_label\", y=\"sentence2_len\", data=dev, scale='count', scale_hue=False, ax=axes[1])"
   ]
  },
  {
   "cell_type": "markdown",
   "id": "a08a49fa",
   "metadata": {},
   "source": [
    "## test sentence lengths"
   ]
  },
  {
   "cell_type": "code",
   "execution_count": 35,
   "id": "43513217",
   "metadata": {},
   "outputs": [
    {
     "data": {
      "image/png": "[encoded data removed]",
      "text/plain": [
       "<Figure size 432x288 with 1 Axes>"
      ]
     },
     "metadata": {
      "needs_background": "light"
     },
     "output_type": "display_data"
    }
   ],
   "source": [
    "ax = sns.violinplot(x=\"gold_label\", y=\"sentence1_len\", data=dev, scale='count', scale_hue=False)\n"
   ]
  },
  {
   "cell_type": "code",
   "execution_count": 37,
   "id": "a4546fff",
   "metadata": {},
   "outputs": [
    {
     "data": {
      "image/png": "[encoded data removed]",
      "text/plain": [
       "<Figure size 432x288 with 1 Axes>"
      ]
     },
     "metadata": {
      "needs_background": "light"
     },
     "output_type": "display_data"
    }
   ],
   "source": [
    "ax = sns.violinplot(x=\"gold_label\", y=\"sentence2_len\", data=dev, scale='count', scale_hue=False)\n"
   ]
  },
  {
   "cell_type": "code",
   "execution_count": null,
   "id": "97bc36fc",
   "metadata": {},
   "outputs": [],
   "source": [
    "ax = sns.violinplot(x=\"gold_label\", y=\"sentence2_len\", data=dev, scale='count', scale_hue=False)\n"
   ]
  },
  {
   "cell_type": "code",
   "execution_count": 26,
   "id": "0b992535",
   "metadata": {
    "scrolled": true
   },
   "outputs": [
    {
     "data": {
      "text/html": [
       "<div>\n",
       "<style scoped>\n",
       "    .dataframe tbody tr th:only-of-type {\n",
       "        vertical-align: middle;\n",
       "    }\n",
       "\n",
       "    .dataframe tbody tr th {\n",
       "        vertical-align: top;\n",
       "    }\n",
       "\n",
       "    .dataframe thead th {\n",
       "        text-align: right;\n",
       "    }\n",
       "</style>\n",
       "<table border=\"1\" class=\"dataframe\">\n",
       "  <thead>\n",
       "    <tr style=\"text-align: right;\">\n",
       "      <th></th>\n",
       "      <th>gold_label</th>\n",
       "      <th>sentence1_binary_parse</th>\n",
       "      <th>sentence2_binary_parse</th>\n",
       "      <th>sentence1_parse</th>\n",
       "      <th>sentence2_parse</th>\n",
       "      <th>sentence1</th>\n",
       "      <th>sentence2</th>\n",
       "      <th>captionID</th>\n",
       "      <th>pairID</th>\n",
       "      <th>label1</th>\n",
       "      <th>label2</th>\n",
       "      <th>label3</th>\n",
       "      <th>label4</th>\n",
       "      <th>label5</th>\n",
       "      <th>sentence1_len</th>\n",
       "      <th>sentence2_len</th>\n",
       "    </tr>\n",
       "  </thead>\n",
       "  <tbody>\n",
       "    <tr>\n",
       "      <th>46</th>\n",
       "      <td>-</td>\n",
       "      <td>( ( During ( calf roping ) ) ( ( a cowboy ) ( ...</td>\n",
       "      <td>( ( Cowboy ( ( falling off ) horse ) ) . )</td>\n",
       "      <td>(ROOT (S (PP (IN During) (NP (NN calf) (NN rop...</td>\n",
       "      <td>(ROOT (S (VP (ADVP (RB Cowboy)) (VBG falling) ...</td>\n",
       "      <td>During calf roping a cowboy calls off his horse.</td>\n",
       "      <td>Cowboy falling off horse.</td>\n",
       "      <td>2972268289.jpg#4</td>\n",
       "      <td>2972268289.jpg#4r1e</td>\n",
       "      <td>entailment</td>\n",
       "      <td>contradiction</td>\n",
       "      <td>entailment</td>\n",
       "      <td>contradiction</td>\n",
       "      <td>neutral</td>\n",
       "      <td>10</td>\n",
       "      <td>12</td>\n",
       "    </tr>\n",
       "    <tr>\n",
       "      <th>107</th>\n",
       "      <td>-</td>\n",
       "      <td>( ( A ( Ford car ) ) ( ( is ( ( making ( a ( r...</td>\n",
       "      <td>( ( ( A car ) ( ( proceeding straight ) ( as p...</td>\n",
       "      <td>(ROOT (S (NP (DT A) (NNP Ford) (NN car)) (VP (...</td>\n",
       "      <td>(ROOT (S (NP (NP (DT A) (NN car)) (VP (VBG pro...</td>\n",
       "      <td>A Ford car is making a right turn as 3 males a...</td>\n",
       "      <td>A car proceeding straight as pedestrians walke...</td>\n",
       "      <td>4114589329.jpg#0</td>\n",
       "      <td>4114589329.jpg#0r1c</td>\n",
       "      <td>contradiction</td>\n",
       "      <td>neutral</td>\n",
       "      <td>entailment</td>\n",
       "      <td>contradiction</td>\n",
       "      <td>entailment</td>\n",
       "      <td>7</td>\n",
       "      <td>7</td>\n",
       "    </tr>\n",
       "    <tr>\n",
       "      <th>124</th>\n",
       "      <td>-</td>\n",
       "      <td>( ( An ( old woman ) ) ( ( watches ( ( a man )...</td>\n",
       "      <td>( ( A ( gray ( haired person ) ) ) ( ( is ( lo...</td>\n",
       "      <td>(ROOT (S (NP (DT An) (JJ old) (NN woman)) (VP ...</td>\n",
       "      <td>(ROOT (S (NP (DT A) (JJ gray) (JJ haired) (NN ...</td>\n",
       "      <td>An old woman watches a man look down at some b...</td>\n",
       "      <td>A gray haired person is looking at a gentleman.</td>\n",
       "      <td>4926115712.jpg#1</td>\n",
       "      <td>4926115712.jpg#1r1e</td>\n",
       "      <td>entailment</td>\n",
       "      <td>neutral</td>\n",
       "      <td>neutral</td>\n",
       "      <td>entailment</td>\n",
       "      <td>contradiction</td>\n",
       "      <td>6</td>\n",
       "      <td>9</td>\n",
       "    </tr>\n",
       "    <tr>\n",
       "      <th>201</th>\n",
       "      <td>-</td>\n",
       "      <td>( ( A bird ) ( ( is ( ( flapping ( its wings )...</td>\n",
       "      <td>( ( The bird ) ( ( is ( floating ( on ( the wa...</td>\n",
       "      <td>(ROOT (S (NP (DT A) (NN bird)) (VP (VBZ is) (V...</td>\n",
       "      <td>(ROOT (S (NP (DT The) (NN bird)) (VP (VBZ is) ...</td>\n",
       "      <td>A bird is flapping its wings on the water.</td>\n",
       "      <td>The bird is floating on the water.</td>\n",
       "      <td>3335501468.jpg#2</td>\n",
       "      <td>3335501468.jpg#2r1e</td>\n",
       "      <td>entailment</td>\n",
       "      <td>contradiction</td>\n",
       "      <td>neutral</td>\n",
       "      <td>neutral</td>\n",
       "      <td>contradiction</td>\n",
       "      <td>7</td>\n",
       "      <td>9</td>\n",
       "    </tr>\n",
       "    <tr>\n",
       "      <th>371</th>\n",
       "      <td>-</td>\n",
       "      <td>( ( Young woman ) ( ( is ( ( putting ( her clo...</td>\n",
       "      <td>( ( A ( tall person ) ) ( drying clothes ) )</td>\n",
       "      <td>(ROOT (S (NP (NNP Young) (NN woman)) (VP (VBZ ...</td>\n",
       "      <td>(ROOT (S (NP (NP (DT A) (JJ tall) (NN person))...</td>\n",
       "      <td>Young woman is putting her clothes in the drye...</td>\n",
       "      <td>A tall person drying clothes</td>\n",
       "      <td>4702657446.jpg#0</td>\n",
       "      <td>4702657446.jpg#0r1n</td>\n",
       "      <td>neutral</td>\n",
       "      <td>neutral</td>\n",
       "      <td>entailment</td>\n",
       "      <td>contradiction</td>\n",
       "      <td>entailment</td>\n",
       "      <td>6</td>\n",
       "      <td>7</td>\n",
       "    </tr>\n",
       "    <tr>\n",
       "      <th>...</th>\n",
       "      <td>...</td>\n",
       "      <td>...</td>\n",
       "      <td>...</td>\n",
       "      <td>...</td>\n",
       "      <td>...</td>\n",
       "      <td>...</td>\n",
       "      <td>...</td>\n",
       "      <td>...</td>\n",
       "      <td>...</td>\n",
       "      <td>...</td>\n",
       "      <td>...</td>\n",
       "      <td>...</td>\n",
       "      <td>...</td>\n",
       "      <td>...</td>\n",
       "      <td>...</td>\n",
       "      <td>...</td>\n",
       "    </tr>\n",
       "    <tr>\n",
       "      <th>9589</th>\n",
       "      <td>-</td>\n",
       "      <td>( ( A man ) ( ( is ( ( standing ( in ( front (...</td>\n",
       "      <td>( ( The man ) ( ( is ( in ( a church ) ) ) . ) )</td>\n",
       "      <td>(ROOT (S (NP (DT A) (NN man)) (VP (VBZ is) (VP...</td>\n",
       "      <td>(ROOT (S (NP (DT The) (NN man)) (VP (VBZ is) (...</td>\n",
       "      <td>A man is standing in front of a temple while w...</td>\n",
       "      <td>The man is in a church.</td>\n",
       "      <td>4948237706.jpg#1</td>\n",
       "      <td>4948237706.jpg#1r1c</td>\n",
       "      <td>contradiction</td>\n",
       "      <td>neutral</td>\n",
       "      <td>contradiction</td>\n",
       "      <td>entailment</td>\n",
       "      <td>entailment</td>\n",
       "      <td>14</td>\n",
       "      <td>8</td>\n",
       "    </tr>\n",
       "    <tr>\n",
       "      <th>9611</th>\n",
       "      <td>-</td>\n",
       "      <td>( ( A ( lab dog ) ) ( ( is ( standing ( on ( (...</td>\n",
       "      <td>( ( the animal ) ( ( ( is ( more inteligent ) ...</td>\n",
       "      <td>(ROOT (S (NP (DT A) (NN lab) (NN dog)) (VP (VB...</td>\n",
       "      <td>(ROOT (S (NP (DT the) (NN animal)) (VP (VBZ is...</td>\n",
       "      <td>A lab dog is standing on a fallen tree trunk w...</td>\n",
       "      <td>the animal is more inteligent then the man in ...</td>\n",
       "      <td>359082432.jpg#2</td>\n",
       "      <td>359082432.jpg#2r1c</td>\n",
       "      <td>contradiction</td>\n",
       "      <td>neutral</td>\n",
       "      <td>neutral</td>\n",
       "      <td>entailment</td>\n",
       "      <td>contradiction</td>\n",
       "      <td>10</td>\n",
       "      <td>9</td>\n",
       "    </tr>\n",
       "    <tr>\n",
       "      <th>9690</th>\n",
       "      <td>-</td>\n",
       "      <td>( ( ( A ( young girl ) ) ( in ( a black ) ) ) ...</td>\n",
       "      <td>( ( The ( young girl ) ) ( is ( in ( a ( balle...</td>\n",
       "      <td>(ROOT (S (NP (NP (DT A) (JJ young) (NN girl)) ...</td>\n",
       "      <td>(ROOT (S (NP (DT The) (JJ young) (NN girl)) (V...</td>\n",
       "      <td>A young girl in a black leotard swinging on th...</td>\n",
       "      <td>The young girl is in a ballet class</td>\n",
       "      <td>4728873248.jpg#0</td>\n",
       "      <td>4728873248.jpg#0r1n</td>\n",
       "      <td>neutral</td>\n",
       "      <td>contradiction</td>\n",
       "      <td>entailment</td>\n",
       "      <td>neutral</td>\n",
       "      <td>contradiction</td>\n",
       "      <td>9</td>\n",
       "      <td>7</td>\n",
       "    </tr>\n",
       "    <tr>\n",
       "      <th>9723</th>\n",
       "      <td>-</td>\n",
       "      <td>( ( ( A surfer ) ( ( ( showing off ) ( his tal...</td>\n",
       "      <td>( ( A person ) ( ( is ( surfing ( on ( artific...</td>\n",
       "      <td>(ROOT (NP (NP (DT A) (NN surfer)) (VP (VBG sho...</td>\n",
       "      <td>(ROOT (S (NP (DT A) (NN person)) (VP (VBZ is) ...</td>\n",
       "      <td>A surfer showing off his talent in public usin...</td>\n",
       "      <td>A person is surfing on artificial waves.</td>\n",
       "      <td>6012829906.jpg#2</td>\n",
       "      <td>6012829906.jpg#2r1e</td>\n",
       "      <td>entailment</td>\n",
       "      <td>contradiction</td>\n",
       "      <td>entailment</td>\n",
       "      <td>neutral</td>\n",
       "      <td>neutral</td>\n",
       "      <td>9</td>\n",
       "      <td>6</td>\n",
       "    </tr>\n",
       "    <tr>\n",
       "      <th>9955</th>\n",
       "      <td>-</td>\n",
       "      <td>( ( Four ( dark-skinned boys ) ) ( ( are ( pla...</td>\n",
       "      <td>( ( The boy ) ( ( is ( near ( a ball ) ) ) . ) )</td>\n",
       "      <td>(ROOT (S (NP (CD Four) (JJ dark-skinned) (NNS ...</td>\n",
       "      <td>(ROOT (S (NP (DT The) (NN boy)) (VP (VBZ is) (...</td>\n",
       "      <td>Four dark-skinned boys are playing soccer.</td>\n",
       "      <td>The boy is near a ball.</td>\n",
       "      <td>2355066658.jpg#2</td>\n",
       "      <td>2355066658.jpg#2r1e</td>\n",
       "      <td>entailment</td>\n",
       "      <td>neutral</td>\n",
       "      <td>entailment</td>\n",
       "      <td>contradiction</td>\n",
       "      <td>neutral</td>\n",
       "      <td>13</td>\n",
       "      <td>6</td>\n",
       "    </tr>\n",
       "  </tbody>\n",
       "</table>\n",
       "<p>176 rows × 16 columns</p>\n",
       "</div>"
      ],
      "text/plain": [
       "     gold_label                             sentence1_binary_parse  \\\n",
       "46            -  ( ( During ( calf roping ) ) ( ( a cowboy ) ( ...   \n",
       "107           -  ( ( A ( Ford car ) ) ( ( is ( ( making ( a ( r...   \n",
       "124           -  ( ( An ( old woman ) ) ( ( watches ( ( a man )...   \n",
       "201           -  ( ( A bird ) ( ( is ( ( flapping ( its wings )...   \n",
       "371           -  ( ( Young woman ) ( ( is ( ( putting ( her clo...   \n",
       "...         ...                                                ...   \n",
       "9589          -  ( ( A man ) ( ( is ( ( standing ( in ( front (...   \n",
       "9611          -  ( ( A ( lab dog ) ) ( ( is ( standing ( on ( (...   \n",
       "9690          -  ( ( ( A ( young girl ) ) ( in ( a black ) ) ) ...   \n",
       "9723          -  ( ( ( A surfer ) ( ( ( showing off ) ( his tal...   \n",
       "9955          -  ( ( Four ( dark-skinned boys ) ) ( ( are ( pla...   \n",
       "\n",
       "                                 sentence2_binary_parse  \\\n",
       "46           ( ( Cowboy ( ( falling off ) horse ) ) . )   \n",
       "107   ( ( ( A car ) ( ( proceeding straight ) ( as p...   \n",
       "124   ( ( A ( gray ( haired person ) ) ) ( ( is ( lo...   \n",
       "201   ( ( The bird ) ( ( is ( floating ( on ( the wa...   \n",
       "371        ( ( A ( tall person ) ) ( drying clothes ) )   \n",
       "...                                                 ...   \n",
       "9589   ( ( The man ) ( ( is ( in ( a church ) ) ) . ) )   \n",
       "9611  ( ( the animal ) ( ( ( is ( more inteligent ) ...   \n",
       "9690  ( ( The ( young girl ) ) ( is ( in ( a ( balle...   \n",
       "9723  ( ( A person ) ( ( is ( surfing ( on ( artific...   \n",
       "9955   ( ( The boy ) ( ( is ( near ( a ball ) ) ) . ) )   \n",
       "\n",
       "                                        sentence1_parse  \\\n",
       "46    (ROOT (S (PP (IN During) (NP (NN calf) (NN rop...   \n",
       "107   (ROOT (S (NP (DT A) (NNP Ford) (NN car)) (VP (...   \n",
       "124   (ROOT (S (NP (DT An) (JJ old) (NN woman)) (VP ...   \n",
       "201   (ROOT (S (NP (DT A) (NN bird)) (VP (VBZ is) (V...   \n",
       "371   (ROOT (S (NP (NNP Young) (NN woman)) (VP (VBZ ...   \n",
       "...                                                 ...   \n",
       "9589  (ROOT (S (NP (DT A) (NN man)) (VP (VBZ is) (VP...   \n",
       "9611  (ROOT (S (NP (DT A) (NN lab) (NN dog)) (VP (VB...   \n",
       "9690  (ROOT (S (NP (NP (DT A) (JJ young) (NN girl)) ...   \n",
       "9723  (ROOT (NP (NP (DT A) (NN surfer)) (VP (VBG sho...   \n",
       "9955  (ROOT (S (NP (CD Four) (JJ dark-skinned) (NNS ...   \n",
       "\n",
       "                                        sentence2_parse  \\\n",
       "46    (ROOT (S (VP (ADVP (RB Cowboy)) (VBG falling) ...   \n",
       "107   (ROOT (S (NP (NP (DT A) (NN car)) (VP (VBG pro...   \n",
       "124   (ROOT (S (NP (DT A) (JJ gray) (JJ haired) (NN ...   \n",
       "201   (ROOT (S (NP (DT The) (NN bird)) (VP (VBZ is) ...   \n",
       "371   (ROOT (S (NP (NP (DT A) (JJ tall) (NN person))...   \n",
       "...                                                 ...   \n",
       "9589  (ROOT (S (NP (DT The) (NN man)) (VP (VBZ is) (...   \n",
       "9611  (ROOT (S (NP (DT the) (NN animal)) (VP (VBZ is...   \n",
       "9690  (ROOT (S (NP (DT The) (JJ young) (NN girl)) (V...   \n",
       "9723  (ROOT (S (NP (DT A) (NN person)) (VP (VBZ is) ...   \n",
       "9955  (ROOT (S (NP (DT The) (NN boy)) (VP (VBZ is) (...   \n",
       "\n",
       "                                              sentence1  \\\n",
       "46     During calf roping a cowboy calls off his horse.   \n",
       "107   A Ford car is making a right turn as 3 males a...   \n",
       "124   An old woman watches a man look down at some b...   \n",
       "201          A bird is flapping its wings on the water.   \n",
       "371   Young woman is putting her clothes in the drye...   \n",
       "...                                                 ...   \n",
       "9589  A man is standing in front of a temple while w...   \n",
       "9611  A lab dog is standing on a fallen tree trunk w...   \n",
       "9690  A young girl in a black leotard swinging on th...   \n",
       "9723  A surfer showing off his talent in public usin...   \n",
       "9955         Four dark-skinned boys are playing soccer.   \n",
       "\n",
       "                                              sentence2         captionID  \\\n",
       "46                            Cowboy falling off horse.  2972268289.jpg#4   \n",
       "107   A car proceeding straight as pedestrians walke...  4114589329.jpg#0   \n",
       "124     A gray haired person is looking at a gentleman.  4926115712.jpg#1   \n",
       "201                  The bird is floating on the water.  3335501468.jpg#2   \n",
       "371                        A tall person drying clothes  4702657446.jpg#0   \n",
       "...                                                 ...               ...   \n",
       "9589                            The man is in a church.  4948237706.jpg#1   \n",
       "9611  the animal is more inteligent then the man in ...   359082432.jpg#2   \n",
       "9690                The young girl is in a ballet class  4728873248.jpg#0   \n",
       "9723           A person is surfing on artificial waves.  6012829906.jpg#2   \n",
       "9955                            The boy is near a ball.  2355066658.jpg#2   \n",
       "\n",
       "                   pairID         label1         label2         label3  \\\n",
       "46    2972268289.jpg#4r1e     entailment  contradiction     entailment   \n",
       "107   4114589329.jpg#0r1c  contradiction        neutral     entailment   \n",
       "124   4926115712.jpg#1r1e     entailment        neutral        neutral   \n",
       "201   3335501468.jpg#2r1e     entailment  contradiction        neutral   \n",
       "371   4702657446.jpg#0r1n        neutral        neutral     entailment   \n",
       "...                   ...            ...            ...            ...   \n",
       "9589  4948237706.jpg#1r1c  contradiction        neutral  contradiction   \n",
       "9611   359082432.jpg#2r1c  contradiction        neutral        neutral   \n",
       "9690  4728873248.jpg#0r1n        neutral  contradiction     entailment   \n",
       "9723  6012829906.jpg#2r1e     entailment  contradiction     entailment   \n",
       "9955  2355066658.jpg#2r1e     entailment        neutral     entailment   \n",
       "\n",
       "             label4         label5  sentence1_len  sentence2_len  \n",
       "46    contradiction        neutral             10             12  \n",
       "107   contradiction     entailment              7              7  \n",
       "124      entailment  contradiction              6              9  \n",
       "201         neutral  contradiction              7              9  \n",
       "371   contradiction     entailment              6              7  \n",
       "...             ...            ...            ...            ...  \n",
       "9589     entailment     entailment             14              8  \n",
       "9611     entailment  contradiction             10              9  \n",
       "9690        neutral  contradiction              9              7  \n",
       "9723        neutral        neutral              9              6  \n",
       "9955  contradiction        neutral             13              6  \n",
       "\n",
       "[176 rows x 16 columns]"
      ]
     },
     "execution_count": 26,
     "metadata": {},
     "output_type": "execute_result"
    }
   ],
   "source": [
    "test[test.gold_label == '-']"
   ]
  },
  {
   "cell_type": "code",
   "execution_count": 46,
   "id": "b3d7ceb8",
   "metadata": {},
   "outputs": [
    {
     "data": {
      "text/plain": [
       "550152"
      ]
     },
     "execution_count": 46,
     "metadata": {},
     "output_type": "execute_result"
    }
   ],
   "source": [
    "# robustness to noise.. what if a turk labeler messed up?\n",
    "len(train)"
   ]
  },
  {
   "cell_type": "code",
   "execution_count": 47,
   "id": "d2fb06f1",
   "metadata": {},
   "outputs": [],
   "source": [
    "from datasets import load_dataset"
   ]
  },
  {
   "cell_type": "code",
   "execution_count": 48,
   "id": "a7f6aba4",
   "metadata": {},
   "outputs": [
    {
     "name": "stderr",
     "output_type": "stream",
     "text": [
      "Reusing dataset squad (/home/eculbertson/.cache/huggingface/datasets/squad/plain_text/1.0.0/d6ec3ceb99ca480ce37cdd35555d6cb2511d223b9150cce08a837ef62ffea453)\n"
     ]
    }
   ],
   "source": [
    "dataset = load_dataset('squad', split='train')"
   ]
  },
  {
   "cell_type": "code",
   "execution_count": 49,
   "id": "62670b68",
   "metadata": {},
   "outputs": [
    {
     "name": "stdout",
     "output_type": "stream",
     "text": [
      "Defaulting to user installation because normal site-packages is not writeable\n",
      "Collecting google-cloud-translate==2.0.1\n",
      "  Downloading google_cloud_translate-2.0.1-py2.py3-none-any.whl (90 kB)\n",
      "     |████████████████████████████████| 90 kB 3.5 MB/s             \n",
      "\u001b[?25hCollecting google-cloud-core<2.0dev,>=1.1.0\n",
      "  Downloading google_cloud_core-1.7.2-py2.py3-none-any.whl (28 kB)\n",
      "Collecting google-api-core[grpc]<2.0.0dev,>=1.15.0\n",
      "  Downloading google_api_core-1.31.4-py2.py3-none-any.whl (93 kB)\n",
      "     |████████████████████████████████| 93 kB 3.0 MB/s             \n",
      "\u001b[?25hRequirement already satisfied: setuptools>=40.3.0 in /usr/lib/python3/dist-packages (from google-api-core[grpc]<2.0.0dev,>=1.15.0->google-cloud-translate==2.0.1) (45.2.0)\n",
      "Collecting google-auth<2.0dev,>=1.25.0\n",
      "  Downloading google_auth-1.35.0-py2.py3-none-any.whl (152 kB)\n",
      "     |████████████████████████████████| 152 kB 18.8 MB/s            \n",
      "\u001b[?25hRequirement already satisfied: six>=1.13.0 in /usr/lib/python3/dist-packages (from google-api-core[grpc]<2.0.0dev,>=1.15.0->google-cloud-translate==2.0.1) (1.14.0)\n",
      "Requirement already satisfied: pytz in /home/eculbertson/.local/lib/python3.8/site-packages (from google-api-core[grpc]<2.0.0dev,>=1.15.0->google-cloud-translate==2.0.1) (2021.3)\n",
      "Collecting protobuf>=3.12.0\n",
      "  Downloading protobuf-3.19.1-cp38-cp38-manylinux_2_17_x86_64.manylinux2014_x86_64.whl (1.1 MB)\n",
      "     |████████████████████████████████| 1.1 MB 20.1 MB/s            \n",
      "\u001b[?25hRequirement already satisfied: requests<3.0.0dev,>=2.18.0 in /usr/lib/python3/dist-packages (from google-api-core[grpc]<2.0.0dev,>=1.15.0->google-cloud-translate==2.0.1) (2.22.0)\n",
      "Collecting googleapis-common-protos<2.0dev,>=1.6.0\n",
      "  Downloading googleapis_common_protos-1.53.0-py2.py3-none-any.whl (198 kB)\n",
      "     |████████████████████████████████| 198 kB 17.3 MB/s            \n",
      "\u001b[?25hRequirement already satisfied: packaging>=14.3 in /home/eculbertson/.local/lib/python3.8/site-packages (from google-api-core[grpc]<2.0.0dev,>=1.15.0->google-cloud-translate==2.0.1) (21.2)\n",
      "Collecting grpcio<2.0dev,>=1.29.0\n",
      "  Downloading grpcio-1.42.0-cp38-cp38-manylinux_2_17_x86_64.manylinux2014_x86_64.whl (4.0 MB)\n",
      "     |████████████████████████████████| 4.0 MB 19.3 MB/s            \n",
      "\u001b[?25hRequirement already satisfied: pyasn1-modules>=0.2.1 in /usr/lib/python3/dist-packages (from google-auth<2.0dev,>=1.25.0->google-api-core[grpc]<2.0.0dev,>=1.15.0->google-cloud-translate==2.0.1) (0.2.1)\n",
      "Collecting rsa<5,>=3.1.4\n",
      "  Downloading rsa-4.8-py3-none-any.whl (39 kB)\n",
      "Collecting cachetools<5.0,>=2.0.0\n",
      "  Downloading cachetools-4.2.4-py3-none-any.whl (10 kB)\n",
      "Requirement already satisfied: pyparsing<3,>=2.0.2 in /home/eculbertson/.local/lib/python3.8/site-packages (from packaging>=14.3->google-api-core[grpc]<2.0.0dev,>=1.15.0->google-cloud-translate==2.0.1) (2.4.7)\n",
      "Requirement already satisfied: pyasn1>=0.1.3 in /usr/lib/python3/dist-packages (from rsa<5,>=3.1.4->google-auth<2.0dev,>=1.25.0->google-api-core[grpc]<2.0.0dev,>=1.15.0->google-cloud-translate==2.0.1) (0.4.2)\n",
      "Installing collected packages: rsa, protobuf, cachetools, googleapis-common-protos, google-auth, grpcio, google-api-core, google-cloud-core, google-cloud-translate\n",
      "Successfully installed cachetools-4.2.4 google-api-core-1.31.4 google-auth-1.35.0 google-cloud-core-1.7.2 google-cloud-translate-2.0.1 googleapis-common-protos-1.53.0 grpcio-1.42.0 protobuf-3.19.1 rsa-4.8\n",
      "Note: you may need to restart the kernel to use updated packages.\n"
     ]
    }
   ],
   "source": [
    "pip install google-cloud-translate==2.0.1\n"
   ]
  },
  {
   "cell_type": "code",
   "execution_count": 50,
   "id": "aa7e3f4d",
   "metadata": {},
   "outputs": [],
   "source": [
    "from google.cloud import translate_v2\n"
   ]
  },
  {
   "cell_type": "code",
   "execution_count": 52,
   "id": "092de350",
   "metadata": {},
   "outputs": [
    {
     "ename": "DefaultCredentialsError",
     "evalue": "Could not automatically determine credentials. Please set GOOGLE_APPLICATION_CREDENTIALS or explicitly create credentials and re-run the application. For more information, please see https://cloud.google.com/docs/authentication/getting-started",
     "output_type": "error",
     "traceback": [
      "\u001b[0;31m---------------------------------------------------------------------------\u001b[0m",
      "\u001b[0;31mDefaultCredentialsError\u001b[0m                   Traceback (most recent call last)",
      "\u001b[0;32m/tmp/ipykernel_176/2570322573.py\u001b[0m in \u001b[0;36m<module>\u001b[0;34m\u001b[0m\n\u001b[0;32m----> 1\u001b[0;31m \u001b[0mtranslate_client\u001b[0m \u001b[0;34m=\u001b[0m \u001b[0mtranslate_v2\u001b[0m\u001b[0;34m.\u001b[0m\u001b[0mClient\u001b[0m\u001b[0;34m(\u001b[0m\u001b[0;34m)\u001b[0m\u001b[0;34m\u001b[0m\u001b[0;34m\u001b[0m\u001b[0m\n\u001b[0m",
      "\u001b[0;32m~/.local/lib/python3.8/site-packages/google/cloud/translate_v2/client.py\u001b[0m in \u001b[0;36m__init__\u001b[0;34m(self, target_language, credentials, _http, client_info, client_options)\u001b[0m\n\u001b[1;32m     80\u001b[0m     ):\n\u001b[1;32m     81\u001b[0m         \u001b[0mself\u001b[0m\u001b[0;34m.\u001b[0m\u001b[0mtarget_language\u001b[0m \u001b[0;34m=\u001b[0m \u001b[0mtarget_language\u001b[0m\u001b[0;34m\u001b[0m\u001b[0;34m\u001b[0m\u001b[0m\n\u001b[0;32m---> 82\u001b[0;31m         \u001b[0msuper\u001b[0m\u001b[0;34m(\u001b[0m\u001b[0mClient\u001b[0m\u001b[0;34m,\u001b[0m \u001b[0mself\u001b[0m\u001b[0;34m)\u001b[0m\u001b[0;34m.\u001b[0m\u001b[0m__init__\u001b[0m\u001b[0;34m(\u001b[0m\u001b[0mcredentials\u001b[0m\u001b[0;34m=\u001b[0m\u001b[0mcredentials\u001b[0m\u001b[0;34m,\u001b[0m \u001b[0m_http\u001b[0m\u001b[0;34m=\u001b[0m\u001b[0m_http\u001b[0m\u001b[0;34m)\u001b[0m\u001b[0;34m\u001b[0m\u001b[0;34m\u001b[0m\u001b[0m\n\u001b[0m\u001b[1;32m     83\u001b[0m \u001b[0;34m\u001b[0m\u001b[0m\n\u001b[1;32m     84\u001b[0m         \u001b[0mkw_args\u001b[0m \u001b[0;34m=\u001b[0m \u001b[0;34m{\u001b[0m\u001b[0;34m\"client_info\"\u001b[0m\u001b[0;34m:\u001b[0m \u001b[0mclient_info\u001b[0m\u001b[0;34m}\u001b[0m\u001b[0;34m\u001b[0m\u001b[0;34m\u001b[0m\u001b[0m\n",
      "\u001b[0;32m~/.local/lib/python3.8/site-packages/google/cloud/client.py\u001b[0m in \u001b[0;36m__init__\u001b[0;34m(self, credentials, _http, client_options)\u001b[0m\n\u001b[1;32m    176\u001b[0m                 )\n\u001b[1;32m    177\u001b[0m             \u001b[0;32melse\u001b[0m\u001b[0;34m:\u001b[0m\u001b[0;34m\u001b[0m\u001b[0;34m\u001b[0m\u001b[0m\n\u001b[0;32m--> 178\u001b[0;31m                 \u001b[0mcredentials\u001b[0m\u001b[0;34m,\u001b[0m \u001b[0m_\u001b[0m \u001b[0;34m=\u001b[0m \u001b[0mgoogle\u001b[0m\u001b[0;34m.\u001b[0m\u001b[0mauth\u001b[0m\u001b[0;34m.\u001b[0m\u001b[0mdefault\u001b[0m\u001b[0;34m(\u001b[0m\u001b[0mscopes\u001b[0m\u001b[0;34m=\u001b[0m\u001b[0mscopes\u001b[0m\u001b[0;34m)\u001b[0m\u001b[0;34m\u001b[0m\u001b[0;34m\u001b[0m\u001b[0m\n\u001b[0m\u001b[1;32m    179\u001b[0m \u001b[0;34m\u001b[0m\u001b[0m\n\u001b[1;32m    180\u001b[0m         self._credentials = google.auth.credentials.with_scopes_if_required(\n",
      "\u001b[0;32m~/.local/lib/python3.8/site-packages/google/auth/_default.py\u001b[0m in \u001b[0;36mdefault\u001b[0;34m(scopes, request, quota_project_id, default_scopes)\u001b[0m\n\u001b[1;32m    486\u001b[0m             \u001b[0;32mreturn\u001b[0m \u001b[0mcredentials\u001b[0m\u001b[0;34m,\u001b[0m \u001b[0meffective_project_id\u001b[0m\u001b[0;34m\u001b[0m\u001b[0;34m\u001b[0m\u001b[0m\n\u001b[1;32m    487\u001b[0m \u001b[0;34m\u001b[0m\u001b[0m\n\u001b[0;32m--> 488\u001b[0;31m     \u001b[0;32mraise\u001b[0m \u001b[0mexceptions\u001b[0m\u001b[0;34m.\u001b[0m\u001b[0mDefaultCredentialsError\u001b[0m\u001b[0;34m(\u001b[0m\u001b[0m_HELP_MESSAGE\u001b[0m\u001b[0;34m)\u001b[0m\u001b[0;34m\u001b[0m\u001b[0;34m\u001b[0m\u001b[0m\n\u001b[0m",
      "\u001b[0;31mDefaultCredentialsError\u001b[0m: Could not automatically determine credentials. Please set GOOGLE_APPLICATION_CREDENTIALS or explicitly create credentials and re-run the application. For more information, please see https://cloud.google.com/docs/authentication/getting-started"
     ]
    }
   ],
   "source": [
    "\n",
    "translate_client = translate_v2.Client()"
   ]
  },
  {
   "cell_type": "code",
   "execution_count": 53,
   "id": "1ce061c5",
   "metadata": {},
   "outputs": [
    {
     "name": "stdout",
     "output_type": "stream",
     "text": [
      "Defaulting to user installation because normal site-packages is not writeable\n",
      "Collecting googletrans\n",
      "  Downloading googletrans-3.0.0.tar.gz (17 kB)\n",
      "  Preparing metadata (setup.py) ... \u001b[?25ldone\n",
      "\u001b[?25hCollecting httpx==0.13.3\n",
      "  Downloading httpx-0.13.3-py3-none-any.whl (55 kB)\n",
      "     |████████████████████████████████| 55 kB 2.8 MB/s             \n",
      "\u001b[?25hCollecting rfc3986<2,>=1.3\n",
      "  Downloading rfc3986-1.5.0-py2.py3-none-any.whl (31 kB)\n",
      "Requirement already satisfied: chardet==3.* in /usr/lib/python3/dist-packages (from httpx==0.13.3->googletrans) (3.0.4)\n",
      "Collecting sniffio\n",
      "  Downloading sniffio-1.2.0-py3-none-any.whl (10 kB)\n",
      "Collecting httpcore==0.9.*\n",
      "  Downloading httpcore-0.9.1-py3-none-any.whl (42 kB)\n",
      "     |████████████████████████████████| 42 kB 2.1 MB/s             \n",
      "\u001b[?25hCollecting hstspreload\n",
      "  Downloading hstspreload-2021.11.1-py3-none-any.whl (1.3 MB)\n",
      "     |████████████████████████████████| 1.3 MB 7.5 MB/s            \n",
      "\u001b[?25hRequirement already satisfied: idna==2.* in /usr/lib/python3/dist-packages (from httpx==0.13.3->googletrans) (2.8)\n",
      "Requirement already satisfied: certifi in /usr/lib/python3/dist-packages (from httpx==0.13.3->googletrans) (2019.11.28)\n",
      "Collecting h11<0.10,>=0.8\n",
      "  Downloading h11-0.9.0-py2.py3-none-any.whl (53 kB)\n",
      "     |████████████████████████████████| 53 kB 4.5 MB/s             \n",
      "\u001b[?25hCollecting h2==3.*\n",
      "  Downloading h2-3.2.0-py2.py3-none-any.whl (65 kB)\n",
      "     |████████████████████████████████| 65 kB 8.5 MB/s             \n",
      "\u001b[?25hCollecting hpack<4,>=3.0\n",
      "  Downloading hpack-3.0.0-py2.py3-none-any.whl (38 kB)\n",
      "Collecting hyperframe<6,>=5.2.0\n",
      "  Downloading hyperframe-5.2.0-py2.py3-none-any.whl (12 kB)\n",
      "Building wheels for collected packages: googletrans\n",
      "  Building wheel for googletrans (setup.py) ... \u001b[?25ldone\n",
      "\u001b[?25h  Created wheel for googletrans: filename=googletrans-3.0.0-py3-none-any.whl size=15734 sha256=3d19d0bbc258eaf145ef185ba64f2cf31a49d024beffbb4cd4abc9744ca3c9b1\n",
      "  Stored in directory: /home/eculbertson/.cache/pip/wheels/0e/ce/9b/d51de1064911d42480ab6b57fc943ee36572441f27546354e2\n",
      "Successfully built googletrans\n",
      "Installing collected packages: hyperframe, hpack, sniffio, h2, h11, rfc3986, httpcore, hstspreload, httpx, googletrans\n",
      "Successfully installed googletrans-3.0.0 h11-0.9.0 h2-3.2.0 hpack-3.0.0 hstspreload-2021.11.1 httpcore-0.9.1 httpx-0.13.3 hyperframe-5.2.0 rfc3986-1.5.0 sniffio-1.2.0\n"
     ]
    }
   ],
   "source": [
    "!  pip install googletrans"
   ]
  },
  {
   "cell_type": "code",
   "execution_count": 5,
   "id": "ee58b2fa",
   "metadata": {},
   "outputs": [],
   "source": [
    "import numpy as np\n"
   ]
  },
  {
   "cell_type": "code",
   "execution_count": 8,
   "id": "fc4328ea",
   "metadata": {},
   "outputs": [],
   "source": [
    "from googletrans import Translator\n",
    "translator = Translator()"
   ]
  },
  {
   "cell_type": "code",
   "execution_count": 11,
   "id": "7992b0a5",
   "metadata": {},
   "outputs": [
    {
     "data": {
      "text/plain": [
       "'veritas lux mea'"
      ]
     },
     "execution_count": 11,
     "metadata": {},
     "output_type": "execute_result"
    }
   ],
   "source": [
    "translator.translate('veritas lux mea', src='la').text"
   ]
  },
  {
   "cell_type": "code",
   "execution_count": 12,
   "id": "9a0a602c",
   "metadata": {},
   "outputs": [
    {
     "name": "stdout",
     "output_type": "stream",
     "text": [
      "177289\n",
      "Original: A group of men wearing suits standing with other people sitting, standing, and riding a bike.\n",
      "\n",
      "Single:   A group of men wearing suits standing with other people sitting, standing, and riding a bike.\n",
      "\n",
      "\n",
      "Double:   A group of men wearing suits standing with other people sitting, standing, and riding a bike.\n",
      "\n",
      "\n",
      "\n",
      "Triple:   A group of men wearing suits standing with other people sitting, standing, and riding a bike.\n",
      "\n",
      "3221\n",
      "Original: A large, green, navigating wheel is held by an older man in a captain's hat and uniform.\n",
      "\n",
      "Single:   A large, green, navigating wheel is held by an older man in a captain's hat and uniform.\n",
      "\n",
      "\n",
      "Double:   A large, green, navigating wheel is held by an older man in a captain's hat and uniform.\n",
      "\n",
      "\n",
      "\n",
      "Triple:   A large, green, navigating wheel is held by an older man in a captain's hat and uniform.\n",
      "\n"
     ]
    }
   ],
   "source": [
    "def backTranslate(translator, text, n_translates=1):\n",
    "    translator = Translator()\n",
    "    aug = text\n",
    "    for i in range(n_translates):\n",
    "        spanish = translator.translate(aug, src='en', dest='es').text\n",
    "        print()\n",
    "        aug = translator.translate(spanish, src='es', dest='en').text\n",
    "    return aug\n",
    "\n",
    "for i in range(2):\n",
    "    train_idx = np.random.randint(0, high=len(train))\n",
    "    source_text = train.sentence1.iloc[train_idx]\n",
    "    print(train_idx)\n",
    "    print('Original:', source_text)\n",
    "    print('Single:  ', backTranslate(translator, source_text, 1))\n",
    "    print('Double:  ', backTranslate(translator, source_text, 2))\n",
    "    print('Triple:  ', backTranslate(translator, source_text, 3))\n",
    "    print()"
   ]
  },
  {
   "cell_type": "code",
   "execution_count": 5,
   "id": "6d91245d",
   "metadata": {},
   "outputs": [
    {
     "data": {
      "text/plain": [
       "'Mi nombre es Eric'"
      ]
     },
     "execution_count": 5,
     "metadata": {},
     "output_type": "execute_result"
    }
   ],
   "source": [
    "spanish.text"
   ]
  },
  {
   "cell_type": "code",
   "execution_count": 10,
   "id": "1730ebf9",
   "metadata": {},
   "outputs": [
    {
     "data": {
      "text/plain": [
       "'A person on a horse jumps over a broken down airplane.'"
      ]
     },
     "execution_count": 10,
     "metadata": {},
     "output_type": "execute_result"
    }
   ],
   "source": [
    "train.sentence1.iloc[0]"
   ]
  },
  {
   "cell_type": "code",
   "execution_count": 60,
   "id": "49b1660a",
   "metadata": {},
   "outputs": [
    {
     "name": "stdout",
     "output_type": "stream",
     "text": [
      "Defaulting to user installation because normal site-packages is not writeable\n",
      "Collecting googletrans==3.1.0a0\n",
      "  Downloading googletrans-3.1.0a0.tar.gz (19 kB)\n",
      "  Preparing metadata (setup.py) ... \u001b[?25ldone\n",
      "\u001b[?25hRequirement already satisfied: httpx==0.13.3 in /home/eculbertson/.local/lib/python3.8/site-packages (from googletrans==3.1.0a0) (0.13.3)\n",
      "Requirement already satisfied: hstspreload in /home/eculbertson/.local/lib/python3.8/site-packages (from httpx==0.13.3->googletrans==3.1.0a0) (2021.11.1)\n",
      "Requirement already satisfied: idna==2.* in /usr/lib/python3/dist-packages (from httpx==0.13.3->googletrans==3.1.0a0) (2.8)\n",
      "Requirement already satisfied: rfc3986<2,>=1.3 in /home/eculbertson/.local/lib/python3.8/site-packages (from httpx==0.13.3->googletrans==3.1.0a0) (1.5.0)\n",
      "Requirement already satisfied: chardet==3.* in /usr/lib/python3/dist-packages (from httpx==0.13.3->googletrans==3.1.0a0) (3.0.4)\n",
      "Requirement already satisfied: certifi in /usr/lib/python3/dist-packages (from httpx==0.13.3->googletrans==3.1.0a0) (2019.11.28)\n",
      "Requirement already satisfied: sniffio in /home/eculbertson/.local/lib/python3.8/site-packages (from httpx==0.13.3->googletrans==3.1.0a0) (1.2.0)\n",
      "Requirement already satisfied: httpcore==0.9.* in /home/eculbertson/.local/lib/python3.8/site-packages (from httpx==0.13.3->googletrans==3.1.0a0) (0.9.1)\n",
      "Requirement already satisfied: h2==3.* in /home/eculbertson/.local/lib/python3.8/site-packages (from httpcore==0.9.*->httpx==0.13.3->googletrans==3.1.0a0) (3.2.0)\n",
      "Requirement already satisfied: h11<0.10,>=0.8 in /home/eculbertson/.local/lib/python3.8/site-packages (from httpcore==0.9.*->httpx==0.13.3->googletrans==3.1.0a0) (0.9.0)\n",
      "Requirement already satisfied: hpack<4,>=3.0 in /home/eculbertson/.local/lib/python3.8/site-packages (from h2==3.*->httpcore==0.9.*->httpx==0.13.3->googletrans==3.1.0a0) (3.0.0)\n",
      "Requirement already satisfied: hyperframe<6,>=5.2.0 in /home/eculbertson/.local/lib/python3.8/site-packages (from h2==3.*->httpcore==0.9.*->httpx==0.13.3->googletrans==3.1.0a0) (5.2.0)\n",
      "Building wheels for collected packages: googletrans\n",
      "  Building wheel for googletrans (setup.py) ... \u001b[?25ldone\n",
      "\u001b[?25h  Created wheel for googletrans: filename=googletrans-3.1.0a0-py3-none-any.whl size=16367 sha256=c98a6b5c4a5e28ac2813a06ab903cea3606eb4a7ee064fcf4f417562596e59ba\n",
      "  Stored in directory: /home/eculbertson/.cache/pip/wheels/dd/59/af/8d6c96a719763990f1c548e36b17d9efdfb767f42f7ff39f53\n",
      "Successfully built googletrans\n",
      "Installing collected packages: googletrans\n",
      "  Attempting uninstall: googletrans\n",
      "    Found existing installation: googletrans 3.0.0\n",
      "    Uninstalling googletrans-3.0.0:\n",
      "      Successfully uninstalled googletrans-3.0.0\n",
      "Successfully installed googletrans-3.1.0a0\n",
      "Note: you may need to restart the kernel to use updated packages.\n"
     ]
    }
   ],
   "source": [
    "pip install googletrans==3.1.0a0\n"
   ]
  },
  {
   "cell_type": "code",
   "execution_count": 20,
   "id": "2482ee65",
   "metadata": {},
   "outputs": [
    {
     "data": {
      "text/plain": [
       "9464940"
      ]
     },
     "execution_count": 20,
     "metadata": {},
     "output_type": "execute_result"
    }
   ],
   "source": [
    "sum([len(x) for x in set(train.sentence1)])"
   ]
  },
  {
   "cell_type": "code",
   "execution_count": 23,
   "id": "aae4eea6",
   "metadata": {},
   "outputs": [
    {
     "data": {
      "text/plain": [
       "18903810"
      ]
     },
     "execution_count": 23,
     "metadata": {},
     "output_type": "execute_result"
    }
   ],
   "source": [
    "sum([len(x) for x in set(map(str, train.sentence2))])"
   ]
  },
  {
   "cell_type": "code",
   "execution_count": 26,
   "id": "f11050ba",
   "metadata": {},
   "outputs": [
    {
     "data": {
      "text/plain": [
       "18903807"
      ]
     },
     "execution_count": 26,
     "metadata": {},
     "output_type": "execute_result"
    }
   ],
   "source": [
    "sum([len(x) for x in train.sentence2.value_counts().index])"
   ]
  },
  {
   "cell_type": "code",
   "execution_count": 27,
   "id": "48ddd6bd",
   "metadata": {},
   "outputs": [
    {
     "data": {
      "text/plain": [
       "28368750"
      ]
     },
     "execution_count": 27,
     "metadata": {},
     "output_type": "execute_result"
    }
   ],
   "source": [
    "18903810 + 9464940"
   ]
  },
  {
   "cell_type": "code",
   "execution_count": 28,
   "id": "fe7875e3",
   "metadata": {},
   "outputs": [
    {
     "data": {
      "text/plain": [
       "56.7375"
      ]
     },
     "execution_count": 28,
     "metadata": {},
     "output_type": "execute_result"
    }
   ],
   "source": [
    "28368750 / 500000 "
   ]
  },
  {
   "cell_type": "code",
   "execution_count": 29,
   "id": "f3578b4f",
   "metadata": {},
   "outputs": [
    {
     "data": {
      "text/plain": [
       "14.184375"
      ]
     },
     "execution_count": 29,
     "metadata": {},
     "output_type": "execute_result"
    }
   ],
   "source": [
    "28368750 / 2000000"
   ]
  },
  {
   "cell_type": "code",
   "execution_count": 30,
   "id": "f5b2ad01",
   "metadata": {},
   "outputs": [
    {
     "data": {
      "text/plain": [
       "0.01762502753910553"
      ]
     },
     "execution_count": 30,
     "metadata": {},
     "output_type": "execute_result"
    }
   ],
   "source": [
    "500000 / 28368750"
   ]
  },
  {
   "cell_type": "code",
   "execution_count": 31,
   "id": "9a44f923",
   "metadata": {},
   "outputs": [
    {
     "data": {
      "text/plain": [
       "9352.584"
      ]
     },
     "execution_count": 31,
     "metadata": {},
     "output_type": "execute_result"
    }
   ],
   "source": [
    "0.017 * len(train)"
   ]
  },
  {
   "cell_type": "code",
   "execution_count": 32,
   "id": "9b908dbd",
   "metadata": {},
   "outputs": [
    {
     "data": {
      "text/plain": [
       "15.0"
      ]
     },
     "execution_count": 32,
     "metadata": {},
     "output_type": "execute_result"
    }
   ],
   "source": [
    "300 / 20"
   ]
  },
  {
   "cell_type": "code",
   "execution_count": 35,
   "id": "dc954fe3",
   "metadata": {},
   "outputs": [
    {
     "data": {
      "text/plain": [
       "0.5287508261731659"
      ]
     },
     "execution_count": 35,
     "metadata": {},
     "output_type": "execute_result"
    }
   ],
   "source": [
    "(1000000*15)  / 28368750 "
   ]
  },
  {
   "cell_type": "code",
   "execution_count": 1,
   "id": "1985ebee",
   "metadata": {},
   "outputs": [
    {
     "ename": "NameError",
     "evalue": "name 'train' is not defined",
     "output_type": "error",
     "traceback": [
      "\u001b[0;31m---------------------------------------------------------------------------\u001b[0m",
      "\u001b[0;31mNameError\u001b[0m                                 Traceback (most recent call last)",
      "\u001b[0;32m/tmp/ipykernel_742/738329061.py\u001b[0m in \u001b[0;36m<module>\u001b[0;34m\u001b[0m\n\u001b[0;32m----> 1\u001b[0;31m \u001b[0mtrain\u001b[0m\u001b[0;34m[\u001b[0m\u001b[0;36m0\u001b[0m\u001b[0;34m]\u001b[0m\u001b[0;34m\u001b[0m\u001b[0;34m\u001b[0m\u001b[0m\n\u001b[0m",
      "\u001b[0;31mNameError\u001b[0m: name 'train' is not defined"
     ]
    }
   ],
   "source": [
    "train[0]"
   ]
  },
  {
   "cell_type": "code",
   "execution_count": null,
   "id": "4d11f430",
   "metadata": {},
   "outputs": [],
   "source": []
  }
 ],
 "metadata": {
  "kernelspec": {
   "display_name": "Python 3 (ipykernel)",
   "language": "python",
   "name": "python3"
  },
  "language_info": {
   "codemirror_mode": {
    "name": "ipython",
    "version": 3
   },
   "file_extension": ".py",
   "mimetype": "text/x-python",
   "name": "python",
   "nbconvert_exporter": "python",
   "pygments_lexer": "ipython3",
   "version": "3.8.10"
  }
 },
 "nbformat": 4,
 "nbformat_minor": 5
}
