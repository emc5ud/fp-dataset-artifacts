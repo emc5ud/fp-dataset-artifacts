{
 "cells": [
  {
   "cell_type": "code",
   "execution_count": 1,
   "id": "6b416f12",
   "metadata": {},
   "outputs": [],
   "source": [
    "import checklist\n",
    "from checklist.editor import Editor\n",
    "from checklist.perturb import Perturb\n",
    "from checklist.test_types import MFT, INV, DIR"
   ]
  },
  {
   "cell_type": "code",
   "execution_count": 2,
   "id": "de860297",
   "metadata": {},
   "outputs": [],
   "source": [
    "editor = Editor()\n"
   ]
  },
  {
   "cell_type": "code",
   "execution_count": 3,
   "id": "76928b9c",
   "metadata": {},
   "outputs": [
    {
     "name": "stderr",
     "output_type": "stream",
     "text": [
      "/home/eculbertson/.local/lib/python3.8/site-packages/checklist/text_generation.py:171: UserWarning: Creating a tensor from a list of numpy.ndarrays is extremely slow. Please consider converting the list to a single numpy.ndarray with numpy.array() before converting to a tensor. (Triggered internally at  ../torch/csrc/utils/tensor_new.cpp:201.)\n",
      "  to_pred = torch.tensor(to_pred, device=self.device).to(torch.int64)\n"
     ]
    },
    {
     "data": {
      "text/plain": [
       "'easy, academic, ordinary, educational, average, enjoyable, entertaining, interesting, old, independent, good, art, exciting, original, ideal, innocent, excellent, adventure, amateur, awards, actual, introductory, engaging, obscure, amazing, bad, experimental, accessible, awful, great'"
      ]
     },
     "execution_count": 3,
     "metadata": {},
     "output_type": "execute_result"
    }
   ],
   "source": [
    "# First, let's find some positive and negative adjectives\n",
    "', '.join(editor.suggest('This is not {a:mask} {thing}.', thing=['book', 'movie', 'show', 'game'])[:30])"
   ]
  },
  {
   "cell_type": "code",
   "execution_count": 4,
   "id": "b4065321",
   "metadata": {},
   "outputs": [],
   "source": [
    "pos = ['good', 'enjoyable', 'exciting', 'excellent', 'amazing', 'great', 'engaging']\n",
    "neg = ['bad', 'terrible', 'awful', 'horrible']"
   ]
  },
  {
   "cell_type": "code",
   "execution_count": 5,
   "id": "0c2c6339",
   "metadata": {},
   "outputs": [],
   "source": [
    "ret = editor.template('This is not {a:pos} {mask}.', pos=pos, labels=0, save=True, nsamples=100)\n",
    "ret += editor.template('This is not {a:neg} {mask}.', neg=neg, labels=1, save=True, nsamples=100)"
   ]
  },
  {
   "cell_type": "code",
   "execution_count": 15,
   "id": "eec2857e",
   "metadata": {},
   "outputs": [
    {
     "data": {
      "text/plain": [
       "(['This is not an amazing site.',\n",
       "  'This is not a great one.',\n",
       "  'This is not an amazing article.',\n",
       "  'This is not an engaging approach.',\n",
       "  'This is not an enjoyable time.'],\n",
       " ['This is not a bad example.',\n",
       "  'This is not an awful script.',\n",
       "  'This is not an awful mistake.',\n",
       "  'This is not a horrible one.',\n",
       "  'This is not a horrible picture.'])"
      ]
     },
     "execution_count": 15,
     "metadata": {},
     "output_type": "execute_result"
    }
   ],
   "source": [
    "ret.data[:5], ret.data[-5:]"
   ]
  },
  {
   "cell_type": "code",
   "execution_count": 16,
   "id": "f9af22f1",
   "metadata": {},
   "outputs": [
    {
     "data": {
      "text/plain": [
       "([0, 0, 0, 0, 0], [1, 1, 1, 1, 1])"
      ]
     },
     "execution_count": 16,
     "metadata": {},
     "output_type": "execute_result"
    }
   ],
   "source": [
    "ret.labels[:5], ret.labels[-5:]"
   ]
  },
  {
   "cell_type": "code",
   "execution_count": 8,
   "id": "8594d642",
   "metadata": {},
   "outputs": [],
   "source": [
    "test = MFT(ret.data, labels=ret.labels, name='Simple negation',\n",
    "           capability='Negation', description='Very simple negations.')"
   ]
  },
  {
   "cell_type": "code",
   "execution_count": 10,
   "id": "4e8d33e8",
   "metadata": {},
   "outputs": [],
   "source": [
    "test = MFT(**ret, name='Simple negation',\n",
    "           capability='Negation', description='Very simple negations.')"
   ]
  },
  {
   "cell_type": "code",
   "execution_count": null,
   "id": "f22c17ea",
   "metadata": {},
   "outputs": [],
   "source": []
  }
 ],
 "metadata": {
  "kernelspec": {
   "display_name": "Python 3 (ipykernel)",
   "language": "python",
   "name": "python3"
  },
  "language_info": {
   "codemirror_mode": {
    "name": "ipython",
    "version": 3
   },
   "file_extension": ".py",
   "mimetype": "text/x-python",
   "name": "python",
   "nbconvert_exporter": "python",
   "pygments_lexer": "ipython3",
   "version": "3.8.10"
  }
 },
 "nbformat": 4,
 "nbformat_minor": 5
}
