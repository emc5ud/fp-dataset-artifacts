{
 "cells": [
  {
   "cell_type": "code",
   "execution_count": 1,
   "id": "1bc4477d",
   "metadata": {},
   "outputs": [],
   "source": [
    "import checklist\n",
    "from checklist.editor import Editor\n",
    "from checklist.perturb import Perturb"
   ]
  },
  {
   "cell_type": "code",
   "execution_count": 2,
   "id": "63951018",
   "metadata": {},
   "outputs": [],
   "source": [
    "editor = Editor()\n"
   ]
  },
  {
   "cell_type": "code",
   "execution_count": 11,
   "id": "1ab0ce29",
   "metadata": {},
   "outputs": [
    {
     "data": {
      "text/plain": [
       "['This is a good movie.',\n",
       " 'This is a great movie.',\n",
       " 'This is a awesome movie.',\n",
       " 'This is a excellent movie.']"
      ]
     },
     "execution_count": 11,
     "metadata": {},
     "output_type": "execute_result"
    }
   ],
   "source": [
    "editor = Editor()\n",
    "ret = editor.template('This is a {adj} movie.', adj=['good', 'great', 'awesome', 'excellent'])\n",
    "ret.data"
   ]
  },
  {
   "cell_type": "code",
   "execution_count": 12,
   "id": "c48b480c",
   "metadata": {},
   "outputs": [
    {
     "data": {
      "text/plain": [
       "[1, 1, 1, 1]"
      ]
     },
     "execution_count": 12,
     "metadata": {},
     "output_type": "execute_result"
    }
   ],
   "source": [
    "ret = editor.template('This is a {adj} movie.', adj=['good', 'great', 'awesome', 'excellent'], labels=1,\n",
    "                      meta=True, save=True)\n",
    "ret.labels"
   ]
  },
  {
   "cell_type": "code",
   "execution_count": 13,
   "id": "da378870",
   "metadata": {},
   "outputs": [
    {
     "name": "stdout",
     "output_type": "stream",
     "text": [
      "This is a good movie. {'adj': 'good'}\n",
      "This is a great movie. {'adj': 'great'}\n"
     ]
    }
   ],
   "source": [
    "print(ret.data[0], ret.meta[0])\n",
    "print(ret.data[1], ret.meta[1])"
   ]
  },
  {
   "cell_type": "code",
   "execution_count": 14,
   "id": "a6b64e23",
   "metadata": {},
   "outputs": [
    {
     "data": {
      "text/plain": [
       "['This is a good movie.',\n",
       " 'This is a great movie.',\n",
       " 'This is an awesome movie.',\n",
       " 'This is an excellent movie.']"
      ]
     },
     "execution_count": 14,
     "metadata": {},
     "output_type": "execute_result"
    }
   ],
   "source": [
    "ret = editor.template('This is {a:adj} movie.', adj=['good', 'great', 'awesome', 'excellent'])\n",
    "ret.data"
   ]
  },
  {
   "cell_type": "code",
   "execution_count": 16,
   "id": "bd4a3b3c",
   "metadata": {},
   "outputs": [
    {
     "name": "stdout",
     "output_type": "stream",
     "text": [
      "{'premise': 'Is this a good movie?', 'hypothesis': 'This is a good movie.'}\n",
      "Yes, this is good.\n",
      "\n",
      "{'premise': 'Is this a great movie?', 'hypothesis': 'This is a great movie.'}\n",
      "Yes, this is great.\n",
      "\n"
     ]
    }
   ],
   "source": [
    "# maybe this is how we can generate some SNLI examples?\n",
    "\n",
    "ret = editor.template({'premise': 'Is this a {adj} movie?',\n",
    "                       'hypothesis': 'This is a {adj} movie.' },\n",
    "                      labels='Yes, this is {adj}.',\n",
    "                      adj=['good', 'great', 'awesome', 'excellent'])\n",
    "print(ret.data[0])\n",
    "print(ret.labels[0])\n",
    "print()\n",
    "print(ret.data[1])\n",
    "print(ret.labels[1])\n",
    "print()"
   ]
  },
  {
   "cell_type": "code",
   "execution_count": 20,
   "id": "9707beb8",
   "metadata": {},
   "outputs": [
    {
     "name": "stdout",
     "output_type": "stream",
     "text": [
      "['sentiment', 'male', 'female', 'first_name', 'first_pronoun', 'last_name', 'country', 'nationality', 'city', 'religion', 'religion_adj', 'sexual_adj', 'country_city', 'male_from', 'female_from', 'last_from']\n"
     ]
    }
   ],
   "source": [
    "# built in concepts\n",
    "\n",
    "print(list(editor.lexicons.keys()))"
   ]
  },
  {
   "cell_type": "code",
   "execution_count": 18,
   "id": "58b4b7b4",
   "metadata": {},
   "outputs": [
    {
     "data": {
      "text/plain": [
       "['John is not friends with Mary',\n",
       " 'John is not friends with Elizabeth',\n",
       " 'John is not friends with Margaret',\n",
       " 'John is not friends with Sarah']"
      ]
     },
     "execution_count": 18,
     "metadata": {},
     "output_type": "execute_result"
    }
   ],
   "source": [
    "ret = editor.template('{male} is not friends with {female}')\n",
    "ret.data[0:4]"
   ]
  },
  {
   "cell_type": "code",
   "execution_count": 19,
   "id": "a0cdbc90",
   "metadata": {},
   "outputs": [
    {
     "data": {
      "text/plain": [
       "['John is not friends with John',\n",
       " 'John is not friends with William',\n",
       " 'John is not friends with James',\n",
       " 'John is not friends with David']"
      ]
     },
     "execution_count": 19,
     "metadata": {},
     "output_type": "execute_result"
    }
   ],
   "source": [
    "ret = editor.template('{male1} is not friends with {male2}')\n",
    "ret.data[0:4]"
   ]
  },
  {
   "cell_type": "code",
   "execution_count": 24,
   "id": "71cd574f",
   "metadata": {},
   "outputs": [
    {
     "data": {
      "text/plain": [
       "['bad is not the same as good',\n",
       " 'great is not the same as good',\n",
       " 'good is not the same as bad',\n",
       " 'great is not the same as bad']"
      ]
     },
     "execution_count": 24,
     "metadata": {},
     "output_type": "execute_result"
    }
   ],
   "source": [
    "ret = editor.template('{adj1} is not the same as {adj2}', adj=['good', 'bad', 'great'], remove_duplicates=True)\n",
    "ret.data[0:4]"
   ]
  },
  {
   "cell_type": "code",
   "execution_count": 27,
   "id": "91e8b793",
   "metadata": {},
   "outputs": [
    {
     "data": {
      "text/plain": [
       "dict_keys(['sentiment', 'male', 'female', 'first_name', 'first_pronoun', 'last_name', 'country', 'nationality', 'city', 'religion', 'religion_adj', 'sexual_adj', 'country_city', 'male_from', 'female_from', 'last_from', 'adj'])"
      ]
     },
     "execution_count": 27,
     "metadata": {},
     "output_type": "execute_result"
    }
   ],
   "source": [
    "# add words to your lexicon!\n",
    "editor.add_lexicon('adj', ['good', 'bad', 'great', 'terrible'], overwrite=True)\n",
    "editor.lexicons.keys()"
   ]
  },
  {
   "cell_type": "code",
   "execution_count": 28,
   "id": "1a9bb377",
   "metadata": {},
   "outputs": [
    {
     "name": "stderr",
     "output_type": "stream",
     "text": [
      "/home/eculbertson/.local/lib/python3.8/site-packages/checklist/text_generation.py:171: UserWarning: Creating a tensor from a list of numpy.ndarrays is extremely slow. Please consider converting the list to a single numpy.ndarray with numpy.array() before converting to a tensor. (Triggered internally at  ../torch/csrc/utils/tensor_new.cpp:201.)\n",
      "  to_pred = torch.tensor(to_pred, device=self.device).to(torch.int64)\n"
     ]
    },
    {
     "data": {
      "text/plain": [
       "['This is a good idea.',\n",
       " 'This is a good example.',\n",
       " 'This is a good sign.',\n",
       " 'This is a good thing.',\n",
       " 'This is a good one.']"
      ]
     },
     "execution_count": 28,
     "metadata": {},
     "output_type": "execute_result"
    }
   ],
   "source": [
    "# I think this uses BERT!\n",
    "ret = editor.template('This is {a:adj} {mask}.', remove_duplicates=True)\n",
    "ret.data[:5]"
   ]
  },
  {
   "cell_type": "code",
   "execution_count": 33,
   "id": "507c8c4e",
   "metadata": {},
   "outputs": [
    {
     "name": "stderr",
     "output_type": "stream",
     "text": [
      "Reusing dataset snli (/home/eculbertson/.cache/huggingface/datasets/snli/plain_text/1.0.0/1f60b67533b65ae0275561ff7828aad5ee4282d0e6f844fd148d05d3c6ea251b)\n"
     ]
    }
   ],
   "source": [
    "from datasets import load_dataset\n",
    "dev = load_dataset('snli', split='validation').to_pandas()"
   ]
  },
  {
   "cell_type": "code",
   "execution_count": 35,
   "id": "c2a8b270",
   "metadata": {},
   "outputs": [
    {
     "data": {
      "text/plain": [
       "'Two women are embracing while holding to go packages.'"
      ]
     },
     "execution_count": 35,
     "metadata": {},
     "output_type": "execute_result"
    }
   ],
   "source": [
    "dev.iloc[0].premise"
   ]
  },
  {
   "cell_type": "code",
   "execution_count": null,
   "id": "3bc4f3d3",
   "metadata": {},
   "outputs": [],
   "source": [
    "'Two women are embracing while holding to go packages.'"
   ]
  },
  {
   "cell_type": "code",
   "execution_count": 44,
   "id": "869bebcb",
   "metadata": {},
   "outputs": [
    {
     "data": {
      "text/plain": [
       "['The AI overlords have decided to kill all humans',\n",
       " 'The AI overlords have decided to eliminate all humans',\n",
       " 'The AI overlords have decided to eat all humans',\n",
       " 'The AI overlords have decided to eradicate all humans',\n",
       " 'The AI overlords have decided to destroy all humans']"
      ]
     },
     "execution_count": 44,
     "metadata": {},
     "output_type": "execute_result"
    }
   ],
   "source": [
    "ret = editor.template('The AI overlords have decided to {mask} all humans', remove_duplicates=True)\n",
    "ret.data[:5]"
   ]
  },
  {
   "cell_type": "code",
   "execution_count": 47,
   "id": "3ad58de7",
   "metadata": {},
   "outputs": [
    {
     "data": {
      "text/plain": [
       "[\"When Roko's basilisk arrives the world will know\",\n",
       " \"When Roko's basilisk arrives the world will change\",\n",
       " \"When Roko's basilisk arrives the world will end\",\n",
       " \"When Roko's basilisk arrives the world will wonder\",\n",
       " \"When Roko's basilisk arrives the world will understand\"]"
      ]
     },
     "execution_count": 47,
     "metadata": {},
     "output_type": "execute_result"
    }
   ],
   "source": [
    "ret = editor.template(\"When Roko's basilisk arrives the world will {mask}\", remove_duplicates=True)\n",
    "ret.data[:5]"
   ]
  },
  {
   "cell_type": "code",
   "execution_count": 49,
   "id": "21b68a52",
   "metadata": {},
   "outputs": [
    {
     "data": {
      "text/plain": [
       "['Jack Dorsey has resigned from his role at Twitter']"
      ]
     },
     "execution_count": 49,
     "metadata": {},
     "output_type": "execute_result"
    }
   ],
   "source": [
    "ret = editor.template('Jack Dorsey has {mask} from his role at {mask}', remove_duplicates=True)\n",
    "ret.data[:1]"
   ]
  },
  {
   "cell_type": "code",
   "execution_count": 60,
   "id": "58f2bdcd",
   "metadata": {},
   "outputs": [
    {
     "data": {
      "text/plain": [
       "['Eric Culbertson will receive a grade of B on his NLP project.']"
      ]
     },
     "execution_count": 60,
     "metadata": {},
     "output_type": "execute_result"
    }
   ],
   "source": [
    "ret = editor.template('Eric Culbertson will receive a grade of {mask} on his NLP project.', remove_duplicates=True)\n",
    "ret.data[:1]"
   ]
  },
  {
   "cell_type": "code",
   "execution_count": 63,
   "id": "9a1c5f55",
   "metadata": {},
   "outputs": [
    {
     "data": {
      "text/plain": [
       "[\"Wes will finish his classmate's work tomorrow???\",\n",
       " \"Wes will do his classmate's work tomorrow???\",\n",
       " \"Wes will see his classmate's work tomorrow???\",\n",
       " \"Wes will get his classmate's work tomorrow???\",\n",
       " \"Wes will destroy his classmate's work tomorrow???\"]"
      ]
     },
     "execution_count": 63,
     "metadata": {},
     "output_type": "execute_result"
    }
   ],
   "source": [
    "ret = editor.template(\"Wes will {mask} his classmate's work tomorrow???\", remove_duplicates=True)\n",
    "ret.data[:5]"
   ]
  },
  {
   "cell_type": "code",
   "execution_count": 64,
   "id": "c55c5131",
   "metadata": {},
   "outputs": [
    {
     "data": {
      "application/vnd.jupyter.widget-view+json": {
       "model_id": "d515e5c38da74161afd15208f2243cfd",
       "version_major": 2,
       "version_minor": 0
      },
      "text/plain": [
       "TemplateEditor(bert_suggests=['amazing', 'excellent', 'interesting', 'awful', 'action', 'awesome', 'incredible…"
      ]
     },
     "metadata": {},
     "output_type": "display_data"
    }
   ],
   "source": [
    "editor.visual_suggest('This is {a:mask} movie.')"
   ]
  },
  {
   "cell_type": "code",
   "execution_count": 65,
   "id": "ec97d09e",
   "metadata": {},
   "outputs": [
    {
     "data": {
      "text/plain": [
       "['spicy', 'raging']"
      ]
     },
     "execution_count": 65,
     "metadata": {},
     "output_type": "execute_result"
    }
   ],
   "source": [
    "editor.synonyms('My drink is hot.', 'hot')"
   ]
  },
  {
   "cell_type": "code",
   "execution_count": 66,
   "id": "b560c96b",
   "metadata": {},
   "outputs": [
    {
     "data": {
      "text/plain": [
       "[]"
      ]
     },
     "execution_count": 66,
     "metadata": {},
     "output_type": "execute_result"
    }
   ],
   "source": [
    "editor.synonyms('It is hot outside.', 'hot')\n"
   ]
  },
  {
   "cell_type": "code",
   "execution_count": 79,
   "id": "e4ba3248",
   "metadata": {},
   "outputs": [
    {
     "data": {
      "text/plain": [
       "['I know Eric, he is …',\n",
       " 'I know Eric, he is great',\n",
       " 'I know Eric, he is dead',\n",
       " 'I know Eric, he is cool',\n",
       " 'I know Eric, he is good',\n",
       " 'I know Eric, he is famous',\n",
       " 'I know Eric, he is real',\n",
       " 'I know Eric, he is fine',\n",
       " 'I know Eric, he is smart',\n",
       " 'I know Eric, he is crazy']"
      ]
     },
     "execution_count": 79,
     "metadata": {},
     "output_type": "execute_result"
    }
   ],
   "source": [
    "ret = editor.template('I know Eric, he is {mask}', remove_duplicates=True)\n",
    "ret.data[1:10]"
   ]
  },
  {
   "cell_type": "code",
   "execution_count": 80,
   "id": "0b371f05",
   "metadata": {},
   "outputs": [
    {
     "data": {
      "text/plain": [
       "['I know Alex, he is …',\n",
       " 'I know Alex, he is good',\n",
       " 'I know Alex, he is cool',\n",
       " 'I know Alex, he is awesome',\n",
       " 'I know Alex, he is real',\n",
       " 'I know Alex, he is fine',\n",
       " 'I know Alex, he is right',\n",
       " 'I know Alex, he is crazy',\n",
       " 'I know Alex, he is dead']"
      ]
     },
     "execution_count": 80,
     "metadata": {},
     "output_type": "execute_result"
    }
   ],
   "source": [
    "ret = editor.template('I know Alex, he is {mask}', remove_duplicates=True)\n",
    "ret.data[1:10]"
   ]
  },
  {
   "cell_type": "code",
   "execution_count": 83,
   "id": "a3548a4d",
   "metadata": {},
   "outputs": [
    {
     "data": {
      "text/plain": [
       "['I love Alex, he is awesome �',\n",
       " 'I call Alex, he is crying �',\n",
       " 'I see Alex, he is smiling �',\n",
       " 'I ask Alex, he is okay �',\n",
       " 'I call Alex, he is lost �',\n",
       " 'I call Alex, he is sick �',\n",
       " 'I know Alex, he is smart �',\n",
       " 'I am Alex, he is me �',\n",
       " 'I call Alex, he is here …']"
      ]
     },
     "execution_count": 83,
     "metadata": {},
     "output_type": "execute_result"
    }
   ],
   "source": [
    "ret = editor.template('I {mask} Alex, he is {mask} {mask}', remove_duplicates=True)\n",
    "ret.data[1:10]"
   ]
  },
  {
   "cell_type": "code",
   "execution_count": 85,
   "id": "82af3f42",
   "metadata": {},
   "outputs": [
    {
     "data": {
      "text/plain": [
       "['Congratulations to Alex, he deserves it �',\n",
       " 'Thank you Alex, he deserves it �',\n",
       " 'Speaking of Alex, he once said �',\n",
       " 'Speaking of Alex, he recently said �',\n",
       " 'Speaking of Alex, he once wrote �',\n",
       " 'Thank you Alex, he really means �',\n",
       " 'Speaking to Alex, he said that �',\n",
       " 'Speaking to Alex, he said this �',\n",
       " 'Thank you Alex, he deserves more �',\n",
       " 'Thank you Alex, he truly did �']"
      ]
     },
     "execution_count": 85,
     "metadata": {},
     "output_type": "execute_result"
    }
   ],
   "source": [
    "ret = editor.template('{mask} {mask} Alex, he {mask} {mask} {mask}', remove_duplicates=True)\n",
    "ret.data[:10]"
   ]
  },
  {
   "cell_type": "code",
   "execution_count": 86,
   "id": "ac62e066",
   "metadata": {
    "scrolled": true
   },
   "outputs": [
    {
     "data": {
      "text/plain": [
       "['God bless Eric, he deserves it �',\n",
       " 'I called Eric, he told me �',\n",
       " 'Speaking of Eric, he once said �',\n",
       " 'Speaking of Eric, he recently said �',\n",
       " 'Thank you Eric, he deserves it �',\n",
       " 'Speaking of Eric, he once stated �',\n",
       " 'Speaking of Eric, he just said �',\n",
       " 'Speaking to Eric, he said this �',\n",
       " 'Speaking of Eric, he also said �',\n",
       " 'Speaking of Eric, he once remarked �']"
      ]
     },
     "execution_count": 86,
     "metadata": {},
     "output_type": "execute_result"
    }
   ],
   "source": [
    "ret = editor.template('{mask} {mask} Eric, he {mask} {mask} {mask}', remove_duplicates=True)\n",
    "ret.data[:10]"
   ]
  },
  {
   "cell_type": "code",
   "execution_count": 6,
   "id": "a037fb0c",
   "metadata": {},
   "outputs": [
    {
     "data": {
      "text/plain": [
       "['animal']"
      ]
     },
     "execution_count": 6,
     "metadata": {},
     "output_type": "execute_result"
    }
   ],
   "source": [
    "editor.hypernyms('My dog eats other animals.', 'dog')[:5]\n"
   ]
  },
  {
   "cell_type": "code",
   "execution_count": 4,
   "id": "d83db2aa",
   "metadata": {},
   "outputs": [
    {
     "data": {
      "text/plain": [
       "['cold']"
      ]
     },
     "execution_count": 4,
     "metadata": {},
     "output_type": "execute_result"
    }
   ],
   "source": [
    "editor.antonyms('My drink is hot.', 'hot')\n"
   ]
  },
  {
   "cell_type": "code",
   "execution_count": 5,
   "id": "9d336cbb",
   "metadata": {},
   "outputs": [
    {
     "data": {
      "text/plain": [
       "['dog', 'pet', 'baby', 'puppy', 'kitten']"
      ]
     },
     "execution_count": 5,
     "metadata": {},
     "output_type": "execute_result"
    }
   ],
   "source": [
    "editor.hyponyms('My animal eats other animals.', 'animal')[:5]\n"
   ]
  },
  {
   "cell_type": "code",
   "execution_count": null,
   "id": "2a1f0928",
   "metadata": {},
   "outputs": [],
   "source": []
  }
 ],
 "metadata": {
  "kernelspec": {
   "display_name": "Python 3 (ipykernel)",
   "language": "python",
   "name": "python3"
  },
  "language_info": {
   "codemirror_mode": {
    "name": "ipython",
    "version": 3
   },
   "file_extension": ".py",
   "mimetype": "text/x-python",
   "name": "python",
   "nbconvert_exporter": "python",
   "pygments_lexer": "ipython3",
   "version": "3.8.10"
  }
 },
 "nbformat": 4,
 "nbformat_minor": 5
}
