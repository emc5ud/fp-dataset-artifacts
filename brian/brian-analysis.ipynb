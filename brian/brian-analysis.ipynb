{
 "cells": [
  {
   "cell_type": "code",
   "execution_count": 1,
   "id": "2b81ff0c",
   "metadata": {},
   "outputs": [],
   "source": [
    "import pandas as pd\n",
    "import json\n",
    "import matplotlib.pyplot as plt\n",
    "import random "
   ]
  },
  {
   "cell_type": "code",
   "execution_count": 3,
   "id": "df663f74",
   "metadata": {},
   "outputs": [],
   "source": [
    "def load_jsonl(input_path) -> list:\n",
    "    \"\"\"\n",
    "    Read list of objects from a JSON lines file.\n",
    "    \"\"\"\n",
    "    data = []\n",
    "    with open(input_path, 'r', encoding='utf-8') as f:\n",
    "        for line in f:\n",
    "            data.append(json.loads(line.rstrip('\\n|\\r')))\n",
    "    print('Loaded {} records from {}'.format(len(data), input_path))\n",
    "    db_data = []\n",
    "    db_cols = ['premise', 'hypothesis', 'label', 'predicted_scores', 'predicted_label']\n",
    "    for d in data:\n",
    "        db_data.append([])\n",
    "        for col in db_cols:\n",
    "            db_data[-1].append(d.get(col, float('nan')))\n",
    "    return pd.DataFrame(db_data, columns=db_cols)"
   ]
  },
  {
   "cell_type": "markdown",
   "id": "81ea2cc6",
   "metadata": {},
   "source": [
    "# Evaluation on original set"
   ]
  },
  {
   "cell_type": "code",
   "execution_count": 83,
   "id": "8eae4ff2",
   "metadata": {},
   "outputs": [
    {
     "name": "stdout",
     "output_type": "stream",
     "text": [
      "Loaded 9842 records from eval_results/original_predictions.jsonl\n",
      "Example premise:  Two women are embracing while holding to go packages.\n",
      "Example hypothesis:  Two woman are holding packages.\n"
     ]
    }
   ],
   "source": [
    "df_og = load_jsonl('eval_results/original_predictions.jsonl')\n",
    "print(\"Example premise: \", df_og.loc[1][0])\n",
    "print(\"Example hypothesis: \", df_og.loc[1][1])"
   ]
  },
  {
   "cell_type": "code",
   "execution_count": 13,
   "id": "885039fa",
   "metadata": {},
   "outputs": [
    {
     "name": "stdout",
     "output_type": "stream",
     "text": [
      "Accuracy:  0.896\n"
     ]
    }
   ],
   "source": [
    "print(\"Accuracy: \", \"%.3f\" % (1 - len(df_og.loc[df_og['label']!=df_og['predicted_label']])/len(df_og)))"
   ]
  },
  {
   "cell_type": "code",
   "execution_count": 20,
   "id": "720d9d63",
   "metadata": {},
   "outputs": [
    {
     "data": {
      "text/plain": [
       "Text(0.5, 1.0, 'Distribution of predicted labels')"
      ]
     },
     "execution_count": 20,
     "metadata": {},
     "output_type": "execute_result"
    },
    {
     "data": {
      "image/png": "[encoded data removed]",
      "text/plain": [
       "<Figure size 432x288 with 1 Axes>"
      ]
     },
     "metadata": {
      "needs_background": "light"
     },
     "output_type": "display_data"
    }
   ],
   "source": [
    "df_og['predicted_label'].value_counts().plot(kind='bar')\n",
    "plt.title(\"Distribution of predicted labels\")"
   ]
  },
  {
   "cell_type": "markdown",
   "id": "83db4d5f",
   "metadata": {},
   "source": [
    "# Evaluation on set with repeated hypotheses"
   ]
  },
  {
   "cell_type": "code",
   "execution_count": 82,
   "id": "3f7d15d8",
   "metadata": {},
   "outputs": [
    {
     "name": "stdout",
     "output_type": "stream",
     "text": [
      "Loaded 9842 records from eval_results/repeat_predictions.jsonl\n",
      "Example premise:  Two women are embracing while holding to go packages.\n",
      "Example hypothesis:  Two woman are holding packages. Two woman are holding packages.\n"
     ]
    }
   ],
   "source": [
    "df_rp = load_jsonl('eval_results/repeat_predictions.jsonl')\n",
    "print(\"Example premise: \", df_rp.loc[1][0])\n",
    "print(\"Example hypothesis: \", df_rp.loc[1][1])"
   ]
  },
  {
   "cell_type": "code",
   "execution_count": 22,
   "id": "06ecbb08",
   "metadata": {},
   "outputs": [
    {
     "name": "stdout",
     "output_type": "stream",
     "text": [
      "Accuracy:  0.496\n"
     ]
    }
   ],
   "source": [
    "print(\"Accuracy: \", \"%.3f\" % (1 - len(df_rp.loc[df_rp['label']!=df_rp['predicted_label']])/len(df_rp)))"
   ]
  },
  {
   "cell_type": "markdown",
   "id": "5cd8542c",
   "metadata": {},
   "source": [
    "This is assuming true labels do not change when hypotheses are repeated."
   ]
  },
  {
   "cell_type": "code",
   "execution_count": 23,
   "id": "b91b379a",
   "metadata": {},
   "outputs": [
    {
     "data": {
      "text/plain": [
       "Text(0.5, 1.0, 'Distribution of predicted labels')"
      ]
     },
     "execution_count": 23,
     "metadata": {},
     "output_type": "execute_result"
    },
    {
     "data": {
      "image/png": "[encoded data removed]",
      "text/plain": [
       "<Figure size 432x288 with 1 Axes>"
      ]
     },
     "metadata": {
      "needs_background": "light"
     },
     "output_type": "display_data"
    }
   ],
   "source": [
    "df_rp['predicted_label'].value_counts().plot(kind='bar')\n",
    "plt.title(\"Distribution of predicted labels\")"
   ]
  },
  {
   "cell_type": "code",
   "execution_count": 85,
   "id": "efbff62c",
   "metadata": {},
   "outputs": [
    {
     "data": {
      "text/plain": [
       "1690"
      ]
     },
     "execution_count": 85,
     "metadata": {},
     "output_type": "execute_result"
    }
   ],
   "source": [
    "cont_to_ent = df_rp.index[(df_og['label']==2) & (df_og['predicted_label']==2) & (df_rp['predicted_label']==0)]\n",
    "len(cont_to_ent)"
   ]
  },
  {
   "cell_type": "markdown",
   "id": "2429c76b",
   "metadata": {},
   "source": [
    "1690 examples were correctly predicted as contradictions in the original dataset but were predicted as entailments in the repeated dataset. "
   ]
  },
  {
   "cell_type": "code",
   "execution_count": 88,
   "id": "f81ae2a8",
   "metadata": {
    "scrolled": true
   },
   "outputs": [
    {
     "name": "stdout",
     "output_type": "stream",
     "text": [
      "Premise:  A man waving at the camera holding a stick with a pile of wood.\n",
      "\n",
      "Original hypothesis:  The man hit the camera.\n",
      "Predicted label:  2\n",
      "\n",
      "Repeated hypothesis:  The man hit the camera. The man hit the camera.\n",
      "Predicted label:  0\n"
     ]
    }
   ],
   "source": [
    "ex = cont_to_ent[random.randrange(len(cont_to_ent))]\n",
    "print(\"Premise: \", df_og.loc[ex][0])\n",
    "print()\n",
    "print(\"Original hypothesis: \", df_og.loc[ex][1])\n",
    "print(\"Predicted label: \", df_og.loc[ex][4])\n",
    "print()\n",
    "print(\"Repeated hypothesis: \", df_rp.loc[ex][1])\n",
    "print(\"Predicted label: \", df_rp.loc[ex][4])"
   ]
  }
 ],
 "metadata": {
  "kernelspec": {
   "display_name": "Python 3",
   "language": "python",
   "name": "python3"
  },
  "language_info": {
   "codemirror_mode": {
    "name": "ipython",
    "version": 3
   },
   "file_extension": ".py",
   "mimetype": "text/x-python",
   "name": "python",
   "nbconvert_exporter": "python",
   "pygments_lexer": "ipython3",
   "version": "3.7.10"
  }
 },
 "nbformat": 4,
 "nbformat_minor": 5
}
